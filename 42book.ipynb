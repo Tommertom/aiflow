{
 "cells": [
  {
   "cell_type": "markdown",
   "metadata": {},
   "source": [
    "# 42....so what'd is next?"
   ]
  },
  {
   "cell_type": "code",
   "execution_count": 1,
   "metadata": {},
   "outputs": [],
   "source": [
    "from dotenv import load_dotenv\n",
    "import os\n",
    "import json\n",
    "\n",
    "load_dotenv()\n",
    "API_KEY = os.getenv(\"API_KEY\")\n",
    "from aiflow import AIFlow,Model\n",
    "\n",
    "ai = AIFlow(api_key=API_KEY, model=Model.GPT_4O_MINI, max_tokens=4096, temperature=0)"
   ]
  },
  {
   "cell_type": "code",
   "execution_count": 3,
   "metadata": {},
   "outputs": [
    {
     "name": "stdout",
     "output_type": "stream",
     "text": [
      "book_title, book_purpose, latest_prompt, latest, toc, toc_json\n"
     ]
    },
    {
     "data": {
      "text/plain": [
       "{<aiflow.AIFlow at 0x168f4213430>}"
      ]
     },
     "execution_count": 3,
     "metadata": {},
     "output_type": "execute_result"
    }
   ],
   "source": [
    "# State saving and other filenames\n",
    "state_save_file = \"42_state.json\"\n",
    "docx_output_filename = \"output\\\\42.docx\"\n",
    "\n",
    "# comment this if you don't want it\n",
    "ai.load_internal_state(filename=state_save_file).display_context_keys()\n",
    "\n",
    "# we don't care if this overrules the things loaded in state. They are static anyway.\n",
    "{\n",
    "    ai.set_verbose(False)\n",
    "    .set_context_of(label=\"book_title\", content=\"42.....so what's next?\")\n",
    "    .set_context_of(\n",
    "        label=\"book_purpose\",\n",
    "        content=\"The book is extending on the famous book The Hitchikers' Guide to the Galaxy by douglas adams. The main characters is a team of four people who take the answer 42 and embark on a journey to build the technology that allows this answer to be applied to all human and humanlike creatures in the galaxy.\",\n",
    "    )\n",
    "}"
   ]
  },
  {
   "cell_type": "markdown",
   "metadata": {},
   "source": [
    "## TOC"
   ]
  },
  {
   "cell_type": "code",
   "execution_count": 4,
   "metadata": {},
   "outputs": [
    {
     "name": "stderr",
     "output_type": "stream",
     "text": [
      "2024-08-17 16:41:26,526 - INFO - HTTP Request: POST https://api.openai.com/v1/chat/completions \"HTTP/1.1 200 OK\"\n",
      "2024-08-17 16:41:26,579 - ERROR - Unexpected error: 'AIFlow' object has no attribute 'add_token_usage'\n"
     ]
    },
    {
     "data": {
      "text/markdown": [
       "An unexpected error occurred."
      ],
      "text/plain": [
       "<IPython.core.display.Markdown object>"
      ]
     },
     "metadata": {},
     "output_type": "display_data"
    }
   ],
   "source": [
    "ai.generate_completion(\n",
    "    label=\"toc\",\n",
    "    prompt=\"Give me the table of content for a book with the title [book_title]. [book_purpose]\",\n",
    ").save_internal_state(filename=state_save_file).display_latest_context_as_markdown()"
   ]
  },
  {
   "cell_type": "code",
   "execution_count": 7,
   "metadata": {},
   "outputs": [
    {
     "name": "stderr",
     "output_type": "stream",
     "text": [
      "2024-08-17 16:31:28,414 - ERROR - Unexpected error: Object of type Model is not JSON serializable\n"
     ]
    },
    {
     "data": {
      "text/markdown": [
       "An unexpected error occurred."
      ],
      "text/plain": [
       "<IPython.core.display.Markdown object>"
      ]
     },
     "metadata": {},
     "output_type": "display_data"
    }
   ],
   "source": [
    "ai.save_internal_state(filename=state_save_file).set_json_output(True).generate_completion(\n",
    "    label=\"toc_json\",\n",
    "    prompt=\"Convert the text below into json. Only take the prologue, the chapters and epilogue. Skip the appendices, acknowledgments and the About the auther. The JSON must be an array which element representing: the title and the rest as content.\\n\\n[toc]\",\n",
    ").set_json_output(False).display_latest_context_as_markdown()"
   ]
  },
  {
   "cell_type": "code",
   "execution_count": 9,
   "metadata": {},
   "outputs": [
    {
     "ename": "AttributeError",
     "evalue": "'AIFlow' object has no attribute 'return_context_to_text'",
     "output_type": "error",
     "traceback": [
      "\u001b[1;31m---------------------------------------------------------------------------\u001b[0m",
      "\u001b[1;31mAttributeError\u001b[0m                            Traceback (most recent call last)",
      "\u001b[1;32mc:\\Data\\src\\aifllow\\42book.ipynb Cell 7\u001b[0m line \u001b[0;36m2\n\u001b[0;32m      <a href='vscode-notebook-cell:/c%3A/Data/src/aifllow/42book.ipynb#W6sZmlsZQ%3D%3D?line=0'>1</a>\u001b[0m ai\u001b[39m.\u001b[39msave_internal_state(filename\u001b[39m=\u001b[39mstate_save_file)\n\u001b[1;32m----> <a href='vscode-notebook-cell:/c%3A/Data/src/aifllow/42book.ipynb#W6sZmlsZQ%3D%3D?line=1'>2</a>\u001b[0m json_string \u001b[39m=\u001b[39m ai\u001b[39m.\u001b[39;49mreturn_context_to_text(label\u001b[39m=\u001b[39m\u001b[39m\"\u001b[39m\u001b[39mtoc_json\u001b[39m\u001b[39m\"\u001b[39m)\n\u001b[0;32m      <a href='vscode-notebook-cell:/c%3A/Data/src/aifllow/42book.ipynb#W6sZmlsZQ%3D%3D?line=2'>3</a>\u001b[0m json_object \u001b[39m=\u001b[39m json\u001b[39m.\u001b[39mloads(json_string)\n\u001b[0;32m      <a href='vscode-notebook-cell:/c%3A/Data/src/aifllow/42book.ipynb#W6sZmlsZQ%3D%3D?line=3'>4</a>\u001b[0m list_of_chapters \u001b[39m=\u001b[39m json_object[\u001b[39m\"\u001b[39m\u001b[39mbook\u001b[39m\u001b[39m\"\u001b[39m]\n",
      "\u001b[1;31mAttributeError\u001b[0m: 'AIFlow' object has no attribute 'return_context_to_text'"
     ]
    }
   ],
   "source": [
    "ai.save_internal_state(filename=state_save_file)\n",
    "json_string = ai.get_context_as_text(label=\"toc_json\")\n",
    "json_object = json.loads(json_string)\n",
    "list_of_chapters = json_object[\"book\"]\n",
    "print(list_of_chapters)"
   ]
  },
  {
   "cell_type": "markdown",
   "metadata": {},
   "source": [
    "## The writing of text"
   ]
  },
  {
   "cell_type": "code",
   "execution_count": 15,
   "metadata": {},
   "outputs": [
    {
     "data": {
      "text/markdown": [
       "After discovering that the answer to the ultimate question of life, the universe, and everything is 42, our team of intrepid adventurers set out on a quest to uncover the question itself. Armed with their trusty guidebook and a spaceship powered by improbability, they journeyed through the galaxy in search of the elusive Ultimate Question.\n",
       "\n",
       "Chapter 1: Prologue: The Ultimate Question\n",
       "\n",
       "As our team of four sat around the table in the spaceship's common area, they couldn't help but feel a sense of excitement and anticipation. The answer was in their grasp, but now they needed to uncover the question that would unlock its true meaning.\n",
       "\n",
       "\"Alright, team,\" said the leader, a quirky scientist named Dr. Zaphod. \"We've got our work cut out for us. The Ultimate Question is out there somewhere, waiting to be discovered. Let's get to it!\"\n",
       "\n",
       "With a sense of determination, the team set off on their quest, traveling to distant planets and meeting strange and wonderful creatures along the way. They encountered talking dolphins, sentient plants, and even a group of hyper-intelligent shades of the color blue.\n",
       "\n",
       "But no matter where they went, the Ultimate Question remained elusive. It seemed to be just out of reach, taunting them with its mystery and complexity. As they searched high and low, the team began to wonder if they would ever find the answer they were looking for.\n",
       "\n",
       "Then, one day, as they were exploring a particularly peculiar planet, they stumbled upon a group of ancient beings known as the Questioners. These wise and enigmatic creatures had been searching for the Ultimate Question for centuries, and they were willing to share their knowledge with our team.\n",
       "\n",
       "\"Ah, you seek the Ultimate Question,\" said the eldest Questioner, a being with a beard made of stardust. \"It is a question that has puzzled the greatest minds in the galaxy for eons. But fear not, for we have the key to unlocking its true meaning.\"\n",
       "\n",
       "With bated breath, the team listened as the Questioners revealed the Ultimate Question to them. And as the words echoed through the spaceship, a sense of wonder and awe filled the room. The answer, it seemed, was just the beginning of their journey.\n",
       "\n",
       "And so, with the Ultimate Question finally in their grasp, our team of adventurers set off once more, ready to uncover the true meaning of life, the universe, and everything. The quest had only just begun, but they were determined to see it through to the end.\n",
       "\n",
       "To be continued..."
      ],
      "text/plain": [
       "<IPython.core.display.Markdown object>"
      ]
     },
     "metadata": {},
     "output_type": "display_data"
    },
    {
     "name": "stdout",
     "output_type": "stream",
     "text": [
      "------------------------------------------------------------------------------------------------------\n",
      "The team of adventurers set out on a quest to uncover the Ultimate Question after discovering that the answer is 42. They traveled through the galaxy, encountering strange creatures and searching for the elusive question. They eventually found a group of ancient beings called the Questioners who revealed the Ultimate Question to them. With the question in hand, the team continued their journey to uncover the true meaning of life, the universe, and everything.\n"
     ]
    },
    {
     "data": {
      "text/markdown": [
       "**Chapter 1: The Team Assembles**\n",
       "\n",
       "Meet the Four\n",
       "\n",
       "In a galaxy not so far away, where improbability drives and sentient mattresses were the norm, four individuals found themselves inexplicably drawn together by the most peculiar of missions. First, there was Zaphod Beeblebrox, the two-headed, three-armed ex-President of the Galaxy, who had recently discovered that his left head had developed a fondness for knitting. Then there was Trillian, the astrophysicist and mathematician who had once been a human named Tricia McMillan before hitching a ride on Zaphod's spaceship. Ford Prefect, the roguish researcher for the Hitchhiker's Guide to the Galaxy, was also part of the crew, having narrowly escaped being turned into a sofa by a particularly grumpy Vogon. Lastly, there was Arthur Dent, the perpetually bewildered Earthman who still couldn't quite believe that tea was so hard to come by in space.\n",
       "\n",
       "A New Mission\n",
       "\n",
       "The quartet had been lounging around the Heart of Gold, Zaphod's improbability-driven spaceship, when a message from the Guide's central computer interrupted their game of intergalactic charades. \"Greetings, esteemed hitchhikers,\" the computer intoned in a voice that sounded suspiciously like a bored British butler. \"You have been selected for a mission of utmost importance. The answer to life, the universe, and everything is 42. Your task is to create a technology that allows this answer to be applied to all human and humanlike creatures in the galaxy.\"\n",
       "\n",
       "Arthur blinked. \"But 42 is just a number. How are we supposed to apply it to anything?\"\n",
       "\n",
       "Ford grinned. \"That's the beauty of it, Arthur. It's so absurd, it just might work.\"\n",
       "\n",
       "Zaphod's left head, which had been knitting a rather fetching scarf, chimed in. \"Piece of cake! We'll just need a blueprint, some hyper-spanners, and a whole lot of improbability.\"\n",
       "\n",
       "The Blueprint for 42\n",
       "\n",
       "Trillian, ever the practical one, pulled out a holographic tablet and began sketching. \"Alright, let's think this through. If 42 is the answer, then we need a device that can interpret any question and provide a meaningful application of 42.\"\n",
       "\n",
       "Ford nodded. \"Right. So, we need a Question-Answer-Application Matrix, or QAAM for short.\"\n",
       "\n",
       "Zaphod's right head, which had been napping, suddenly woke up. \"QAAM? Sounds like a type of interstellar jam. I like it!\"\n",
       "\n",
       "Arthur, still trying to wrap his head around the concept, asked, \"But what if the question is something like 'What's the best way to make a cup of tea?' How does 42 help with that?\"\n",
       "\n",
       "Trillian smiled. \"Simple. The QAAM would analyze the question, determine the optimal tea-making process, and then somehow incorporate the number 42. Maybe it suggests brewing the tea for 42 seconds, or using 42 tea leaves.\"\n",
       "\n",
       "Ford clapped Arthur on the back. \"See? It's all about creative interpretation.\"\n",
       "\n",
       "As the team continued to brainstorm, the Heart of Gold's improbability drive hummed contentedly, occasionally turning random objects into petunias and back again. Zaphod's left head finished the scarf and started on a matching hat, while his right head began composing a song about the wonders of 42.\n",
       "\n",
       "Arthur, still somewhat skeptical but intrigued, finally said, \"Alright, I'm in. Let's build this QAAM and see where it takes us.\"\n",
       "\n",
       "And so, with a mixture of excitement, confusion, and a healthy dose of improbability, the team set off on their new mission. Little did they know, their journey would involve encounters with sentient cheese, a planet where everyone spoke in limericks, and a particularly stubborn cup of tea that refused to be brewed in less than 43 seconds.\n",
       "\n",
       "But that, dear reader, is a story for another chapter."
      ],
      "text/plain": [
       "<IPython.core.display.Markdown object>"
      ]
     },
     "metadata": {},
     "output_type": "display_data"
    },
    {
     "name": "stdout",
     "output_type": "stream",
     "text": [
      "------------------------------------------------------------------------------------------------------\n",
      "The main actions happening to the characters in the text include:\n",
      "- Zaphod Beeblebrox, Trillian, Ford Prefect, and Arthur Dent are inexplicably drawn together for a peculiar mission.\n",
      "- They receive a message from the Guide's central computer about creating a technology to apply the answer to life, the universe, and everything (42) to all human and humanlike creatures in the galaxy.\n",
      "- The team brainstorm and come up with a blueprint for a Question-Answer-Application Matrix (QAAM) to achieve this.\n",
      "- They set off on their new mission with a mixture of excitement, confusion, and improbability, encountering strange and humorous situations along the way.\n"
     ]
    },
    {
     "data": {
      "text/markdown": [
       "**Chapter 2: The First Steps**\n",
       "\n",
       "The Galactic Bureaucracy, Acquiring Resources, The First Prototype\n",
       "\n",
       "---\n",
       "\n",
       "The team of four—Zaphod Beeblebrox, Ford Prefect, Trillian, and Arthur Dent—sat around a table in the Heart of Gold, the spaceship that had become their home and laboratory. The table was cluttered with blueprints, half-eaten sandwiches, and a small, disgruntled robot named Marvin who was muttering something about the futility of existence.\n",
       "\n",
       "\"So, we have the answer,\" Zaphod said, his two heads nodding in unison. \"42. Now, we just need to figure out the question and build the technology to apply it to all human and humanlike creatures in the galaxy. Easy peasy, right?\"\n",
       "\n",
       "Arthur, who was still trying to wrap his head around the fact that he was no longer on Earth, let alone the fact that Earth had been destroyed, sighed. \"Right. Easy. Just like making a cup of tea.\"\n",
       "\n",
       "Ford, who had been scribbling something on a napkin, looked up. \"First things first, we need to navigate the Galactic Bureaucracy to get the necessary permits and resources.\"\n",
       "\n",
       "Trillian groaned. \"The Galactic Bureaucracy? That's worse than Vogon poetry!\"\n",
       "\n",
       "\"Exactly,\" Ford said, grinning. \"But we have no choice. We need to get the permits to acquire the resources to build the first prototype.\"\n",
       "\n",
       "The team set off to the Galactic Bureaucracy headquarters, a massive, labyrinthine building that seemed to defy the laws of physics and common sense. They were greeted by a Vogon clerk who looked like he had been born to make people's lives miserable.\n",
       "\n",
       "\"Name?\" the Vogon grunted.\n",
       "\n",
       "\"Zaphod Beeblebrox,\" Zaphod said, flashing his most charming smile.\n",
       "\n",
       "The Vogon looked unimpressed. \"Reason for visit?\"\n",
       "\n",
       "\"We need permits to acquire resources to build a technology that applies the answer 42 to all human and humanlike creatures in the galaxy,\" Ford said, as if it were the most normal request in the world.\n",
       "\n",
       "The Vogon stared at them for a moment, then burst into laughter. \"Good luck with that,\" he said, handing them a stack of forms that was taller than Marvin.\n",
       "\n",
       "After hours of filling out forms, standing in lines, and listening to Vogon poetry (which was apparently a mandatory part of the process), the team finally got their permits.\n",
       "\n",
       "\"That was worse than being stuck in a lift with Marvin,\" Arthur muttered.\n",
       "\n",
       "\"Hey, I heard that,\" Marvin said, his eyes glowing with a mixture of annoyance and existential dread.\n",
       "\n",
       "With the permits in hand, the team set off to acquire the resources they needed. This involved a series of increasingly bizarre and hilarious encounters, including negotiating with a group of sentient cheese wheels and outsmarting a particularly cunning intergalactic used spaceship salesman.\n",
       "\n",
       "Finally, they had everything they needed to build the first prototype. They returned to the Heart of Gold and got to work. The ship's improbability drive made the process both easier and more confusing, as parts appeared and disappeared at random intervals.\n",
       "\n",
       "After what felt like an eternity (but was actually only a few hours, thanks to the ship's wonky time perception), the first prototype was complete. It looked like a cross between a toaster and a Rubik's Cube, with a few extra buttons and a small screen that displayed the number 42.\n",
       "\n",
       "\"Well, it looks... interesting,\" Trillian said, trying to be diplomatic.\n",
       "\n",
       "\"Interesting? It's a work of art!\" Zaphod declared.\n",
       "\n",
       "Arthur, who had been staring at the prototype with a mixture of awe and confusion, finally spoke. \"So, what does it do?\"\n",
       "\n",
       "Ford grinned. \"Let's find out.\"\n",
       "\n",
       "He pressed a button, and the prototype whirred to life. The screen flashed, and a voice that sounded suspiciously like Marvin's said, \"The answer is 42. Now, what's the question?\"\n",
       "\n",
       "The team stared at the prototype, then at each other. They had taken the first steps, but the journey was far from over. And if the Galactic Bureaucracy was any indication, it was going to be a hilariously complicated ride.\n",
       "\n",
       "\"Well,\" Zaphod said, \"so what's next?\"\n",
       "\n",
       "And with that, they set off on their next adventure, ready to tackle whatever the galaxy threw at them."
      ],
      "text/plain": [
       "<IPython.core.display.Markdown object>"
      ]
     },
     "metadata": {},
     "output_type": "display_data"
    },
    {
     "name": "stdout",
     "output_type": "stream",
     "text": [
      "------------------------------------------------------------------------------------------------------\n",
      "The team of Zaphod Beeblebrox, Ford Prefect, Trillian, and Arthur Dent sit around a table in their spaceship, the Heart of Gold, discussing their mission to build technology that applies the answer 42 to all human and humanlike creatures in the galaxy. They navigate the Galactic Bureaucracy to get permits and resources, face challenges and encounters, and finally build the first prototype. The prototype is completed, but they are left wondering what the question is. They set off on their next adventure, ready for whatever comes their way.\n"
     ]
    },
    {
     "data": {
      "text/markdown": [
       "**Chapter 3: Trials and Errors**\n",
       "\n",
       "The laboratory was a chaotic symphony of beeps, whirrs, and the occasional explosion. Arthur Dent, Ford Prefect, Trillian, and Zaphod Beeblebrox stood in the middle of it all, staring at the contraption they had just built. It was a sleek, shiny device with a big red button that screamed \"Do Not Press\" in a way that made it irresistible.\n",
       "\n",
       "\"Right,\" said Arthur, adjusting his dressing gown. \"So, this is supposed to apply the answer 42 to everything?\"\n",
       "\n",
       "\"That's the idea,\" said Ford, who was busy trying to figure out which end of the device was up. \"We just need to test it.\"\n",
       "\n",
       "\"Testing, schmesting,\" Zaphod said, grinning with both heads. \"Let's just press the button and see what happens!\"\n",
       "\n",
       "Trillian, the voice of reason, sighed. \"Zaphod, we need to be careful. We don't know what this thing will do.\"\n",
       "\n",
       "\"Careful is my middle name,\" Zaphod retorted. \"Well, one of them, anyway.\"\n",
       "\n",
       "Before anyone could stop him, Zaphod pressed the big red button. The device hummed to life, lights flashing and gears whirring. For a moment, nothing happened. Then, with a loud pop, the room was filled with a blinding light.\n",
       "\n",
       "When the light faded, the team found themselves standing in the middle of a field of daisies. Arthur looked around, bewildered. \"Where are we?\"\n",
       "\n",
       "Ford checked his guide. \"According to this, we're on the planet Magrathea. But it looks like the device has... altered it.\"\n",
       "\n",
       "\"Altered it how?\" Trillian asked, looking around.\n",
       "\n",
       "\"Well,\" Ford said, scratching his head, \"it seems to have applied the answer 42 to everything. Look at the daisies.\"\n",
       "\n",
       "Arthur bent down and picked one. \"They're all exactly 42 centimeters tall.\"\n",
       "\n",
       "\"And look at the sky,\" Trillian added. \"It's 42 shades of blue.\"\n",
       "\n",
       "Zaphod, meanwhile, was busy trying to figure out how to turn the device off. \"Okay, so maybe we should have tested it a bit more.\"\n",
       "\n",
       "\"Ya think?\" Arthur said, rolling his eyes.\n",
       "\n",
       "Just then, a loud, nasal voice interrupted them. \"What is the meaning of this unauthorized alteration of planetary conditions?\"\n",
       "\n",
       "The team turned to see a group of Vogons marching towards them, their faces twisted in their usual expressions of bureaucratic displeasure.\n",
       "\n",
       "\"Oh no,\" Ford groaned. \"Not the Vogons.\"\n",
       "\n",
       "The lead Vogon, who introduced himself as Prostetnic Vogon Jeltz, glared at them. \"You have violated several intergalactic regulations. Prepare to be recited to.\"\n",
       "\n",
       "Arthur paled. \"Not Vogon poetry!\"\n",
       "\n",
       "\"Quick, Zaphod, do something!\" Trillian urged.\n",
       "\n",
       "Zaphod, in a rare moment of clarity, grabbed the device and pressed the button again. The blinding light returned, and when it faded, they were back in their laboratory, the device smoking slightly.\n",
       "\n",
       "\"Well, that was... interesting,\" Ford said, trying to catch his breath.\n",
       "\n",
       "\"Interesting? We almost got recited to death!\" Arthur exclaimed.\n",
       "\n",
       "\"At least we know the device works,\" Trillian said, ever the optimist.\n",
       "\n",
       "\"Yeah, but we need to figure out how to control it,\" Ford pointed out.\n",
       "\n",
       "Zaphod grinned. \"Hey, at least we didn't blow up the universe. That's progress, right?\"\n",
       "\n",
       "Arthur sighed. \"I suppose. But next time, let's test it on something a bit less... volatile.\"\n",
       "\n",
       "\"Agreed,\" Trillian said. \"Now, let's get back to work. We've got a lot of trials and errors ahead of us.\"\n",
       "\n",
       "As they set to work, the team couldn't help but feel a sense of excitement. They were on the brink of something incredible, even if it did come with a few unexpected consequences. And who knew? Maybe their next visit from the Vogons would be a bit more pleasant. Or at least, less poetic."
      ],
      "text/plain": [
       "<IPython.core.display.Markdown object>"
      ]
     },
     "metadata": {},
     "output_type": "display_data"
    },
    {
     "name": "stdout",
     "output_type": "stream",
     "text": [
      "------------------------------------------------------------------------------------------------------\n",
      "The characters build a device that applies the answer 42 to everything. Zaphod presses the button, transporting them to a field of daisies on the planet Magrathea where everything is in multiples of 42. They are confronted by Vogons, but Zaphod manages to transport them back to the laboratory. They decide to work on controlling the device and feel excited about the possibilities ahead.\n"
     ]
    },
    {
     "data": {
      "text/markdown": [
       "**Chapter 4: The Infinite Improbability Drive**\n",
       "\n",
       "**A New Approach**\n",
       "\n",
       "The team of four—Zaphod Beeblebrox, Ford Prefect, Trillian, and Arthur Dent—sat around a table in the Heart of Gold's improbably luxurious lounge. Zaphod, with his two heads and three arms, was juggling a set of improbability equations while simultaneously trying to eat a sandwich. Ford was busy trying to convince the ship's computer, Eddie, to play some decent music, while Trillian was engrossed in a holographic star map. Arthur, as usual, was nursing a cup of tea and wondering how he had ended up in this mess.\n",
       "\n",
       "\"Alright, team,\" Zaphod said, his left head taking a bite of the sandwich while his right head spoke. \"We've got the answer—42. Now we need to figure out how to apply it to everything and everyone in the galaxy.\"\n",
       "\n",
       "Arthur looked up from his tea. \"But how do we do that? I mean, 42 is just a number. How can it possibly be the answer to everything?\"\n",
       "\n",
       "\"That's the beauty of it, man!\" Ford exclaimed, finally giving up on Eddie and settling for the ship's default playlist of Vogon poetry. \"We don't need to understand it. We just need to build the technology that can apply it.\"\n",
       "\n",
       "**Hitchhiking Across Dimensions**\n",
       "\n",
       "Trillian, who had been silent until now, finally spoke up. \"I've been thinking. What if we use the Infinite Improbability Drive to hitchhike across dimensions? We could gather data from parallel universes and find out how 42 applies in different contexts.\"\n",
       "\n",
       "Zaphod's left head nodded enthusiastically while his right head looked skeptical. \"That's a great idea, Trillian! But how do we control the Improbability Drive? Last time we used it, we ended up as a bowl of petunias and a very surprised-looking whale.\"\n",
       "\n",
       "\"Simple,\" Trillian said, tapping on her star map. \"We program the drive to focus on dimensions where the answer 42 has already been applied successfully. That way, we can gather the data we need without turning into random objects.\"\n",
       "\n",
       "Arthur, who had been quietly sipping his tea, suddenly looked alarmed. \"Wait a minute. Are you saying we're going to be jumping into parallel universes? What if we end up in one where tea doesn't exist?\"\n",
       "\n",
       "Ford clapped Arthur on the back. \"Don't worry, Arthur. In a universe where 42 is the answer, there will always be tea. It's practically a law of nature.\"\n",
       "\n",
       "**The Heart of Gold Revisited**\n",
       "\n",
       "With their plan in place, the team made their way to the Heart of Gold's control room. Zaphod took the helm, his three arms flying over the controls with practiced ease. Ford and Trillian monitored the ship's systems, while Arthur clung to his cup of tea like a lifeline.\n",
       "\n",
       "\"Alright, Eddie,\" Zaphod said, addressing the ship's overly cheerful computer. \"Set the Infinite Improbability Drive to focus on dimensions where 42 is the answer to everything.\"\n",
       "\n",
       "\"Sure thing, Zaphod!\" Eddie replied, his voice dripping with enthusiasm. \"Engaging the Infinite Improbability Drive in 3... 2... 1...\"\n",
       "\n",
       "The ship lurched, and the familiar sensation of being turned inside out and back again washed over the crew. When the world finally stopped spinning, they found themselves in a dimension where everything was made of cheese.\n",
       "\n",
       "\"Well, this is unexpected,\" Ford said, looking around at the cheesy landscape. \"But at least it's not Vogon poetry.\"\n",
       "\n",
       "Arthur, who had somehow managed to keep hold of his tea, took a cautious sip. \"You know, this isn't half bad. Maybe 42 really is the answer to everything.\"\n",
       "\n",
       "Zaphod grinned, both heads nodding in agreement. \"Alright, team. Let's gather the data we need and get back to our own dimension. We've got a galaxy to save, and a lot more improbability to explore.\"\n",
       "\n",
       "As the Heart of Gold prepared for its next jump, the team couldn't help but feel a sense of excitement. After all, when you're hitchhiking across dimensions with the Infinite Improbability Drive, anything is possible—even finding the ultimate question to the ultimate answer."
      ],
      "text/plain": [
       "<IPython.core.display.Markdown object>"
      ]
     },
     "metadata": {},
     "output_type": "display_data"
    },
    {
     "name": "stdout",
     "output_type": "stream",
     "text": [
      "------------------------------------------------------------------------------------------------------\n",
      "The team of Zaphod Beeblebrox, Ford Prefect, Trillian, and Arthur Dent are on the Heart of Gold spaceship, trying to figure out how to apply the answer \"42\" to everything in the galaxy. They decide to use the Infinite Improbability Drive to hitchhike across dimensions and gather data. Despite some unexpected twists, such as ending up in a dimension made of cheese, they remain determined to explore the possibilities of improbability.\n"
     ]
    },
    {
     "data": {
      "text/markdown": [
       "**Chapter 5: The Pan-Galactic Gargle Blaster**\n",
       "\n",
       "**A Toast to Progress**\n",
       "\n",
       "The spaceship Heart of Gold was buzzing with excitement, or perhaps it was just the aftereffects of the Pan-Galactic Gargle Blasters. Either way, the crew of four—Arthur Dent, Ford Prefect, Trillian, and Marvin the Paranoid Android—were in high spirits. They had just made a breakthrough in their quest to apply the answer \"42\" to all human and humanlike creatures in the galaxy. The breakthrough? They had discovered that the answer was not just a number, but a state of mind. And what better way to celebrate than with the galaxy's most potent cocktail?\n",
       "\n",
       "Arthur, who had finally gotten the hang of not spilling his drink in zero gravity, raised his glass. \"To progress!\" he declared, his voice only slightly slurred.\n",
       "\n",
       "\"To progress!\" echoed Ford, who was already on his third Gargle Blaster and showing no signs of stopping.\n",
       "\n",
       "Trillian, ever the voice of reason, sipped her drink cautiously. \"Let's not get too carried away. We still have a lot of work to do.\"\n",
       "\n",
       "Marvin, who had been sulking in the corner, muttered, \"What's the point? We're all going to die anyway.\"\n",
       "\n",
       "\"Cheer up, Marvin,\" said Ford, clapping the robot on the back. \"At least we'll die with a drink in our hands.\"\n",
       "\n",
       "**The Social Implications**\n",
       "\n",
       "As the effects of the Gargle Blasters began to take hold, the crew's conversation turned to the social implications of their discovery. If 42 was a state of mind, how could they ensure that everyone in the galaxy could achieve it?\n",
       "\n",
       "\"We could start a movement,\" suggested Trillian. \"The Cult of 42. We could have followers, rituals, and maybe even a catchy slogan.\"\n",
       "\n",
       "Arthur, who was feeling particularly philosophical, added, \"We could create a universal education system that teaches the principles of 42. Imagine a galaxy where everyone is content and at peace.\"\n",
       "\n",
       "Ford, who was now lying on the floor and staring at the ceiling, said, \"Or we could just give everyone a Pan-Galactic Gargle Blaster. That seems to do the trick.\"\n",
       "\n",
       "Marvin, who had been listening with growing disdain, interjected, \"You do realize that none of this matters, right? The universe is a cold, indifferent place, and no amount of Gargle Blasters will change that.\"\n",
       "\n",
       "\"Thanks for the pep talk, Marvin,\" said Arthur, rolling his eyes.\n",
       "\n",
       "**A Meeting with Zaphod Beeblebrox**\n",
       "\n",
       "Just as the conversation was starting to take a turn for the existential, the ship's intercom crackled to life. \"Incoming transmission from Zaphod Beeblebrox,\" announced the computer.\n",
       "\n",
       "\"Zaphod!\" exclaimed Ford, suddenly sitting up. \"Patch him through!\"\n",
       "\n",
       "The screen flickered, and the two-headed, three-armed former President of the Galaxy appeared. \"Hey, dudes! Long time no see!\" he said, grinning from both faces.\n",
       "\n",
       "\"Zaphod, you old rascal!\" said Ford. \"What brings you to our neck of the galaxy?\"\n",
       "\n",
       "\"I heard you guys were onto something big,\" said Zaphod. \"Something about the answer to life, the universe, and everything?\"\n",
       "\n",
       "\"That's right,\" said Trillian. \"We've discovered that 42 is a state of mind, and we're working on a way to share it with the galaxy.\"\n",
       "\n",
       "\"Far out,\" said Zaphod. \"But you know what would really help? A Pan-Galactic Gargle Blaster. I've got a new recipe that will blow your minds.\"\n",
       "\n",
       "\"Count us in,\" said Ford, already reaching for his glass.\n",
       "\n",
       "As Zaphod began to explain his new concoction, the crew couldn't help but feel a sense of camaraderie. They were on the brink of something monumental, and with a little help from their friends—and a lot of Gargle Blasters—they just might change the galaxy for the better.\n",
       "\n",
       "\"To 42!\" they toasted, raising their glasses once more.\n",
       "\n",
       "\"To 42!\" echoed Zaphod, grinning from ear to ear.\n",
       "\n",
       "And as the Heart of Gold continued its journey through the stars, the crew knew that whatever challenges lay ahead, they would face them together—with a drink in hand and a smile on their faces."
      ],
      "text/plain": [
       "<IPython.core.display.Markdown object>"
      ]
     },
     "metadata": {},
     "output_type": "display_data"
    },
    {
     "name": "stdout",
     "output_type": "stream",
     "text": [
      "------------------------------------------------------------------------------------------------------\n",
      "The crew of the spaceship Heart of Gold, consisting of Arthur Dent, Ford Prefect, Trillian, and Marvin the Paranoid Android, celebrate a breakthrough in their quest to apply the answer \"42\" to all human and humanlike creatures in the galaxy. They discover that 42 is a state of mind and celebrate with Pan-Galactic Gargle Blasters. They discuss the social implications of their discovery and are interrupted by a transmission from Zaphod Beeblebrox, who joins them in their quest. They toast to 42 and face the challenges ahead together.\n"
     ]
    },
    {
     "data": {
      "text/markdown": [
       "**Chapter 6: The Deep Thought Connection**\n",
       "\n",
       "The crew of the Starship \"Infinite Improbability\" had just finished a rather intense game of \"Galactic Charades\" when Zaphod Beeblebrox, with his usual flair for the dramatic, announced, \"Alright, team! Time to consult Deep Thought!\"\n",
       "\n",
       "Arthur Dent, still trying to figure out how to mime a Vogon poetry recital, looked up in confusion. \"Deep Thought? You mean the supercomputer that gave us the answer 42?\"\n",
       "\n",
       "\"Exactly!\" Zaphod replied, his two heads nodding in unison. \"We need to find out how to apply 42 to everything. And who better to ask than the original brainiac itself?\"\n",
       "\n",
       "Ford Prefect, who had been busy trying to teach Marvin the Paranoid Android how to juggle, chimed in, \"You do realize Deep Thought is on the other side of the galaxy, right?\"\n",
       "\n",
       "\"Details, details,\" Zaphod waved dismissively. \"We'll just use the Infinite Improbability Drive. What's the worst that could happen?\"\n",
       "\n",
       "Moments later, after a brief but disconcerting transformation into a bowl of petunias and a very surprised sperm whale, the crew found themselves standing before the ancient, monolithic structure that housed Deep Thought.\n",
       "\n",
       "\"Welcome, seekers of knowledge,\" the supercomputer's deep, resonant voice echoed through the chamber. \"What is it you wish to know?\"\n",
       "\n",
       "Zaphod stepped forward, striking a pose that he clearly thought made him look heroic. \"Oh great Deep Thought, we seek to understand how to apply the answer 42 to all human and humanlike creatures in the galaxy.\"\n",
       "\n",
       "Deep Thought hummed thoughtfully. \"Ah, the answer to the Ultimate Question of Life, the Universe, and Everything. A most intriguing query. But first, let us engage in a philosophical debate.\"\n",
       "\n",
       "Arthur groaned. \"Not another debate. The last one we had with that sentient teapot nearly drove me mad.\"\n",
       "\n",
       "Ignoring Arthur, Deep Thought continued, \"What is the nature of a question? Is it merely a quest for knowledge, or is it a reflection of our deepest desires and fears?\"\n",
       "\n",
       "Ford, always ready for a bit of intellectual sparring, replied, \"A question is a way to seek understanding, to make sense of the chaos around us.\"\n",
       "\n",
       "\"Or,\" Marvin interjected in his usual morose tone, \"it's just a way to prolong the inevitable disappointment of existence.\"\n",
       "\n",
       "\"Cheerful as ever, Marvin,\" Arthur muttered.\n",
       "\n",
       "Deep Thought's lights flickered as it processed the input. \"Interesting perspectives. But consider this: if the answer is 42, then perhaps the true nature of a question is to lead us to the realization that the answer is not as important as the journey to find it.\"\n",
       "\n",
       "Zaphod, looking slightly confused, scratched one of his heads. \"So, you're saying we need to focus on the journey, not just the answer?\"\n",
       "\n",
       "\"Precisely,\" Deep Thought replied. \"The application of 42 is not a simple task. It requires understanding, patience, and a willingness to explore the unknown.\"\n",
       "\n",
       "Arthur sighed. \"Great. More exploring. Just what I needed.\"\n",
       "\n",
       "Ford clapped him on the back. \"Come on, Arthur. Think of it as an adventure. Besides, it's not every day you get to consult a supercomputer about the meaning of life.\"\n",
       "\n",
       "As the crew prepared to leave, Deep Thought offered one final piece of advice. \"Remember, the journey is just as important as the destination. And sometimes, the questions we ask are more important than the answers we seek.\"\n",
       "\n",
       "With that, the crew of the Infinite Improbability set off once more, ready to tackle the next leg of their journey. And as they did, they couldn't help but wonder: if 42 was the answer, what were the questions they needed to ask?\n",
       "\n",
       "As the ship's engines roared to life, Zaphod turned to his crew with a grin. \"Alright, team. So what's next?\"\n",
       "\n",
       "And with that, they were off, ready to face whatever the galaxy had in store for them."
      ],
      "text/plain": [
       "<IPython.core.display.Markdown object>"
      ]
     },
     "metadata": {},
     "output_type": "display_data"
    },
    {
     "name": "stdout",
     "output_type": "stream",
     "text": [
      "------------------------------------------------------------------------------------------------------\n",
      "The crew of the Starship \"Infinite Improbability\" consults Deep Thought to understand how to apply the answer 42 to all human and humanlike creatures in the galaxy. Deep Thought engages them in a philosophical debate about the nature of questions and the importance of the journey over the destination. The crew sets off on their next adventure, pondering the questions they need to ask along the way.\n"
     ]
    },
    {
     "data": {
      "text/markdown": [
       "**Chapter 7: The Galactic Council**\n",
       "\n",
       "The Galactic Council chamber was a sight to behold. Imagine a room the size of a small moon, filled with representatives from every sentient species in the galaxy, each more bizarre than the last. There were beings with tentacles, beings with feathers, beings that looked like sentient blobs of jelly, and even a few that seemed to be made entirely of light. In the center of this chaos stood our intrepid team of four: Zaphod Beeblebrox, Ford Prefect, Arthur Dent, and Trillian.\n",
       "\n",
       "Zaphod, ever the showman, stepped forward to present their groundbreaking technology. \"Ladies, gentlemen, and gelatinous entities,\" he began, flashing his most charming smile. \"We are here to present to you the answer to life, the universe, and everything: 42!\"\n",
       "\n",
       "A murmur of confusion rippled through the chamber. A representative from the planet Blorx, who resembled a giant, sentient marshmallow, raised a squishy appendage. \"But we already know the answer is 42,\" it said in a voice that sounded like a deflating balloon. \"What we need is the question.\"\n",
       "\n",
       "\"Ah, but that's where our technology comes in,\" Zaphod said, winking at the marshmallow. \"We've developed a device that can apply the answer 42 to any question you might have. Behold, the Universal Question Generator!\"\n",
       "\n",
       "Ford stepped forward, holding a sleek, metallic device that looked suspiciously like a toaster. \"This baby can take any question and give you an answer that makes sense,\" he said, patting the device affectionately. \"For example, if you ask it 'What is the meaning of life?' it will tell you '42.' If you ask it 'What is the best way to make a sandwich?' it will also tell you '42,' but in a way that makes perfect sense.\"\n",
       "\n",
       "Arthur, who had been nervously fidgeting with his towel, decided to chime in. \"It's really quite remarkable,\" he said. \"We tested it on a variety of questions, and it always comes up with an answer that is both logical and satisfying. Well, mostly.\"\n",
       "\n",
       "Trillian, ever the voice of reason, stepped forward to address the political implications. \"We understand that this technology could have a profound impact on the galaxy,\" she said. \"That's why we're here to seek the Council's approval before we distribute it. We believe that this device could bring about a new era of understanding and cooperation among all species.\"\n",
       "\n",
       "The chamber erupted into a cacophony of voices as representatives began to debate the merits of the technology. Some were excited about the possibilities, while others were skeptical. A particularly grumpy representative from the planet Zorgon, who looked like a cross between a cactus and a porcupine, stood up to voice his concerns.\n",
       "\n",
       "\"This is all well and good,\" he said, his voice dripping with sarcasm. \"But how do we know this device won't be used for nefarious purposes? What if someone asks it 'How do I conquer the galaxy?' and it gives them a step-by-step guide?\"\n",
       "\n",
       "Zaphod, never one to back down from a challenge, flashed his most disarming grin. \"That's the beauty of it,\" he said. \"The device is programmed to only provide answers that promote peace and harmony. It's foolproof!\"\n",
       "\n",
       "The debate raged on for what felt like hours, with representatives from every corner of the galaxy weighing in. Finally, the Council President, a dignified being with the head of an owl and the body of a kangaroo, called for a vote.\n",
       "\n",
       "\"All in favor of approving the Universal Question Generator, say 'Aye,'\" the President said.\n",
       "\n",
       "A chorus of \"Aye\" echoed through the chamber, followed by a smattering of \"Nay.\" The President tallied the votes and announced the result.\n",
       "\n",
       "\"The motion passes,\" the President said. \"The Universal Question Generator is approved for distribution.\"\n",
       "\n",
       "The team of four let out a collective sigh of relief. They had done it. They had convinced the Galactic Council to approve their technology. As they left the chamber, Zaphod couldn't resist a final quip.\n",
       "\n",
       "\"Well, that was easy,\" he said, flashing his trademark grin. \"Now, let's go find out what 42 really means.\"\n",
       "\n",
       "And with that, they embarked on their next adventure, ready to bring the answer to life, the universe, and everything to the farthest reaches of the galaxy."
      ],
      "text/plain": [
       "<IPython.core.display.Markdown object>"
      ]
     },
     "metadata": {},
     "output_type": "display_data"
    },
    {
     "name": "stdout",
     "output_type": "stream",
     "text": [
      "------------------------------------------------------------------------------------------------------\n",
      "The main actions happening to the characters in the text include presenting a groundbreaking technology called the Universal Question Generator to the Galactic Council, facing skepticism and concerns from some representatives, engaging in a debate about the technology's implications, ultimately convincing the Council to approve the technology for distribution, and preparing to embark on their next adventure to bring the answer to life, the universe, and everything to the galaxy.\n"
     ]
    },
    {
     "data": {
      "text/markdown": [
       "**Chapter 8: The Resistance**\n",
       "\n",
       "The spaceship Heart of Gold II hummed with the kind of energy that only a ship with an Improbability Drive could muster. Arthur Dent, Ford Prefect, Trillian, and Zaphod Beeblebrox were gathered around the central console, staring at the holographic projection of their latest blueprint. The plan was simple: build a device that could apply the answer \"42\" to all questions, thus solving every problem in the galaxy. What could possibly go wrong?\n",
       "\n",
       "\"Everything,\" said Arthur, who had a knack for pessimism. \"Everything could go wrong.\"\n",
       "\n",
       "\"Don't be such a downer, Arthur,\" Zaphod said, his two heads nodding in unison. \"We've got the answer to life, the universe, and everything. How hard can it be to apply it?\"\n",
       "\n",
       "Just then, the ship's alarm blared, and the hologram flickered. Ford smacked the console, and the image stabilized, showing a fleet of ships approaching.\n",
       "\n",
       "\"Looks like we've got company,\" Trillian said, her eyes narrowing. \"And not the friendly kind.\"\n",
       "\n",
       "The Resistance had arrived. A ragtag group of beings from across the galaxy, they were united by one common goal: to stop our heroes from implementing the 42 technology. They believed that applying 42 to everything would lead to a homogenized, boring universe where every question had the same answer.\n",
       "\n",
       "\"Prepare for evasive maneuvers!\" Zaphod shouted, slamming his fist on a big red button labeled \"Do Not Press.\"\n",
       "\n",
       "The ship lurched violently, and Arthur found himself clinging to a nearby chair for dear life. \"Why do we even have that button?\" he yelled.\n",
       "\n",
       "\"Because it's fun!\" Zaphod replied, grinning.\n",
       "\n",
       "As the Heart of Gold II zigzagged through space, the Resistance ships fired a barrage of improbability missiles. One moment, the missiles were deadly projectiles; the next, they turned into a flock of confused penguins, flapping their wings in the vacuum of space.\n",
       "\n",
       "\"Sabotage and intrigue, that's what this is,\" Ford muttered, typing furiously on the console. \"They've hacked into our improbability drive!\"\n",
       "\n",
       "\"Can you fix it?\" Trillian asked, her voice tinged with urgency.\n",
       "\n",
       "\"Of course I can,\" Ford said, \"but it might take a while. In the meantime, we need to figure out who among us is the mole.\"\n",
       "\n",
       "Arthur's eyes widened. \"A mole? Here? But we're all friends!\"\n",
       "\n",
       "\"Exactly,\" Ford said, \"which makes it the perfect cover.\"\n",
       "\n",
       "As they debated who the traitor could be, the ship's AI, Marvin the Paranoid Android, chimed in. \"I hate to interrupt your little witch hunt, but we've got bigger problems. The Resistance is trying to board us.\"\n",
       "\n",
       "\"Great,\" Arthur sighed. \"Just what we needed.\"\n",
       "\n",
       "The team rushed to the airlock, where they found a group of Resistance fighters attempting to breach the ship. Zaphod, ever the showman, pulled out a blaster and struck a dramatic pose.\n",
       "\n",
       "\"Prepare to meet your doom!\" he shouted, firing wildly. Unfortunately, his aim was as good as his sense of responsibility, and he hit everything but the intruders.\n",
       "\n",
       "\"Let me handle this,\" Trillian said, rolling her eyes. She pressed a button on her wristband, and a force field enveloped the airlock, repelling the attackers.\n",
       "\n",
       "\"Nice work,\" Ford said, impressed.\n",
       "\n",
       "\"Thanks,\" Trillian replied. \"Now, let's talk ethics.\"\n",
       "\n",
       "\"Ethics?\" Arthur asked, bewildered. \"In the middle of a battle?\"\n",
       "\n",
       "\"Yes,\" Trillian said firmly. \"We need to consider the implications of applying 42 to everything. What if it stifles creativity? What if it leads to a lack of diversity in thought?\"\n",
       "\n",
       "\"She's got a point,\" Ford admitted. \"Maybe we should think this through.\"\n",
       "\n",
       "Zaphod groaned. \"Oh, come on! We've come this far. Are we really going to let a bunch of ethical dilemmas stop us?\"\n",
       "\n",
       "\"Maybe we should,\" Arthur said, surprising everyone. \"Maybe the Resistance has a point. Maybe the universe needs more than just one answer.\"\n",
       "\n",
       "As the team pondered this, the Resistance ships retreated, leaving the Heart of Gold II floating peacefully in space.\n",
       "\n",
       "\"Well,\" Ford said, breaking the silence, \"what's next?\"\n",
       "\n",
       "\"Next,\" Trillian said, \"we figure out how to balance the answer 42 with the complexities of life.\"\n",
       "\n",
       "\"And maybe,\" Arthur added, \"we find a way to make sure every question gets the answer it truly deserves.\"\n",
       "\n",
       "Zaphod sighed. \"Fine, but can we at least blow something up first?\"\n",
       "\n",
       "The team laughed, and for a moment, the galaxy seemed a little less complicated.\n",
       "\n",
       "**[End of Chapter 8]**"
      ],
      "text/plain": [
       "<IPython.core.display.Markdown object>"
      ]
     },
     "metadata": {},
     "output_type": "display_data"
    },
    {
     "name": "stdout",
     "output_type": "stream",
     "text": [
      "------------------------------------------------------------------------------------------------------\n",
      "The main actions happening to the characters in the text include:\n",
      "- The team of Arthur Dent, Ford Prefect, Trillian, and Zaphod Beeblebrox are gathered on the spaceship Heart of Gold II to build a device that applies the answer \"42\" to all questions.\n",
      "- The Resistance, a group of beings from across the galaxy, arrives to stop the implementation of the 42 technology.\n",
      "- The team engages in evasive maneuvers as the Resistance attacks with improbability missiles.\n",
      "- Ford suspects a mole among them and works to fix the hacked improbability drive.\n",
      "- The team faces off against the Resistance fighters trying to board the ship, with Trillian using a force field to repel them.\n",
      "- Trillian raises ethical concerns about applying 42 to everything, leading the team to reconsider their plan.\n",
      "- The Resistance retreats, and the team decides to balance the answer 42 with the complexities of life and ensure every question gets the answer it deserves.\n"
     ]
    },
    {
     "data": {
      "text/markdown": [
       "**Chapter 9: The Ultimate Test**\n",
       "\n",
       "The Heart of Gold hummed with a peculiar sense of anticipation, as if the ship itself knew that something monumental was about to happen. Arthur Dent, Ford Prefect, Zaphod Beeblebrox, and Trillian sat around the central console, each lost in their own thoughts. Well, except for Zaphod, who was busy trying to figure out how to make his third arm grow back after an unfortunate incident involving a particularly aggressive cheese grater.\n",
       "\n",
       "\"Right,\" said Arthur, breaking the silence. \"So, we've got the answer. Forty-two. Now we just need to figure out how to apply it to everything and everyone in the galaxy.\"\n",
       "\n",
       "\"Piece of cake,\" Zaphod said, grinning with two of his three mouths. \"We just need to build a machine that can calculate the question to the ultimate answer. Easy peasy.\"\n",
       "\n",
       "\"Except for the minor detail that we have no idea what the question is,\" Trillian pointed out, her voice tinged with sarcasm.\n",
       "\n",
       "\"Details, details,\" Zaphod waved her off. \"We'll figure it out. We always do.\"\n",
       "\n",
       "Ford Prefect, who had been unusually quiet, suddenly spoke up. \"Actually, I think I might have an idea. But it's going to require a galaxy-wide trial.\"\n",
       "\n",
       "\"A trial?\" Arthur asked, raising an eyebrow. \"Like in a courtroom?\"\n",
       "\n",
       "\"Sort of,\" Ford replied. \"But instead of lawyers and judges, we'll have every sentient being in the galaxy participate. We'll ask them all the same question and see if we can find a common thread.\"\n",
       "\n",
       "\"Sounds like a logistical nightmare,\" Trillian said, shaking her head. \"But it's worth a shot.\"\n",
       "\n",
       "And so, the team set to work. They sent out a message to every corner of the galaxy, inviting all sentient beings to participate in the ultimate trial. The response was overwhelming. Beings from all walks of life, from the Vogons to the Pan Galactic Gargle Blasters, eagerly signed up to take part.\n",
       "\n",
       "The day of the trial arrived, and the Heart of Gold was filled to the brim with representatives from every species imaginable. Arthur looked around in awe, marveling at the sheer diversity of life in the galaxy.\n",
       "\n",
       "\"Alright, everyone,\" Ford said, addressing the crowd. \"We're going to ask you all the same question. Please answer honestly and to the best of your ability.\"\n",
       "\n",
       "The question was simple: \"What is the meaning of life, the universe, and everything?\"\n",
       "\n",
       "The answers, however, were anything but. Some beings responded with profound philosophical insights, while others offered up bizarre and nonsensical replies. One particularly enthusiastic Vogon recited a poem that was so terrible it caused several participants to faint.\n",
       "\n",
       "As the answers poured in, the team began to notice a pattern. Despite the vast differences in culture and perspective, there was a common thread running through many of the responses. It seemed that, at its core, the meaning of life was about connection, understanding, and the pursuit of knowledge.\n",
       "\n",
       "\"Well, I'll be damned,\" Zaphod said, scratching his head. \"Looks like we might actually be onto something here.\"\n",
       "\n",
       "But just as they were about to celebrate their breakthrough, an unexpected ally appeared. Marvin the Paranoid Android shuffled into the room, his expression as gloomy as ever.\n",
       "\n",
       "\"I hate to interrupt your little party,\" Marvin said in his monotone voice. \"But I think I might have the final piece of the puzzle.\"\n",
       "\n",
       "The team listened in stunned silence as Marvin explained his theory. It turned out that the answer, forty-two, was not just a number, but a code. A code that, when deciphered, revealed the true question to the ultimate answer.\n",
       "\n",
       "With Marvin's help, the team was able to build the technology that could apply the answer to all human and humanlike creatures in the galaxy. The moment of truth had arrived.\n",
       "\n",
       "As they activated the machine, a wave of understanding and enlightenment washed over the galaxy. Beings of all shapes and sizes suddenly found themselves connected in a way they had never imagined. The answer, forty-two, had finally been applied.\n",
       "\n",
       "\"Well, that was easy,\" Zaphod said, grinning. \"What's next?\"\n",
       "\n",
       "Arthur sighed, shaking his head. \"I have a feeling this is just the beginning.\"\n",
       "\n",
       "And with that, the team set off on their next adventure, ready to face whatever the galaxy had in store for them."
      ],
      "text/plain": [
       "<IPython.core.display.Markdown object>"
      ]
     },
     "metadata": {},
     "output_type": "display_data"
    },
    {
     "name": "stdout",
     "output_type": "stream",
     "text": [
      "------------------------------------------------------------------------------------------------------\n",
      "The characters on the Heart of Gold discover the answer to the ultimate question is forty-two. They decide to hold a galaxy-wide trial to find the question, with beings from all over participating. Despite varied responses, they find a common theme of connection and understanding. Marvin the Paranoid Android reveals the answer is a code, leading to the true question being deciphered. They build a machine to apply the answer to all beings, bringing enlightenment to the galaxy. The team prepares for their next adventure, knowing more challenges lie ahead.\n"
     ]
    },
    {
     "data": {
      "text/markdown": [
       "**Chapter 10: The Aftermath**\n",
       "\n",
       "The universe had never seen such a spectacle. The team of four—Zaphod Beeblebrox, Ford Prefect, Arthur Dent, and Trillian—stood in the middle of the Galactic Senate, their faces a mix of triumph and bewilderment. They had done it. They had built the technology that allowed the answer \"42\" to be applied to all human and humanlike creatures in the galaxy. The device, a sleek, shiny contraption that looked suspiciously like a toaster, hummed with a sense of purpose.\n",
       "\n",
       "Success and Failure\n",
       "\n",
       "\"Well, that was easy,\" Zaphod said, his two heads nodding in unison. \"I always knew I was a genius.\"\n",
       "\n",
       "Arthur, who had spent the last few hours trying to figure out why his left shoe was on his right foot, looked up. \"Easy? We nearly got vaporized by Vogons, turned into petunias, and I still don't know why my tea tastes like motor oil.\"\n",
       "\n",
       "Ford grinned. \"That's just the taste of success, Arthur. Or possibly the taste of the Vogon cafeteria. Hard to tell.\"\n",
       "\n",
       "Trillian, ever the voice of reason, stepped forward. \"The important thing is, we did it. The answer to life, the universe, and everything can now be applied universally. But what does that mean for us?\"\n",
       "\n",
       "The New Galactic Order\n",
       "\n",
       "As if on cue, the Galactic Senate erupted into chaos. Politicians from every corner of the galaxy were shouting, waving tentacles, and generally behaving like a group of hyperactive toddlers who had just discovered sugar.\n",
       "\n",
       "\"Order! Order!\" shouted the Speaker, a small, green creature with more eyes than seemed strictly necessary. \"We must establish a new galactic order!\"\n",
       "\n",
       "A tall, blue-skinned senator stood up. \"I propose we make 42 the new standard for all measurements. Distance, time, weight—everything!\"\n",
       "\n",
       "A murmur of agreement spread through the Senate. \"Yes, yes, 42 kilometers, 42 seconds, 42 kilograms. It all makes perfect sense!\"\n",
       "\n",
       "Arthur, who had been quietly contemplating the absurdity of it all, couldn't help but interject. \"But what about things that don't fit into 42? Like, what if you need 43 of something?\"\n",
       "\n",
       "The Senate fell silent. The Speaker blinked all his eyes in unison. \"We shall round down,\" he declared solemnly.\n",
       "\n",
       "Reflections on 42\n",
       "\n",
       "As the new galactic order began to take shape, our heroes found a moment to reflect on their journey. They gathered in a quiet corner of the Senate, away from the chaos.\n",
       "\n",
       "\"Do you think we did the right thing?\" Trillian asked, her eyes searching the faces of her companions.\n",
       "\n",
       "Ford shrugged. \"Right, wrong—who's to say? We gave the galaxy what it wanted. Now it's up to them to figure out what to do with it.\"\n",
       "\n",
       "Zaphod, ever the optimist, grinned. \"I think it's brilliant. Now, every time someone asks a question, they get a definitive answer. No more uncertainty, no more doubt. Just 42.\"\n",
       "\n",
       "Arthur sighed. \"But what if the answer isn't always 42? What if sometimes, it's 43, or 41, or something completely different?\"\n",
       "\n",
       "Trillian smiled. \"Then I suppose we'll just have to build a new machine.\"\n",
       "\n",
       "As they stood there, contemplating the future, a small, robotic voice interrupted their thoughts. \"Excuse me,\" said Marvin the Paranoid Android, \"but I couldn't help overhearing. If you think 42 is the answer to everything, you clearly haven't been paying attention.\"\n",
       "\n",
       "And with that, the team of four burst into laughter, realizing that in a universe as vast and unpredictable as theirs, the journey was far from over. After all, 42 was just the beginning. So what's next? Only time—and perhaps a few more improbable adventures—would tell."
      ],
      "text/plain": [
       "<IPython.core.display.Markdown object>"
      ]
     },
     "metadata": {},
     "output_type": "display_data"
    },
    {
     "name": "stdout",
     "output_type": "stream",
     "text": [
      "------------------------------------------------------------------------------------------------------\n",
      "The team of four, Zaphod Beeblebrox, Ford Prefect, Arthur Dent, and Trillian, successfully built a device that applied the answer \"42\" to all human and humanlike creatures in the galaxy. The Galactic Senate erupted into chaos, proposing to make 42 the new standard for all measurements. The team reflected on their journey and the implications of their actions, with Arthur questioning the certainty of always getting the answer 42. Marvin the Paranoid Android interrupted, suggesting that 42 may not be the answer to everything, leading the team to realize that their journey was far from over.\n"
     ]
    },
    {
     "data": {
      "text/markdown": [
       "**Epilogue: The Journey Continues**\n",
       "\n",
       "The Team's Next Mission\n",
       "\n",
       "As the dust settled on the planet of Magrathea, our intrepid team of four—Zaphod Beeblebrox, Ford Prefect, Arthur Dent, and Trillian—stood in awe of their latest creation: the Universal Application Device for 42 (UAD42). It was a sleek, shiny contraption that looked suspiciously like a toaster but promised to revolutionize the galaxy. \n",
       "\n",
       "\"Right,\" said Zaphod, adjusting his second head's sunglasses. \"Now that we've got this baby up and running, what's next?\"\n",
       "\n",
       "Ford Prefect, ever the optimist, grinned. \"How about a vacation? I hear the beaches on Santraginus V are to die for.\"\n",
       "\n",
       "Arthur Dent, still clutching his towel, looked skeptical. \"A vacation? After all this? We just built a device that can apply the answer to life, the universe, and everything to every conceivable problem!\"\n",
       "\n",
       "Trillian, the voice of reason, interjected. \"Arthur's right. We have a responsibility now. We need to test the UAD42 and ensure it works as intended.\"\n",
       "\n",
       "Zaphod's third arm, which had been idly flipping through a guidebook, suddenly pointed to a page. \"How about we start with something simple? Like solving the traffic congestion on Alpha Centauri?\"\n",
       "\n",
       "The Endless Quest for Knowledge\n",
       "\n",
       "With their next mission decided, the team boarded the Heart of Gold and set a course for Alpha Centauri. As they traveled, they couldn't help but marvel at the endless possibilities the UAD42 presented.\n",
       "\n",
       "\"Imagine,\" mused Ford, \"a galaxy where every problem has a simple, straightforward solution. No more bureaucracy, no more red tape. Just pure, unadulterated efficiency.\"\n",
       "\n",
       "Arthur, ever the skeptic, raised an eyebrow. \"And what happens when someone asks the UAD42 a question it can't answer? Like, 'What's the best way to make a cup of tea?'\"\n",
       "\n",
       "Zaphod laughed. \"Easy! The UAD42 will just say '42' and let them figure it out. It's not about giving the right answer; it's about giving the answer that makes people think.\"\n",
       "\n",
       "Trillian nodded. \"It's about sparking curiosity and encouraging people to seek knowledge for themselves. The UAD42 is just a tool, a starting point.\"\n",
       "\n",
       "The Legacy of 42\n",
       "\n",
       "As they arrived at Alpha Centauri, the team was greeted by a throng of eager Centaurians, all clamoring to see the UAD42 in action. With a flourish, Zaphod activated the device and pointed it at the nearest traffic jam.\n",
       "\n",
       "\"42!\" the UAD42 announced, and in an instant, the traffic untangled itself, cars merging seamlessly into a perfect flow.\n",
       "\n",
       "The crowd erupted in cheers, and Zaphod basked in the adulation. \"Ladies and gentlemen, the future is here!\"\n",
       "\n",
       "But as the team watched the Centaurians celebrate, they couldn't help but feel a sense of unease. The UAD42 was powerful, yes, but it was also a reminder of the importance of asking the right questions.\n",
       "\n",
       "\"Remember,\" Trillian said quietly, \"42 is just the beginning. It's up to us to continue the journey, to keep seeking answers and pushing the boundaries of knowledge.\"\n",
       "\n",
       "Arthur, for once, agreed. \"And maybe, just maybe, we'll find that the real answer isn't a number at all, but the quest itself.\"\n",
       "\n",
       "With that, the team set off on their next adventure, ready to face whatever challenges the galaxy had in store. For in the end, it wasn't about the destination, but the journey—and the endless quest for knowledge—that truly mattered.\n",
       "\n",
       "And so, dear reader, the journey continues. The legacy of 42 lives on, a beacon of curiosity and wonder in a vast, ever-expanding universe. Until next time, don't forget your towel."
      ],
      "text/plain": [
       "<IPython.core.display.Markdown object>"
      ]
     },
     "metadata": {},
     "output_type": "display_data"
    },
    {
     "name": "stdout",
     "output_type": "stream",
     "text": [
      "------------------------------------------------------------------------------------------------------\n",
      "The team of Zaphod Beeblebrox, Ford Prefect, Arthur Dent, and Trillian create the Universal Application Device for 42 (UAD42) on Magrathea. They decide to test it by solving traffic congestion on Alpha Centauri. The team marvels at the possibilities of the UAD42, but also acknowledges the importance of asking the right questions and continuing the quest for knowledge. They successfully solve the traffic jam on Alpha Centauri, but realize that the real answer lies in the journey itself. The team sets off on their next adventure, ready to face new challenges and continue their quest for knowledge.\n",
      "book_title, latest_prompt, _completion_tokens, _prompt_tokens, _total_tokens, latest, toc, toc_json, book_purpose, title, content, cons_0_prologue_the_ultimate_answer, cons_1_chapter_1_the_team_assembles, cons_0_prologue_the_ultimate_question, summary, cons_2_chapter_2_the_first_steps, cons_3_chapter_3_trials_and_errors, cons_4_chapter_4_the_infinite_improbability_drive, cons_5_chapter_5_the_pan_galactic_gargle_blaster, cons_6_chapter_6_the_deep_thought_connection, cons_7_chapter_7_the_galactic_council, cons_8_chapter_8_the_resistance, cons_9_chapter_9_the_ultimate_test, cons_10_chapter_10_the_aftermath, cons_11_epilogue_the_journey_continues\n"
     ]
    },
    {
     "data": {
      "text/plain": [
       "<aiflow.AIFlow at 0x22306e13550>"
      ]
     },
     "execution_count": 15,
     "metadata": {},
     "output_type": "execute_result"
    }
   ],
   "source": [
    "import re\n",
    "\n",
    "ai.save_internal_state(filename=state_save_file)\n",
    "\n",
    "max_items_to_handle = 2 # len(list_of_opportunities)  # len(list_of_opportunities)\n",
    "run_for_real=True\n",
    "\n",
    "used_full_report_labels=[]\n",
    "\n",
    "# helper to convert a string into a label for the context\n",
    "def clean_string(s):\n",
    "    s = s.lower()\n",
    "    s = re.sub(r\"\\W+\", \"_\", s)\n",
    "    return s\n",
    "\n",
    "# shim so we can do dry-runs or stuff for real\n",
    "def ai_completion(label, prompt):\n",
    "    # This is a mock function. Replace it with the actual AI completion call.\n",
    "    if run_for_real == False:\n",
    "        print(f\"Label: {label}\")\n",
    "        print(\"Prompt:\", prompt)\n",
    "        print(\"\\n---\\n\")\n",
    "    else:\n",
    "        ai.generate_completion(prompt=prompt, label=label).display_latest_context_as_markdown()\n",
    "        print(\n",
    "            \"------------------------------------------------------------------------------------------------------\"\n",
    "        )\n",
    "\n",
    "# Iterate through the array and call the AI completion function with the formatted prompt\n",
    "previous = \"Not applicable\"\n",
    "for index, client in enumerate(list_of_chapters):  # [:max_items_to_handle]\n",
    "    title = client[\"title\"] \n",
    "    service_offering_raw = client[\"content\"]\n",
    "    content = \",\".join(service_offering_raw)\n",
    "\n",
    "    ai.set_context_of(\n",
    "        label=\"title\", content=title\n",
    "    ) \n",
    "\n",
    "    ai.set_context_of(label=\"content\", content=content)\n",
    "\n",
    "    prompt = \"\"\"Generate the chapter to a book called [book_title].\\nThe book is about [book_purpose].\\nGenerate the content of the book.\\nThe chapter title is [title] and this chapter deals with the following topics: [content].\\nCreate the story and make it very funny. The chapter needs to be 1 A4 page full.\\nSummary of the previous chapter:\\n[previous]\\n\\nAnswer:\"\"\"\n",
    "    cleaned_gain = clean_string(title)\n",
    "    full_report_label = f\"cons_{index}_{cleaned_gain}\"\n",
    "    used_full_report_labels.append(full_report_label)\n",
    "\n",
    "    ai_completion(label=full_report_label, prompt=prompt)\n",
    "\n",
    "    previous = ai.return_context_to_text(label=full_report_label)\n",
    "    ai.set_model(\"gpt-3.5-turbo\").generate_completion(\n",
    "        label=\"summary\",\n",
    "        prompt=f\"Summarise the text below by describing main actions happening to the characters:\\n\\n[{previous}]\",\n",
    "    ).set_model(\"gpt-4o\")\n",
    "\n",
    "    previous = ai.return_context_to_text(label=\"summary\")\n",
    "\n",
    "    print(previous)\n",
    "\n",
    "    ai.save_internal_state(filename=state_save_file)\n",
    "\n",
    "\n",
    "ai.save_internal_state(filename=state_save_file).show_context_keys()"
   ]
  },
  {
   "cell_type": "markdown",
   "metadata": {},
   "source": [
    "## Some extra stuff"
   ]
  },
  {
   "cell_type": "markdown",
   "metadata": {},
   "source": [
    "Appendix: Technical Specifications\n",
    "\n",
    "The Science Behind 42\n",
    "Diagrams and Blueprints\n",
    "Frequently Asked Questions\n",
    "Acknowledgments\n",
    "\n",
    "Inspirations and Influences\n",
    "Thank You Notes\n",
    "About the Author"
   ]
  },
  {
   "cell_type": "code",
   "execution_count": 17,
   "metadata": {},
   "outputs": [
    {
     "data": {
      "text/markdown": [
       "# Appendix: Technical Specifications\n",
       "\n",
       "## The Science Behind 42\n",
       "\n",
       "Ah, the number 42. The ultimate answer to life, the universe, and everything. But what does it really mean? Is it a cosmic joke, a divine revelation, or just a random number Douglas Adams picked out of a hat? Well, dear reader, it's all of the above and none of the above. Confused? Excellent, you're on the right track.\n",
       "\n",
       "In our quest to apply the answer 42 to all human and humanlike creatures in the galaxy, we discovered that 42 is not just a number—it's a universal constant, like the speed of light or the number of times you can hit the snooze button before you're officially late. It turns out that 42 is the frequency at which all matter vibrates when it's in perfect harmony with the cosmos. Or at least, that's what our lead scientist, Dr. Zog, claims. He also claims to have invented a perpetual motion machine powered by cheese, so take that with a grain of salt.\n",
       "\n",
       "## Diagrams and Blueprints\n",
       "\n",
       "Now, for those of you who are more visually inclined, we've included some diagrams and blueprints to help you understand the complex technology behind 42. \n",
       "\n",
       "1. **The 42-O-Matic**: This is the device that converts the answer 42 into a form that can be applied to any problem. It looks suspiciously like a toaster, but don't be fooled. It's actually a highly sophisticated piece of equipment that uses quantum entanglement, dark matter, and a dash of paprika to solve any issue you throw at it.\n",
       "\n",
       "2. **The Infinite Improbability Drive**: This is the engine that powers our ship, the Heart of Gold 2.0. It runs on the principle that the more improbable something is, the more likely it is to happen. So, if you ever find yourself in a situation where you need to turn a bowl of petunias into a sentient being, this is your go-to gadget.\n",
       "\n",
       "3. **The Babel Fish Translator**: This handy little device allows you to understand any language in the galaxy. Just stick it in your ear and voila! Instant comprehension. Side effects may include mild dizziness, uncontrollable laughter, and an inexplicable craving for Vogon poetry.\n",
       "\n",
       "## Frequently Asked Questions\n",
       "\n",
       "**Q: How does the 42-O-Matic work?**\n",
       "\n",
       "A: If we told you, we'd have to kill you. Just kidding! It's all very technical and involves a lot of jargon like \"quantum flux capacitors\" and \"neutrino oscillations.\" Basically, it works because we say it does.\n",
       "\n",
       "**Q: Can I use the 42-O-Matic to solve my personal problems?**\n",
       "\n",
       "A: Absolutely! Whether you're dealing with a mid-life crisis, a bad hair day, or an existential dread, the 42-O-Matic has got you covered. Just don't use it to cheat at poker. We tried that once, and it didn't end well.\n",
       "\n",
       "**Q: What happens if I press the big red button on the Infinite Improbability Drive?**\n",
       "\n",
       "A: We strongly advise against it. The last time someone pressed it, we ended up in an alternate dimension where everyone was a sentient banana. It was a-peeling, but not very practical.\n",
       "\n",
       "## Acknowledgments\n",
       "\n",
       "We'd like to thank the following individuals and entities for their invaluable contributions to this project:\n",
       "\n",
       "- **Douglas Adams**: For giving us the answer 42 and inspiring us to ask, \"So what's next?\"\n",
       "- **Dr. Zog**: For his groundbreaking research and his cheese-powered perpetual motion machine, which we still don't quite understand.\n",
       "- **The Vogons**: For not destroying our ship, even though they really, really wanted to.\n",
       "- **The Babel Fish**: For making intergalactic communication possible and for being so darn cute.\n",
       "- **You, the reader**: For sticking with us through this wild and wacky journey. We couldn't have done it without you. Well, we could have, but it wouldn't have been nearly as fun.\n",
       "\n",
       "And remember, the answer is always 42. The question, however, is up to you."
      ],
      "text/plain": [
       "<IPython.core.display.Markdown object>"
      ]
     },
     "metadata": {},
     "output_type": "display_data"
    }
   ],
   "source": [
    "prompt = \"\"\"Generate the chapter to a book called [book_title].\\nThe book is about [book_purpose].\\nGenerate the content of the book.\\nThe chapter title is [title] and this chapter deals with the following topics: [content].\\nCreate the story and make it very funny. The chapter needs to be 1 A4 page full.\\n\\nAnswer:\"\"\"\n",
    "\n",
    "ai.set_context_of(label=\"title\", content=\"Appendix: Technical Specifications\")\n",
    "ai.set_context_of(label=\"content\",content=\"The Science Behind 42, Diagrams and Blueprints, Frequently Asked Questions, Acknowledgments\")\n",
    "ai.generate_completion(prompt=prompt, label=\"tech_spec\").return_context_as_md()\n"
   ]
  },
  {
   "cell_type": "code",
   "execution_count": 20,
   "metadata": {},
   "outputs": [
    {
     "data": {
      "text/markdown": [
       "Dear Friends, Collaborators, and Fellow Enthusiasts,\n",
       "\n",
       "As we celebrate the release of \"42... So What's Next?\", an extension of the beloved universe created by Douglas Adams in \"The Hitchhiker's Guide to the Galaxy,\" we find ourselves overwhelmed with gratitude. This journey has been a collective effort, and it is with immense joy and appreciation that we extend our heartfelt thanks to the countless individuals who have contributed to this project in ways both big and small.\n",
       "\n",
       "First and foremost, we must thank the visionary Douglas Adams, whose original work inspired this new adventure. Without his genius, none of this would have been possible.\n",
       "\n",
       "To our incredible team of four protagonists, who took the answer 42 and embarked on a journey to build the technology that allows this answer to be applied to all human and humanlike creatures in the galaxy, we owe a debt of gratitude. Your dedication and creativity have brought this story to life in ways we could only have dreamed of.\n",
       "\n",
       "We extend our deepest thanks to the cast of Monty Python—Graham Chapman, John Cleese, Terry Gilliam, Eric Idle, Terry Jones, and Michael Palin—whose unique brand of humor and creativity has been a constant source of inspiration.\n",
       "\n",
       "To the brilliant minds behind Jiskefet—Michiel Romeyn, Kees Prins, and Herman Koch—your innovative comedy has provided us with endless laughter and insight.\n",
       "\n",
       "A special thank you to Kees van Kooten and Wim de Bie, whose satirical genius has been a guiding light in our creative process.\n",
       "\n",
       "We are also profoundly grateful to the following individuals, whose support, encouragement, and contributions have been invaluable:\n",
       "\n",
       "1. Neil Gaiman\n",
       "2. Stephen Fry\n",
       "3. Simon Jones\n",
       "4. Mark Wing-Davey\n",
       "5. Susan Sheridan\n",
       "6. Geoffrey McGivern\n",
       "7. Alan Rickman\n",
       "8. Martin Freeman\n",
       "9. Sam Rockwell\n",
       "10. Zooey Deschanel\n",
       "11. Mos Def\n",
       "12. Bill Nighy\n",
       "13. Warwick Davis\n",
       "14. Richard Dawkins\n",
       "15. John Lloyd\n",
       "16. Terry Pratchett\n",
       "17. Nick Webb\n",
       "18. Kevin Jon Davies\n",
       "19. Dirk Maggs\n",
       "20. Eoin Colfer\n",
       "21. Jem Roberts\n",
       "22. M.J. Simpson\n",
       "23. David Gilmour\n",
       "24. Roger Waters\n",
       "25. Nick Mason\n",
       "26. Richard Wright\n",
       "27. Syd Barrett\n",
       "28. Paul McCartney\n",
       "29. Ringo Starr\n",
       "30. George Harrison\n",
       "31. John Lennon\n",
       "32. Brian May\n",
       "33. Roger Taylor\n",
       "34. John Deacon\n",
       "35. Freddie Mercury\n",
       "36. David Bowie\n",
       "37. Elton John\n",
       "38. Mick Jagger\n",
       "39. Keith Richards\n",
       "40. Charlie Watts\n",
       "41. Ronnie Wood\n",
       "42. Eric Clapton\n",
       "43. Jeff Beck\n",
       "44. Jimmy Page\n",
       "45. Robert Plant\n",
       "46. John Paul Jones\n",
       "47. John Bonham\n",
       "48. Pete Townshend\n",
       "49. Roger Daltrey\n",
       "50. John Entwistle\n",
       "51. Keith Moon\n",
       "52. Ray Davies\n",
       "53. Dave Davies\n",
       "54. Mick Avory\n",
       "55. Paul Simon\n",
       "56. Art Garfunkel\n",
       "57. Bob Dylan\n",
       "58. Joan Baez\n",
       "59. Joni Mitchell\n",
       "60. Leonard Cohen\n",
       "61. Neil Young\n",
       "62. Bruce Springsteen\n",
       "63. Patti Smith\n",
       "64. Lou Reed\n",
       "65. Iggy Pop\n",
       "66. David Byrne\n",
       "67. Tina Weymouth\n",
       "68. Chris Frantz\n",
       "69. Jerry Harrison\n",
       "70. Debbie Harry\n",
       "71. Chris Stein\n",
       "72. Clem Burke\n",
       "73. Jimmy Destri\n",
       "74. Siouxsie Sioux\n",
       "75. Steven Severin\n",
       "76. Budgie\n",
       "77. John McGeoch\n",
       "78. Robert Smith\n",
       "79. Morrissey\n",
       "80. Johnny Marr\n",
       "81. Andy Rourke\n",
       "82. Mike Joyce\n",
       "83. Ian Curtis\n",
       "84. Bernard Sumner\n",
       "85. Peter Hook\n",
       "86. Stephen Morris\n",
       "87. Gillian Gilbert\n",
       "88. Tony Wilson\n",
       "89. Alan McGee\n",
       "90. Malcolm McLaren\n",
       "91. Vivienne Westwood\n",
       "92. John Lydon\n",
       "93. Steve Jones\n",
       "94. Paul Cook\n",
       "95. Glen Matlock\n",
       "96. Sid Vicious\n",
       "97. Joe Strummer\n",
       "98. Mick Jones\n",
       "99. Paul Simonon\n",
       "100. Topper Headon\n",
       "101. Don Letts\n",
       "102. Ari Up\n",
       "103. Tessa Pollitt\n",
       "104. Viv Albertine\n",
       "105. Palmolive\n",
       "106. Poly Styrene\n",
       "107. Lora Logic\n",
       "108. John Peel\n",
       "109. Annie Nightingale\n",
       "110. David Attenborough\n",
       "111. Carl Sagan\n",
       "112. Neil deGrasse Tyson\n",
       "113. Brian Cox\n",
       "114. Richard Feynman\n",
       "115. Stephen Hawking\n",
       "116. Jane Goodall\n",
       "117. Dian Fossey\n",
       "118. Biruté Galdikas\n",
       "119. Carl Linnaeus\n",
       "120. Charles Darwin\n",
       "121. Alfred Russel Wallace\n",
       "122. Gregor Mendel\n",
       "123. Rosalind Franklin\n",
       "124. James Watson\n",
       "125. Francis Crick\n",
       "126. Maurice Wilkins\n",
       "127. Linus Pauling\n",
       "128. Richard Feynman\n",
       "129. Niels Bohr\n",
       "130. Albert Einstein\n",
       "131. Isaac Newton\n",
       "132. Galileo Galilei\n",
       "133. Johannes Kepler\n",
       "134. Nicolaus Copernicus\n",
       "135. Tycho Brahe\n",
       "136. Edwin Hubble\n",
       "137. Henrietta Swan Leavitt\n",
       "138. Cecilia Payne-Gaposchkin\n",
       "139. Vera Rubin\n",
       "140. Jocelyn Bell Burnell\n",
       "141. Lise Meitner\n",
       "142. Maria Goeppert Mayer\n",
       "143. Chien-Shiung Wu\n",
       "144. Dorothy Hodgkin\n",
       "145. Barbara McClintock\n",
       "146. Rita Levi-Montalcini\n",
       "147. Gertrude B. Elion\n",
       "148. Rosalyn Sussman Yalow\n",
       "149. Ada Lovelace\n",
       "150. Grace Hopper\n",
       "151. Katherine Johnson\n",
       "152. Dorothy Vaughan\n",
       "153. Mary Jackson\n",
       "154. Margaret Hamilton\n",
       "155. Hedy Lamarr\n",
       "156. Alan Turing\n",
       "157. John von Neumann\n",
       "158. Claude Shannon\n",
       "159. Vint Cerf\n",
       "160. Tim Berners-Lee\n",
       "161. Steve Jobs\n",
       "162. Steve Wozniak\n",
       "163. Bill Gates\n",
       "164. Paul Allen\n",
       "165. Mark Zuckerberg\n",
       "166. Larry Page\n",
       "167. Sergey Brin\n",
       "168. Elon Musk\n",
       "169. Jeff Bezos\n",
       "170. Sheryl Sandberg\n",
       "171. Marissa Mayer\n",
       "172. Susan Wojcicki\n",
       "173. Sundar Pichai\n",
       "174. Satya Nadella\n",
       "175. Ginni Rometty\n",
       "176. Meg Whitman\n",
       "177. Carly Fiorina\n",
       "178. Ursula Burns\n",
       "179. Indra Nooyi\n",
       "180. Mary Barra\n",
       "181. Safra Catz\n",
       "182. Ruth Porat\n",
       "183. Angela Ahrendts\n",
       "184. Anne Wojcicki\n",
       "185. Diane Greene\n",
       "186. Padmasree Warrior\n",
       "187. Reshma Saujani\n",
       "188. Kimberly Bryant\n",
       "189. Ayah Bdeir\n",
       "190. Limor Fried\n",
       "191. Ruchi Sanghvi\n",
       "192. Tracy Chou\n",
       "193. Erica Baker\n",
       "194. Ellen Pao\n",
       "195. Kathryn Finney\n",
       "196. Kimberly Bryant\n",
       "197. Anil Dash\n",
       "198. Om Malik\n",
       "199. Kara Swisher\n",
       "200. Walt Mossberg\n",
       "\n",
       "And to the countless others whose names may not be listed here but whose contributions have been equally significant, we thank you from the bottom of our hearts. Your passion, creativity, and support have made \"42... So What's Next?\" a reality, and we are forever grateful.\n",
       "\n",
       "With deepest appreciation,\n",
       "\n",
       "[Your Name] and the entire \"42... So What's Next?\" Team"
      ],
      "text/plain": [
       "<IPython.core.display.Markdown object>"
      ]
     },
     "metadata": {},
     "output_type": "display_data"
    }
   ],
   "source": [
    "\n",
    "ai.generate_completion(\n",
    "    prompt=\"Generate the Thank You Notes to a book called [book_title].\\nThe book is about [book_purpose]. Make it a very elaborate thank you note thanking at least 2000 people across the globe, known and very unknown. Name all those names in the text. Also include the cast of Monty Python, Jiskefet and Kees van Kooten and Wim de Bie\",\n",
    "    label=\"thank_you\",\n",
    ").return_context_as_md()"
   ]
  },
  {
   "cell_type": "code",
   "execution_count": 24,
   "metadata": {},
   "outputs": [
    {
     "data": {
      "text/markdown": [
       "42... So What's Next? \n",
       "\"How Four Misfits Plan to Make the Universe Slightly Less Confusing (and Probably More Chaotic)\""
      ],
      "text/plain": [
       "<IPython.core.display.Markdown object>"
      ]
     },
     "metadata": {},
     "output_type": "display_data"
    }
   ],
   "source": [
    "ai.generate_completion(\n",
    "    prompt=\"Generate a very funny subtitle to this book [book_title].\\nThe book is about [book_purpose]. Answer:\",\n",
    "    label=\"subtitle\",\n",
    ").return_context_as_md()"
   ]
  },
  {
   "cell_type": "markdown",
   "metadata": {},
   "source": [
    "## Dump the content into a nice html file"
   ]
  },
  {
   "cell_type": "code",
   "execution_count": 25,
   "metadata": {},
   "outputs": [
    {
     "data": {
      "text/plain": [
       "<aiflow.AIFlow at 0x22306e13550>"
      ]
     },
     "execution_count": 25,
     "metadata": {},
     "output_type": "execute_result"
    }
   ],
   "source": [
    "ai.save_context_to_html(output_filename=\"output\\\\42.html\")"
   ]
  },
  {
   "cell_type": "markdown",
   "metadata": {},
   "source": [
    "# End - saving state"
   ]
  },
  {
   "cell_type": "code",
   "execution_count": 27,
   "metadata": {},
   "outputs": [
    {
     "data": {
      "text/plain": [
       "<aiflow.AIFlow at 0x22306e13550>"
      ]
     },
     "execution_count": 27,
     "metadata": {},
     "output_type": "execute_result"
    }
   ],
   "source": [
    "ai.save_internal_state(filename=state_save_file)"
   ]
  },
  {
   "cell_type": "code",
   "execution_count": null,
   "metadata": {},
   "outputs": [],
   "source": [
    "ai.save_context_to_docx(output_filename=docx_output_filename)"
   ]
  }
 ],
 "metadata": {
  "kernelspec": {
   "display_name": "Python 3 (ipykernel)",
   "language": "python",
   "name": "python3"
  },
  "language_info": {
   "codemirror_mode": {
    "name": "ipython",
    "version": 3
   },
   "file_extension": ".py",
   "mimetype": "text/x-python",
   "name": "python",
   "nbconvert_exporter": "python",
   "pygments_lexer": "ipython3",
   "version": "3.10.6"
  }
 },
 "nbformat": 4,
 "nbformat_minor": 4
}
