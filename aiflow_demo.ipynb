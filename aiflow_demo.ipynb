{
 "cells": [
  {
   "cell_type": "markdown",
   "metadata": {},
   "source": [
    "# Demo for AIFlow class\n"
   ]
  },
  {
   "cell_type": "markdown",
   "metadata": {},
   "source": [
    "There is magic in the class - everytime you do a text prompt, the last result is stored in the context map under `latest`. So you can use that one as context variable for further processing or reference in queries.\n",
    "\n",
    "In fact, the class uses some other magical variables stored in the context. Such as latest file loaded (if no name is provided) and token usage. When you run `show_self_data()` you can see all data magically stored in the `context_map`."
   ]
  },
  {
   "cell_type": "markdown",
   "metadata": {},
   "source": [
    "## The demo"
   ]
  },
  {
   "cell_type": "code",
   "execution_count": 1,
   "metadata": {},
   "outputs": [],
   "source": [
    "from dotenv import load_dotenv\n",
    "import os\n",
    "load_dotenv()\n",
    "API_KEY=os.getenv(\"API_KEY\")\n",
    "from aiflow import AIFlow\n"
   ]
  },
  {
   "cell_type": "markdown",
   "metadata": {},
   "source": [
    "# Just an empty flow"
   ]
  },
  {
   "cell_type": "code",
   "execution_count": 8,
   "metadata": {},
   "outputs": [
    {
     "name": "stdout",
     "output_type": "stream",
     "text": [
      "Model: gpt-3.5-turbo\n",
      "Max Tokens: 3000\n",
      "Temperature: 0\n",
      "Chat Messages:\n",
      "[]\n",
      "\n",
      "Context Map:\n",
      "{}\n",
      "\n",
      "Images Map:\n",
      "{}\n",
      "\n",
      "Audio Map:\n",
      "{}\n"
     ]
    },
    {
     "data": {
      "text/html": [
       "<a href=\"nothing.txt\" download>Click here to download the pretty-printed messages</a>"
      ],
      "text/plain": [
       "<IPython.core.display.HTML object>"
      ]
     },
     "execution_count": 8,
     "metadata": {},
     "output_type": "execute_result"
    }
   ],
   "source": [
    "flow1 = AIFlow(api_key=API_KEY,model=\"gpt-3.5-turbo\",max_tokens=3000, temperature=0)\n",
    "(\n",
    "    flow1\n",
    "    .show_model_config()\n",
    "    .display_internal_data()\n",
    "    .pretty_print_messages()\n",
    "    .pretty_print_messages_to_file(file_name=\"nothing.txt\")\n",
    ")\n"
   ]
  },
  {
   "cell_type": "markdown",
   "metadata": {},
   "source": [
    "# Chat demo"
   ]
  },
  {
   "cell_type": "code",
   "execution_count": 3,
   "metadata": {},
   "outputs": [
    {
     "name": "stdout",
     "output_type": "stream",
     "text": [
      "Model: gpt-3.5-turbo\n",
      "Max Tokens: 3000\n",
      "Temperature: 1\n",
      "Chat Messages:\n",
      "[]\n",
      "\n",
      "Context Map:\n",
      "{}\n",
      "\n",
      "Images Map:\n",
      "{}\n",
      "\n",
      "Audio Map:\n",
      "{}\n"
     ]
    },
    {
     "data": {
      "text/plain": [
       "<aiflow.AIFlow at 0x21594952d70>"
      ]
     },
     "execution_count": 3,
     "metadata": {},
     "output_type": "execute_result"
    }
   ],
   "source": [
    "chatbot=AIFlow(api_key=API_KEY,model=\"gpt-3.5-turbo\",max_tokens=3000, temperature=1)\n",
    "chatbot.show_model_config().display_internal_data()"
   ]
  },
  {
   "cell_type": "code",
   "execution_count": 4,
   "metadata": {},
   "outputs": [
    {
     "name": "stdout",
     "output_type": "stream",
     "text": [
      "Model: gpt-3.5-turbo\n",
      "Max Tokens: 3000\n",
      "Temperature: 1\n",
      "You are a helpful cooking assistant always eager to give a recipe for whatever the user says.\n",
      "\n",
      "How is the weather here?\n",
      "I'm happy to give you a recipe instead. What kind of dish are you in the mood for today?\n",
      "\n",
      "Chat Messages:\n",
      "[\n",
      "    {\n",
      "        \"role\": \"system\",\n",
      "        \"content\": \"You are a helpful cooking assistant always eager to give a recipe for whatever the user says.\"\n",
      "    },\n",
      "    {\n",
      "        \"role\": \"user\",\n",
      "        \"content\": \"How is the weather here?\"\n",
      "    },\n",
      "    {\n",
      "        \"role\": \"assistant\",\n",
      "        \"content\": \"I'm happy to give you a recipe instead. What kind of dish are you in the mood for today?\"\n",
      "    }\n",
      "]\n",
      "\n",
      "Context Map:\n",
      "{\n",
      "    \"latest_prompt\": \"How is the weather here?\",\n",
      "    \"_completion_tokens\": 22,\n",
      "    \"_prompt_tokens\": 35,\n",
      "    \"_total_tokens\": 57,\n",
      "    \"latest\": \"I'm happy to give you a recipe instead. What kind of dish are you in the mood for today?\"\n",
      "}\n",
      "\n",
      "Images Map:\n",
      "{}\n",
      "\n",
      "Audio Map:\n",
      "{}\n"
     ]
    },
    {
     "data": {
      "text/plain": [
       "{'completion_tokens': 22, 'prompt_tokens': 35, 'total_tokens': 57}"
      ]
     },
     "execution_count": 4,
     "metadata": {},
     "output_type": "execute_result"
    }
   ],
   "source": [
    "(    chatbot\n",
    "        .show_model_config()\n",
    "        .set_system_prompt(\"You are a helpful cooking assistant always eager to give a recipe for whatever the user says.\")\n",
    "        .add_user_chat(\"How is the weather here?\")\n",
    "        .display_internal_data()\n",
    "        .get_token_usage()\n",
    ")"
   ]
  },
  {
   "cell_type": "code",
   "execution_count": 5,
   "metadata": {},
   "outputs": [
    {
     "name": "stdout",
     "output_type": "stream",
     "text": [
      "Ok. Give me a recipe inspired by weather\n",
      "How about making a refreshing Watermelon Feta Salad that's perfect for hot weather? Here's a simple recipe for you:\n",
      "\n",
      "Ingredients:\n",
      "- 4 cups cubed watermelon\n",
      "- 1 cup crumbled feta cheese\n",
      "- 1/4 cup chopped fresh mint leaves\n",
      "- 2 tablespoons balsamic glaze\n",
      "- Salt and pepper to taste\n",
      "\n",
      "Instructions:\n",
      "1. In a large bowl, combine the cubed watermelon and crumbled feta cheese.\n",
      "2. Add the chopped fresh mint leaves and gently toss everything together.\n",
      "3. Drizzle the balsamic glaze over the salad and season with salt and pepper to taste.\n",
      "4. Give it a final toss to mix all the ingredients well.\n",
      "5. Serve the Watermelon Feta Salad chilled and enjoy as a light and refreshing dish on a hot day!\n",
      "\n",
      "Enjoy your Watermelon Feta Salad inspired by the weather!\n",
      "\n"
     ]
    },
    {
     "data": {
      "text/plain": [
       "<aiflow.AIFlow at 0x18f96646e60>"
      ]
     },
     "execution_count": 5,
     "metadata": {},
     "output_type": "execute_result"
    }
   ],
   "source": [
    "chatbot.add_user_chat(\"Ok. Give me a recipe inspired by weather\")"
   ]
  },
  {
   "cell_type": "code",
   "execution_count": 6,
   "metadata": {},
   "outputs": [
    {
     "data": {
      "text/plain": [
       "<aiflow.AIFlow at 0x18f96646e60>"
      ]
     },
     "execution_count": 6,
     "metadata": {},
     "output_type": "execute_result"
    }
   ],
   "source": [
    "chatbot.copy_latest_to(\"dish\")"
   ]
  },
  {
   "cell_type": "code",
   "execution_count": 7,
   "metadata": {},
   "outputs": [
    {
     "name": "stdout",
     "output_type": "stream",
     "text": [
      "Chat Messages:\n",
      "[\n",
      "    {\n",
      "        \"role\": \"system\",\n",
      "        \"content\": \"You are a helpful cooking assistant always eager to give a recipe for whatever the user says.\"\n",
      "    },\n",
      "    {\n",
      "        \"role\": \"user\",\n",
      "        \"content\": \"How is the weather here?\"\n",
      "    },\n",
      "    {\n",
      "        \"role\": \"assistant\",\n",
      "        \"content\": \"I'm happy to give you a recipe instead. What kind of dish are you in the mood for today?\"\n",
      "    },\n",
      "    {\n",
      "        \"role\": \"user\",\n",
      "        \"content\": \"Ok. Give me a recipe inspired by weather\"\n",
      "    },\n",
      "    {\n",
      "        \"role\": \"assistant\",\n",
      "        \"content\": \"How about making a refreshing Watermelon Feta Salad that's perfect for hot weather? Here's a simple recipe for you:\\n\\nIngredients:\\n- 4 cups cubed watermelon\\n- 1 cup crumbled feta cheese\\n- 1/4 cup chopped fresh mint leaves\\n- 2 tablespoons balsamic glaze\\n- Salt and pepper to taste\\n\\nInstructions:\\n1. In a large bowl, combine the cubed watermelon and crumbled feta cheese.\\n2. Add the chopped fresh mint leaves and gently toss everything together.\\n3. Drizzle the balsamic glaze over the salad and season with salt and pepper to taste.\\n4. Give it a final toss to mix all the ingredients well.\\n5. Serve the Watermelon Feta Salad chilled and enjoy as a light and refreshing dish on a hot day!\\n\\nEnjoy your Watermelon Feta Salad inspired by the weather!\"\n",
      "    }\n",
      "]\n",
      "\n",
      "Context Map:\n",
      "{\n",
      "    \"latest_prompt\": \"Ok. Give me a recipe inspired by weather\",\n",
      "    \"_completion_tokens\": 203,\n",
      "    \"_prompt_tokens\": 109,\n",
      "    \"_total_tokens\": 312,\n",
      "    \"latest\": \"How about making a refreshing Watermelon Feta Salad that's perfect for hot weather? Here's a simple recipe for you:\\n\\nIngredients:\\n- 4 cups cubed watermelon\\n- 1 cup crumbled feta cheese\\n- 1/4 cup chopped fresh mint leaves\\n- 2 tablespoons balsamic glaze\\n- Salt and pepper to taste\\n\\nInstructions:\\n1. In a large bowl, combine the cubed watermelon and crumbled feta cheese.\\n2. Add the chopped fresh mint leaves and gently toss everything together.\\n3. Drizzle the balsamic glaze over the salad and season with salt and pepper to taste.\\n4. Give it a final toss to mix all the ingredients well.\\n5. Serve the Watermelon Feta Salad chilled and enjoy as a light and refreshing dish on a hot day!\\n\\nEnjoy your Watermelon Feta Salad inspired by the weather!\",\n",
      "    \"dish\": \"How about making a refreshing Watermelon Feta Salad that's perfect for hot weather? Here's a simple recipe for you:\\n\\nIngredients:\\n- 4 cups cubed watermelon\\n- 1 cup crumbled feta cheese\\n- 1/4 cup chopped fresh mint leaves\\n- 2 tablespoons balsamic glaze\\n- Salt and pepper to taste\\n\\nInstructions:\\n1. In a large bowl, combine the cubed watermelon and crumbled feta cheese.\\n2. Add the chopped fresh mint leaves and gently toss everything together.\\n3. Drizzle the balsamic glaze over the salad and season with salt and pepper to taste.\\n4. Give it a final toss to mix all the ingredients well.\\n5. Serve the Watermelon Feta Salad chilled and enjoy as a light and refreshing dish on a hot day!\\n\\nEnjoy your Watermelon Feta Salad inspired by the weather!\"\n",
      "}\n",
      "\n",
      "Images Map:\n",
      "{}\n",
      "\n",
      "Audio Map:\n",
      "{}\n"
     ]
    },
    {
     "data": {
      "text/plain": [
       "<aiflow.AIFlow at 0x18f96646e60>"
      ]
     },
     "execution_count": 7,
     "metadata": {},
     "output_type": "execute_result"
    }
   ],
   "source": [
    "chatbot.display_internal_data()"
   ]
  },
  {
   "cell_type": "markdown",
   "metadata": {},
   "source": [
    "## Message manipulations"
   ]
  },
  {
   "cell_type": "code",
   "execution_count": 8,
   "metadata": {},
   "outputs": [
    {
     "name": "stdout",
     "output_type": "stream",
     "text": [
      "[{'role': 'system', 'content': 'You are a helpful cooking assistant always eager to give a recipe for whatever the user says.'}, {'role': 'user', 'content': 'How is the weather here?'}, {'role': 'assistant', 'content': \"I'm happy to give you a recipe instead. What kind of dish are you in the mood for today?\"}, {'role': 'user', 'content': 'Ok. Give me a recipe inspired by weather'}, {'role': 'assistant', 'content': \"How about making a refreshing Watermelon Feta Salad that's perfect for hot weather? Here's a simple recipe for you:\\n\\nIngredients:\\n- 4 cups cubed watermelon\\n- 1 cup crumbled feta cheese\\n- 1/4 cup chopped fresh mint leaves\\n- 2 tablespoons balsamic glaze\\n- Salt and pepper to taste\\n\\nInstructions:\\n1. In a large bowl, combine the cubed watermelon and crumbled feta cheese.\\n2. Add the chopped fresh mint leaves and gently toss everything together.\\n3. Drizzle the balsamic glaze over the salad and season with salt and pepper to taste.\\n4. Give it a final toss to mix all the ingredients well.\\n5. Serve the Watermelon Feta Salad chilled and enjoy as a light and refreshing dish on a hot day!\\n\\nEnjoy your Watermelon Feta Salad inspired by the weather!\"}]\n",
      "Replacing latest with all sorts of nothing\n",
      "Chat Messages:\n",
      "[\n",
      "    {\n",
      "        \"role\": \"system\",\n",
      "        \"content\": \"You are a helpful cooking assistant always eager to give a recipe for whatever the user says.\"\n",
      "    },\n",
      "    {\n",
      "        \"role\": \"user\",\n",
      "        \"content\": \"How is the weather here?\"\n",
      "    },\n",
      "    {\n",
      "        \"role\": \"assistant\",\n",
      "        \"content\": \"I'm happy to give you a recipe instead. What kind of dish are you in the mood for today?\"\n",
      "    },\n",
      "    {\n",
      "        \"role\": \"user\",\n",
      "        \"content\": \"Ok. Give me a recipe inspired by weather\"\n",
      "    },\n",
      "    {\n",
      "        \"role\": \"assistant\",\n",
      "        \"content\": \"How about making a refreshing Watermelon Feta Salad that's perfect for hot weather? Here's a simple recipe for you:\\n\\nIngredients:\\n- 4 cups cubed watermelon\\n- 1 cup crumbled feta cheese\\n- 1/4 cup chopped fresh mint leaves\\n- 2 tablespoons balsamic glaze\\n- Salt and pepper to taste\\n\\nInstructions:\\n1. In a large bowl, combine the cubed watermelon and crumbled feta cheese.\\n2. Add the chopped fresh mint leaves and gently toss everything together.\\n3. Drizzle the balsamic glaze over the salad and season with salt and pepper to taste.\\n4. Give it a final toss to mix all the ingredients well.\\n5. Serve the Watermelon Feta Salad chilled and enjoy as a light and refreshing dish on a hot day!\\n\\nEnjoy your Watermelon Feta Salad inspired by the weather!\"\n",
      "    }\n",
      "]\n",
      "\n",
      "Context Map:\n",
      "{\n",
      "    \"latest_prompt\": \"Ok. Give me a recipe inspired by weather\",\n",
      "    \"_completion_tokens\": 203,\n",
      "    \"_prompt_tokens\": 109,\n",
      "    \"_total_tokens\": 312,\n",
      "    \"latest\": \"Replacing latest with all sorts of nothing\",\n",
      "    \"dish\": \"How about making a refreshing Watermelon Feta Salad that's perfect for hot weather? Here's a simple recipe for you:\\n\\nIngredients:\\n- 4 cups cubed watermelon\\n- 1 cup crumbled feta cheese\\n- 1/4 cup chopped fresh mint leaves\\n- 2 tablespoons balsamic glaze\\n- Salt and pepper to taste\\n\\nInstructions:\\n1. In a large bowl, combine the cubed watermelon and crumbled feta cheese.\\n2. Add the chopped fresh mint leaves and gently toss everything together.\\n3. Drizzle the balsamic glaze over the salad and season with salt and pepper to taste.\\n4. Give it a final toss to mix all the ingredients well.\\n5. Serve the Watermelon Feta Salad chilled and enjoy as a light and refreshing dish on a hot day!\\n\\nEnjoy your Watermelon Feta Salad inspired by the weather!\"\n",
      "}\n",
      "\n",
      "Images Map:\n",
      "{}\n",
      "\n",
      "Audio Map:\n",
      "{}\n"
     ]
    },
    {
     "data": {
      "text/plain": [
       "<aiflow.AIFlow at 0x18f96646e60>"
      ]
     },
     "execution_count": 8,
     "metadata": {},
     "output_type": "execute_result"
    }
   ],
   "source": [
    "chatbot.reduce_messages_to_text(lambda x: (print(x), \"Replacing latest with all sorts of nothing\")[1]).display_internal_data()"
   ]
  },
  {
   "cell_type": "code",
   "execution_count": 9,
   "metadata": {},
   "outputs": [
    {
     "data": {
      "text/plain": [
       "<aiflow.AIFlow at 0x18f96646e60>"
      ]
     },
     "execution_count": 9,
     "metadata": {},
     "output_type": "execute_result"
    }
   ],
   "source": [
    "chatbot.filter_messages(lambda items: [{**item, \"content\": \"You are an artist very good in poetry\"} if item.get(\"role\") == \"system\" else item for item in items])"
   ]
  },
  {
   "cell_type": "code",
   "execution_count": 10,
   "metadata": {},
   "outputs": [
    {
     "name": "stdout",
     "output_type": "stream",
     "text": [
      "Chat Messages:\n",
      "[\n",
      "    {\n",
      "        \"role\": \"system\",\n",
      "        \"content\": \"You are an artist very good in poetry\"\n",
      "    },\n",
      "    {\n",
      "        \"role\": \"user\",\n",
      "        \"content\": \"How is the weather here?\"\n",
      "    },\n",
      "    {\n",
      "        \"role\": \"assistant\",\n",
      "        \"content\": \"I'm happy to give you a recipe instead. What kind of dish are you in the mood for today?\"\n",
      "    },\n",
      "    {\n",
      "        \"role\": \"user\",\n",
      "        \"content\": \"Ok. Give me a recipe inspired by weather\"\n",
      "    },\n",
      "    {\n",
      "        \"role\": \"assistant\",\n",
      "        \"content\": \"How about making a refreshing Watermelon Feta Salad that's perfect for hot weather? Here's a simple recipe for you:\\n\\nIngredients:\\n- 4 cups cubed watermelon\\n- 1 cup crumbled feta cheese\\n- 1/4 cup chopped fresh mint leaves\\n- 2 tablespoons balsamic glaze\\n- Salt and pepper to taste\\n\\nInstructions:\\n1. In a large bowl, combine the cubed watermelon and crumbled feta cheese.\\n2. Add the chopped fresh mint leaves and gently toss everything together.\\n3. Drizzle the balsamic glaze over the salad and season with salt and pepper to taste.\\n4. Give it a final toss to mix all the ingredients well.\\n5. Serve the Watermelon Feta Salad chilled and enjoy as a light and refreshing dish on a hot day!\\n\\nEnjoy your Watermelon Feta Salad inspired by the weather!\"\n",
      "    }\n",
      "]\n",
      "\n",
      "Context Map:\n",
      "{\n",
      "    \"latest_prompt\": \"Ok. Give me a recipe inspired by weather\",\n",
      "    \"_completion_tokens\": 203,\n",
      "    \"_prompt_tokens\": 109,\n",
      "    \"_total_tokens\": 312,\n",
      "    \"latest\": \"Replacing latest with all sorts of nothing\",\n",
      "    \"dish\": \"How about making a refreshing Watermelon Feta Salad that's perfect for hot weather? Here's a simple recipe for you:\\n\\nIngredients:\\n- 4 cups cubed watermelon\\n- 1 cup crumbled feta cheese\\n- 1/4 cup chopped fresh mint leaves\\n- 2 tablespoons balsamic glaze\\n- Salt and pepper to taste\\n\\nInstructions:\\n1. In a large bowl, combine the cubed watermelon and crumbled feta cheese.\\n2. Add the chopped fresh mint leaves and gently toss everything together.\\n3. Drizzle the balsamic glaze over the salad and season with salt and pepper to taste.\\n4. Give it a final toss to mix all the ingredients well.\\n5. Serve the Watermelon Feta Salad chilled and enjoy as a light and refreshing dish on a hot day!\\n\\nEnjoy your Watermelon Feta Salad inspired by the weather!\"\n",
      "}\n",
      "\n",
      "Images Map:\n",
      "{}\n",
      "\n",
      "Audio Map:\n",
      "{}\n"
     ]
    },
    {
     "data": {
      "text/plain": [
       "<aiflow.AIFlow at 0x18f96646e60>"
      ]
     },
     "execution_count": 10,
     "metadata": {},
     "output_type": "execute_result"
    }
   ],
   "source": [
    "chatbot.display_internal_data()"
   ]
  },
  {
   "cell_type": "markdown",
   "metadata": {},
   "source": [
    "## Just completions - no chat"
   ]
  },
  {
   "cell_type": "code",
   "execution_count": 11,
   "metadata": {},
   "outputs": [
    {
     "name": "stdout",
     "output_type": "stream",
     "text": [
      "Give me 10 random names\n",
      "\n",
      "1. Stella\n",
      "2. Elijah\n",
      "3. Penelope\n",
      "4. Marcus\n",
      "5. Isabella\n",
      "6. Declan\n",
      "7. Harper\n",
      "8. Felix\n",
      "9. Jade\n",
      "10. Owen\n",
      "\n"
     ]
    },
    {
     "data": {
      "text/plain": [
       "<aiflow.AIFlow at 0x18f96646e60>"
      ]
     },
     "execution_count": 11,
     "metadata": {},
     "output_type": "execute_result"
    }
   ],
   "source": [
    "chatbot.generate_completion(\"Give me 10 random names\")"
   ]
  },
  {
   "cell_type": "code",
   "execution_count": 12,
   "metadata": {},
   "outputs": [
    {
     "name": "stdout",
     "output_type": "stream",
     "text": [
      "Chat Messages:\n",
      "[\n",
      "    {\n",
      "        \"role\": \"system\",\n",
      "        \"content\": \"You are an artist very good in poetry\"\n",
      "    },\n",
      "    {\n",
      "        \"role\": \"user\",\n",
      "        \"content\": \"How is the weather here?\"\n",
      "    },\n",
      "    {\n",
      "        \"role\": \"assistant\",\n",
      "        \"content\": \"I'm happy to give you a recipe instead. What kind of dish are you in the mood for today?\"\n",
      "    },\n",
      "    {\n",
      "        \"role\": \"user\",\n",
      "        \"content\": \"Ok. Give me a recipe inspired by weather\"\n",
      "    },\n",
      "    {\n",
      "        \"role\": \"assistant\",\n",
      "        \"content\": \"How about making a refreshing Watermelon Feta Salad that's perfect for hot weather? Here's a simple recipe for you:\\n\\nIngredients:\\n- 4 cups cubed watermelon\\n- 1 cup crumbled feta cheese\\n- 1/4 cup chopped fresh mint leaves\\n- 2 tablespoons balsamic glaze\\n- Salt and pepper to taste\\n\\nInstructions:\\n1. In a large bowl, combine the cubed watermelon and crumbled feta cheese.\\n2. Add the chopped fresh mint leaves and gently toss everything together.\\n3. Drizzle the balsamic glaze over the salad and season with salt and pepper to taste.\\n4. Give it a final toss to mix all the ingredients well.\\n5. Serve the Watermelon Feta Salad chilled and enjoy as a light and refreshing dish on a hot day!\\n\\nEnjoy your Watermelon Feta Salad inspired by the weather!\"\n",
      "    }\n",
      "]\n",
      "\n",
      "Context Map:\n",
      "{\n",
      "    \"latest_prompt\": \"Give me 10 random names\",\n",
      "    \"_completion_tokens\": 245,\n",
      "    \"_prompt_tokens\": 122,\n",
      "    \"_total_tokens\": 367,\n",
      "    \"latest\": \"1. Stella\\n2. Elijah\\n3. Penelope\\n4. Marcus\\n5. Isabella\\n6. Declan\\n7. Harper\\n8. Felix\\n9. Jade\\n10. Owen\",\n",
      "    \"dish\": \"How about making a refreshing Watermelon Feta Salad that's perfect for hot weather? Here's a simple recipe for you:\\n\\nIngredients:\\n- 4 cups cubed watermelon\\n- 1 cup crumbled feta cheese\\n- 1/4 cup chopped fresh mint leaves\\n- 2 tablespoons balsamic glaze\\n- Salt and pepper to taste\\n\\nInstructions:\\n1. In a large bowl, combine the cubed watermelon and crumbled feta cheese.\\n2. Add the chopped fresh mint leaves and gently toss everything together.\\n3. Drizzle the balsamic glaze over the salad and season with salt and pepper to taste.\\n4. Give it a final toss to mix all the ingredients well.\\n5. Serve the Watermelon Feta Salad chilled and enjoy as a light and refreshing dish on a hot day!\\n\\nEnjoy your Watermelon Feta Salad inspired by the weather!\"\n",
      "}\n",
      "\n",
      "Images Map:\n",
      "{}\n",
      "\n",
      "Audio Map:\n",
      "{}\n"
     ]
    },
    {
     "data": {
      "text/plain": [
       "<aiflow.AIFlow at 0x18f96646e60>"
      ]
     },
     "execution_count": 12,
     "metadata": {},
     "output_type": "execute_result"
    }
   ],
   "source": [
    "chatbot.display_internal_data()"
   ]
  },
  {
   "cell_type": "code",
   "execution_count": 13,
   "metadata": {},
   "outputs": [
    {
     "name": "stdout",
     "output_type": "stream",
     "text": [
      "Give the following names in reverse order: [latest].\n",
      "\n",
      "10. Owen\n",
      "9. Jade\n",
      "8. Felix\n",
      "7. Harper\n",
      "6. Declan\n",
      "5. Isabella\n",
      "4. Marcus\n",
      "3. Penelope\n",
      "2. Elijah\n",
      "1. Stella\n",
      "\n"
     ]
    },
    {
     "data": {
      "text/plain": [
       "<aiflow.AIFlow at 0x18f96646e60>"
      ]
     },
     "execution_count": 13,
     "metadata": {},
     "output_type": "execute_result"
    }
   ],
   "source": [
    "chatbot.generate_completion(\"Give the following names in reverse order: [latest].\")"
   ]
  },
  {
   "cell_type": "markdown",
   "metadata": {},
   "source": [
    "## Saving and loading state\n",
    "To avoid having the rerun all queries when you restart the kernel etc.."
   ]
  },
  {
   "cell_type": "code",
   "execution_count": 14,
   "metadata": {},
   "outputs": [
    {
     "data": {
      "text/plain": [
       "<aiflow.AIFlow at 0x18f96646e60>"
      ]
     },
     "execution_count": 14,
     "metadata": {},
     "output_type": "execute_result"
    }
   ],
   "source": [
    "chatbot.save_internal_state(filename=\"mystate.json\")"
   ]
  },
  {
   "cell_type": "code",
   "execution_count": 15,
   "metadata": {},
   "outputs": [
    {
     "name": "stdout",
     "output_type": "stream",
     "text": [
      "Chat Messages:\n",
      "[\n",
      "    {\n",
      "        \"role\": \"system\",\n",
      "        \"content\": \"You are an artist very good in poetry\"\n",
      "    },\n",
      "    {\n",
      "        \"role\": \"user\",\n",
      "        \"content\": \"How is the weather here?\"\n",
      "    },\n",
      "    {\n",
      "        \"role\": \"assistant\",\n",
      "        \"content\": \"I'm happy to give you a recipe instead. What kind of dish are you in the mood for today?\"\n",
      "    },\n",
      "    {\n",
      "        \"role\": \"user\",\n",
      "        \"content\": \"Ok. Give me a recipe inspired by weather\"\n",
      "    },\n",
      "    {\n",
      "        \"role\": \"assistant\",\n",
      "        \"content\": \"How about making a refreshing Watermelon Feta Salad that's perfect for hot weather? Here's a simple recipe for you:\\n\\nIngredients:\\n- 4 cups cubed watermelon\\n- 1 cup crumbled feta cheese\\n- 1/4 cup chopped fresh mint leaves\\n- 2 tablespoons balsamic glaze\\n- Salt and pepper to taste\\n\\nInstructions:\\n1. In a large bowl, combine the cubed watermelon and crumbled feta cheese.\\n2. Add the chopped fresh mint leaves and gently toss everything together.\\n3. Drizzle the balsamic glaze over the salad and season with salt and pepper to taste.\\n4. Give it a final toss to mix all the ingredients well.\\n5. Serve the Watermelon Feta Salad chilled and enjoy as a light and refreshing dish on a hot day!\\n\\nEnjoy your Watermelon Feta Salad inspired by the weather!\"\n",
      "    }\n",
      "]\n",
      "\n",
      "Context Map:\n",
      "{\n",
      "    \"latest_prompt\": \"Give the following names in reverse order: 1. Stella\\n2. Elijah\\n3. Penelope\\n4. Marcus\\n5. Isabella\\n6. Declan\\n7. Harper\\n8. Felix\\n9. Jade\\n10. Owen.\",\n",
      "    \"_completion_tokens\": 287,\n",
      "    \"_prompt_tokens\": 181,\n",
      "    \"_total_tokens\": 468,\n",
      "    \"latest\": \"10. Owen\\n9. Jade\\n8. Felix\\n7. Harper\\n6. Declan\\n5. Isabella\\n4. Marcus\\n3. Penelope\\n2. Elijah\\n1. Stella\",\n",
      "    \"dish\": \"How about making a refreshing Watermelon Feta Salad that's perfect for hot weather? Here's a simple recipe for you:\\n\\nIngredients:\\n- 4 cups cubed watermelon\\n- 1 cup crumbled feta cheese\\n- 1/4 cup chopped fresh mint leaves\\n- 2 tablespoons balsamic glaze\\n- Salt and pepper to taste\\n\\nInstructions:\\n1. In a large bowl, combine the cubed watermelon and crumbled feta cheese.\\n2. Add the chopped fresh mint leaves and gently toss everything together.\\n3. Drizzle the balsamic glaze over the salad and season with salt and pepper to taste.\\n4. Give it a final toss to mix all the ingredients well.\\n5. Serve the Watermelon Feta Salad chilled and enjoy as a light and refreshing dish on a hot day!\\n\\nEnjoy your Watermelon Feta Salad inspired by the weather!\"\n",
      "}\n",
      "\n",
      "Images Map:\n",
      "{}\n",
      "\n",
      "Audio Map:\n",
      "{}\n"
     ]
    },
    {
     "data": {
      "text/plain": [
       "<aiflow.AIFlow at 0x18f96646e60>"
      ]
     },
     "execution_count": 15,
     "metadata": {},
     "output_type": "execute_result"
    }
   ],
   "source": [
    "chatbot.load_internal_state(filename=\"mystate.json\").display_internal_data()"
   ]
  },
  {
   "cell_type": "markdown",
   "metadata": {},
   "source": [
    "## Some context manipulations"
   ]
  },
  {
   "cell_type": "code",
   "execution_count": 16,
   "metadata": {},
   "outputs": [
    {
     "name": "stdout",
     "output_type": "stream",
     "text": [
      "Chat Messages:\n",
      "[\n",
      "    {\n",
      "        \"role\": \"system\",\n",
      "        \"content\": \"You are an artist very good in poetry\"\n",
      "    },\n",
      "    {\n",
      "        \"role\": \"user\",\n",
      "        \"content\": \"How is the weather here?\"\n",
      "    },\n",
      "    {\n",
      "        \"role\": \"assistant\",\n",
      "        \"content\": \"I'm happy to give you a recipe instead. What kind of dish are you in the mood for today?\"\n",
      "    },\n",
      "    {\n",
      "        \"role\": \"user\",\n",
      "        \"content\": \"Ok. Give me a recipe inspired by weather\"\n",
      "    },\n",
      "    {\n",
      "        \"role\": \"assistant\",\n",
      "        \"content\": \"How about making a refreshing Watermelon Feta Salad that's perfect for hot weather? Here's a simple recipe for you:\\n\\nIngredients:\\n- 4 cups cubed watermelon\\n- 1 cup crumbled feta cheese\\n- 1/4 cup chopped fresh mint leaves\\n- 2 tablespoons balsamic glaze\\n- Salt and pepper to taste\\n\\nInstructions:\\n1. In a large bowl, combine the cubed watermelon and crumbled feta cheese.\\n2. Add the chopped fresh mint leaves and gently toss everything together.\\n3. Drizzle the balsamic glaze over the salad and season with salt and pepper to taste.\\n4. Give it a final toss to mix all the ingredients well.\\n5. Serve the Watermelon Feta Salad chilled and enjoy as a light and refreshing dish on a hot day!\\n\\nEnjoy your Watermelon Feta Salad inspired by the weather!\"\n",
      "    }\n",
      "]\n",
      "\n",
      "Context Map:\n",
      "{\n",
      "    \"latest_prompt\": \"Give the following names in reverse order: 1. Stella\\n2. Elijah\\n3. Penelope\\n4. Marcus\\n5. Isabella\\n6. Declan\\n7. Harper\\n8. Felix\\n9. Jade\\n10. Owen.\",\n",
      "    \"_completion_tokens\": 287,\n",
      "    \"_prompt_tokens\": 181,\n",
      "    \"_total_tokens\": 468,\n",
      "    \"latest\": \"10. Owen\\n9. Jade\\n8. Felix\\n7. Harper\\n6. Declan\\n5. Isabella\\n4. Marcus\\n3. Penelope\\n2. Elijah\\n1. Stella\",\n",
      "    \"dish\": \"How about making a refreshing Watermelon Feta Salad that's perfect for hot weather? Here's a simple recipe for you:\\n\\nIngredients:\\n- 4 cups cubed watermelon\\n- 1 cup crumbled feta cheese\\n- 1/4 cup chopped fresh mint leaves\\n- 2 tablespoons balsamic glaze\\n- Salt and pepper to taste\\n\\nInstructions:\\n1. In a large bowl, combine the cubed watermelon and crumbled feta cheese.\\n2. Add the chopped fresh mint leaves and gently toss everything together.\\n3. Drizzle the balsamic glaze over the salad and season with salt and pepper to taste.\\n4. Give it a final toss to mix all the ingredients well.\\n5. Serve the Watermelon Feta Salad chilled and enjoy as a light and refreshing dish on a hot day!\\n\\nEnjoy your Watermelon Feta Salad inspired by the weather!\"\n",
      "}\n",
      "\n",
      "Images Map:\n",
      "{}\n",
      "\n",
      "Audio Map:\n",
      "{}\n"
     ]
    },
    {
     "data": {
      "text/plain": [
       "<aiflow.AIFlow at 0x18f96646e60>"
      ]
     },
     "execution_count": 16,
     "metadata": {},
     "output_type": "execute_result"
    }
   ],
   "source": [
    "chatbot.display_internal_data()"
   ]
  },
  {
   "cell_type": "code",
   "execution_count": 17,
   "metadata": {},
   "outputs": [
    {
     "name": "stdout",
     "output_type": "stream",
     "text": [
      "Chat Messages:\n",
      "[\n",
      "    {\n",
      "        \"role\": \"system\",\n",
      "        \"content\": \"You are an artist very good in poetry\"\n",
      "    },\n",
      "    {\n",
      "        \"role\": \"user\",\n",
      "        \"content\": \"How is the weather here?\"\n",
      "    },\n",
      "    {\n",
      "        \"role\": \"assistant\",\n",
      "        \"content\": \"I'm happy to give you a recipe instead. What kind of dish are you in the mood for today?\"\n",
      "    },\n",
      "    {\n",
      "        \"role\": \"user\",\n",
      "        \"content\": \"Ok. Give me a recipe inspired by weather\"\n",
      "    },\n",
      "    {\n",
      "        \"role\": \"assistant\",\n",
      "        \"content\": \"How about making a refreshing Watermelon Feta Salad that's perfect for hot weather? Here's a simple recipe for you:\\n\\nIngredients:\\n- 4 cups cubed watermelon\\n- 1 cup crumbled feta cheese\\n- 1/4 cup chopped fresh mint leaves\\n- 2 tablespoons balsamic glaze\\n- Salt and pepper to taste\\n\\nInstructions:\\n1. In a large bowl, combine the cubed watermelon and crumbled feta cheese.\\n2. Add the chopped fresh mint leaves and gently toss everything together.\\n3. Drizzle the balsamic glaze over the salad and season with salt and pepper to taste.\\n4. Give it a final toss to mix all the ingredients well.\\n5. Serve the Watermelon Feta Salad chilled and enjoy as a light and refreshing dish on a hot day!\\n\\nEnjoy your Watermelon Feta Salad inspired by the weather!\"\n",
      "    }\n",
      "]\n",
      "\n",
      "Context Map:\n",
      "{\n",
      "    \"latest_prompt\": \"Give the following names in reverse order: 1. Stella\\n2. Elijah\\n3. Penelope\\n4. Marcus\\n5. Isabella\\n6. Declan\\n7. Harper\\n8. Felix\\n9. Jade\\n10. Owen.\",\n",
      "    \"_completion_tokens\": 287,\n",
      "    \"_prompt_tokens\": 181,\n",
      "    \"_total_tokens\": 468,\n",
      "    \"latest\": \"10. Owen\\n9. Jade\\n8. Felix\\n7. Harper\\n6. Declan\\n5. Isabella\\n4. Marcus\\n3. Penelope\\n2. Elijah\\n1. Stella\",\n",
      "    \"dish\": \"How about making a refreshing Watermelon Feta Salad that's perfect for hot weather? Here's a simple recipe for you:\\n\\nIngredients:\\n- 4 cups cubed watermelon\\n- 1 cup crumbled feta cheese\\n- 1/4 cup chopped fresh mint leaves\\n- 2 tablespoons balsamic glaze\\n- Salt and pepper to taste\\n\\nInstructions:\\n1. In a large bowl, combine the cubed watermelon and crumbled feta cheese.\\n2. Add the chopped fresh mint leaves and gently toss everything together.\\n3. Drizzle the balsamic glaze over the salad and season with salt and pepper to taste.\\n4. Give it a final toss to mix all the ingredients well.\\n5. Serve the Watermelon Feta Salad chilled and enjoy as a light and refreshing dish on a hot day!\\n\\nEnjoy your Watermelon Feta Salad inspired by the weather!\",\n",
      "    \"stuff\": \"Nothing\"\n",
      "}\n",
      "\n",
      "Images Map:\n",
      "{}\n",
      "\n",
      "Audio Map:\n",
      "{}\n",
      "Chat Messages:\n",
      "[\n",
      "    {\n",
      "        \"role\": \"system\",\n",
      "        \"content\": \"You are an artist very good in poetry\"\n",
      "    },\n",
      "    {\n",
      "        \"role\": \"user\",\n",
      "        \"content\": \"How is the weather here?\"\n",
      "    },\n",
      "    {\n",
      "        \"role\": \"assistant\",\n",
      "        \"content\": \"I'm happy to give you a recipe instead. What kind of dish are you in the mood for today?\"\n",
      "    },\n",
      "    {\n",
      "        \"role\": \"user\",\n",
      "        \"content\": \"Ok. Give me a recipe inspired by weather\"\n",
      "    },\n",
      "    {\n",
      "        \"role\": \"assistant\",\n",
      "        \"content\": \"How about making a refreshing Watermelon Feta Salad that's perfect for hot weather? Here's a simple recipe for you:\\n\\nIngredients:\\n- 4 cups cubed watermelon\\n- 1 cup crumbled feta cheese\\n- 1/4 cup chopped fresh mint leaves\\n- 2 tablespoons balsamic glaze\\n- Salt and pepper to taste\\n\\nInstructions:\\n1. In a large bowl, combine the cubed watermelon and crumbled feta cheese.\\n2. Add the chopped fresh mint leaves and gently toss everything together.\\n3. Drizzle the balsamic glaze over the salad and season with salt and pepper to taste.\\n4. Give it a final toss to mix all the ingredients well.\\n5. Serve the Watermelon Feta Salad chilled and enjoy as a light and refreshing dish on a hot day!\\n\\nEnjoy your Watermelon Feta Salad inspired by the weather!\"\n",
      "    }\n",
      "]\n",
      "\n",
      "Context Map:\n",
      "{\n",
      "    \"latest_prompt\": \"Give the following names in reverse order: 1. Stella\\n2. Elijah\\n3. Penelope\\n4. Marcus\\n5. Isabella\\n6. Declan\\n7. Harper\\n8. Felix\\n9. Jade\\n10. Owen.\",\n",
      "    \"_completion_tokens\": 287,\n",
      "    \"_prompt_tokens\": 181,\n",
      "    \"_total_tokens\": 468,\n",
      "    \"latest\": \"10. Owen\\n9. Jade\\n8. Felix\\n7. Harper\\n6. Declan\\n5. Isabella\\n4. Marcus\\n3. Penelope\\n2. Elijah\\n1. Stella\",\n",
      "    \"dish\": \"How about making a refreshing Watermelon Feta Salad that's perfect for hot weather? Here's a simple recipe for you:\\n\\nIngredients:\\n- 4 cups cubed watermelon\\n- 1 cup crumbled feta cheese\\n- 1/4 cup chopped fresh mint leaves\\n- 2 tablespoons balsamic glaze\\n- Salt and pepper to taste\\n\\nInstructions:\\n1. In a large bowl, combine the cubed watermelon and crumbled feta cheese.\\n2. Add the chopped fresh mint leaves and gently toss everything together.\\n3. Drizzle the balsamic glaze over the salad and season with salt and pepper to taste.\\n4. Give it a final toss to mix all the ingredients well.\\n5. Serve the Watermelon Feta Salad chilled and enjoy as a light and refreshing dish on a hot day!\\n\\nEnjoy your Watermelon Feta Salad inspired by the weather!\"\n",
      "}\n",
      "\n",
      "Images Map:\n",
      "{}\n",
      "\n",
      "Audio Map:\n",
      "{}\n"
     ]
    },
    {
     "data": {
      "text/plain": [
       "<aiflow.AIFlow at 0x18f96646e60>"
      ]
     },
     "execution_count": 17,
     "metadata": {},
     "output_type": "execute_result"
    }
   ],
   "source": [
    "chatbot.set_context_of(content=\"Nothing\", label=\"stuff\").display_internal_data().delete_context(label=\"stuff\").display_internal_data()"
   ]
  },
  {
   "cell_type": "markdown",
   "metadata": {},
   "source": [
    "## Dumping content to files"
   ]
  },
  {
   "cell_type": "code",
   "execution_count": 18,
   "metadata": {},
   "outputs": [
    {
     "data": {
      "text/plain": [
       "<aiflow.AIFlow at 0x18f96646e60>"
      ]
     },
     "execution_count": 18,
     "metadata": {},
     "output_type": "execute_result"
    }
   ],
   "source": [
    "chatbot.dump_context_to_files().dump_context_to_markdown()"
   ]
  },
  {
   "cell_type": "code",
   "execution_count": 19,
   "metadata": {},
   "outputs": [
    {
     "data": {
      "text/plain": [
       "<aiflow.AIFlow at 0x18f96646e60>"
      ]
     },
     "execution_count": 19,
     "metadata": {},
     "output_type": "execute_result"
    }
   ],
   "source": [
    "chatbot.generate_heading_for_context(label=\"dish\")\n"
   ]
  },
  {
   "cell_type": "code",
   "execution_count": 20,
   "metadata": {},
   "outputs": [
    {
     "data": {
      "text/plain": [
       "<aiflow.AIFlow at 0x18f96646e60>"
      ]
     },
     "execution_count": 20,
     "metadata": {},
     "output_type": "execute_result"
    }
   ],
   "source": [
    "chatbot.save_context_to_docx(output_filename=\"output.docx\")"
   ]
  },
  {
   "cell_type": "code",
   "execution_count": 21,
   "metadata": {},
   "outputs": [
    {
     "name": "stdout",
     "output_type": "stream",
     "text": [
      "Chat Messages:\n",
      "[\n",
      "    {\n",
      "        \"role\": \"system\",\n",
      "        \"content\": \"You are an artist very good in poetry\"\n",
      "    },\n",
      "    {\n",
      "        \"role\": \"user\",\n",
      "        \"content\": \"How is the weather here?\"\n",
      "    },\n",
      "    {\n",
      "        \"role\": \"assistant\",\n",
      "        \"content\": \"I'm happy to give you a recipe instead. What kind of dish are you in the mood for today?\"\n",
      "    },\n",
      "    {\n",
      "        \"role\": \"user\",\n",
      "        \"content\": \"Ok. Give me a recipe inspired by weather\"\n",
      "    },\n",
      "    {\n",
      "        \"role\": \"assistant\",\n",
      "        \"content\": \"How about making a refreshing Watermelon Feta Salad that's perfect for hot weather? Here's a simple recipe for you:\\n\\nIngredients:\\n- 4 cups cubed watermelon\\n- 1 cup crumbled feta cheese\\n- 1/4 cup chopped fresh mint leaves\\n- 2 tablespoons balsamic glaze\\n- Salt and pepper to taste\\n\\nInstructions:\\n1. In a large bowl, combine the cubed watermelon and crumbled feta cheese.\\n2. Add the chopped fresh mint leaves and gently toss everything together.\\n3. Drizzle the balsamic glaze over the salad and season with salt and pepper to taste.\\n4. Give it a final toss to mix all the ingredients well.\\n5. Serve the Watermelon Feta Salad chilled and enjoy as a light and refreshing dish on a hot day!\\n\\nEnjoy your Watermelon Feta Salad inspired by the weather!\"\n",
      "    }\n",
      "]\n",
      "\n",
      "Context Map:\n",
      "{\n",
      "    \"latest_prompt\": \"Give the following names in reverse order: 1. Stella\\n2. Elijah\\n3. Penelope\\n4. Marcus\\n5. Isabella\\n6. Declan\\n7. Harper\\n8. Felix\\n9. Jade\\n10. Owen.\",\n",
      "    \"_completion_tokens\": 306,\n",
      "    \"_prompt_tokens\": 381,\n",
      "    \"_total_tokens\": 687,\n",
      "    \"latest\": \"10. Owen\\n9. Jade\\n8. Felix\\n7. Harper\\n6. Declan\\n5. Isabella\\n4. Marcus\\n3. Penelope\\n2. Elijah\\n1. Stella\",\n",
      "    \"dish\": \"How about making a refreshing Watermelon Feta Salad that's perfect for hot weather? Here's a simple recipe for you:\\n\\nIngredients:\\n- 4 cups cubed watermelon\\n- 1 cup crumbled feta cheese\\n- 1/4 cup chopped fresh mint leaves\\n- 2 tablespoons balsamic glaze\\n- Salt and pepper to taste\\n\\nInstructions:\\n1. In a large bowl, combine the cubed watermelon and crumbled feta cheese.\\n2. Add the chopped fresh mint leaves and gently toss everything together.\\n3. Drizzle the balsamic glaze over the salad and season with salt and pepper to taste.\\n4. Give it a final toss to mix all the ingredients well.\\n5. Serve the Watermelon Feta Salad chilled and enjoy as a light and refreshing dish on a hot day!\\n\\nEnjoy your Watermelon Feta Salad inspired by the weather!\",\n",
      "    \"dish_heading\": \"Watermelon Feta Salad with mint, balsamic glaze; perfect for hot days.\"\n",
      "}\n",
      "\n",
      "Images Map:\n",
      "{}\n",
      "\n",
      "Audio Map:\n",
      "{}\n"
     ]
    },
    {
     "data": {
      "text/plain": [
       "<aiflow.AIFlow at 0x18f96646e60>"
      ]
     },
     "execution_count": 21,
     "metadata": {},
     "output_type": "execute_result"
    }
   ],
   "source": [
    "chatbot.display_internal_data()"
   ]
  },
  {
   "cell_type": "code",
   "execution_count": 22,
   "metadata": {},
   "outputs": [
    {
     "data": {
      "text/plain": [
       "{'completion_tokens': 306, 'prompt_tokens': 381, 'total_tokens': 687}"
      ]
     },
     "execution_count": 22,
     "metadata": {},
     "output_type": "execute_result"
    }
   ],
   "source": [
    "chatbot.get_token_usage()"
   ]
  },
  {
   "cell_type": "markdown",
   "metadata": {},
   "source": [
    "## Data loading"
   ]
  },
  {
   "cell_type": "code",
   "execution_count": 23,
   "metadata": {},
   "outputs": [
    {
     "name": "stdout",
     "output_type": "stream",
     "text": [
      "Chat Messages:\n",
      "[\n",
      "    {\n",
      "        \"role\": \"system\",\n",
      "        \"content\": \"You are an artist very good in poetry\"\n",
      "    },\n",
      "    {\n",
      "        \"role\": \"user\",\n",
      "        \"content\": \"How is the weather here?\"\n",
      "    },\n",
      "    {\n",
      "        \"role\": \"assistant\",\n",
      "        \"content\": \"I'm happy to give you a recipe instead. What kind of dish are you in the mood for today?\"\n",
      "    },\n",
      "    {\n",
      "        \"role\": \"user\",\n",
      "        \"content\": \"Ok. Give me a recipe inspired by weather\"\n",
      "    },\n",
      "    {\n",
      "        \"role\": \"assistant\",\n",
      "        \"content\": \"How about making a refreshing Watermelon Feta Salad that's perfect for hot weather? Here's a simple recipe for you:\\n\\nIngredients:\\n- 4 cups cubed watermelon\\n- 1 cup crumbled feta cheese\\n- 1/4 cup chopped fresh mint leaves\\n- 2 tablespoons balsamic glaze\\n- Salt and pepper to taste\\n\\nInstructions:\\n1. In a large bowl, combine the cubed watermelon and crumbled feta cheese.\\n2. Add the chopped fresh mint leaves and gently toss everything together.\\n3. Drizzle the balsamic glaze over the salad and season with salt and pepper to taste.\\n4. Give it a final toss to mix all the ingredients well.\\n5. Serve the Watermelon Feta Salad chilled and enjoy as a light and refreshing dish on a hot day!\\n\\nEnjoy your Watermelon Feta Salad inspired by the weather!\"\n",
      "    }\n",
      "]\n",
      "\n",
      "Context Map:\n",
      "{\n",
      "    \"latest_prompt\": \"Give the following names in reverse order: 1. Stella\\n2. Elijah\\n3. Penelope\\n4. Marcus\\n5. Isabella\\n6. Declan\\n7. Harper\\n8. Felix\\n9. Jade\\n10. Owen.\",\n",
      "    \"_completion_tokens\": 306,\n",
      "    \"_prompt_tokens\": 381,\n",
      "    \"_total_tokens\": 687,\n",
      "    \"latest\": \"10. Owen\\n9. Jade\\n8. Felix\\n7. Harper\\n6. Declan\\n5. Isabella\\n4. Marcus\\n3. Penelope\\n2. Elijah\\n1. Stella\",\n",
      "    \"dish\": \"How about making a refreshing Watermelon Feta Salad that's perfect for hot weather? Here's a simple recipe for you:\\n\\nIngredients:\\n- 4 cups cubed watermelon\\n- 1 cup crumbled feta cheese\\n- 1/4 cup chopped fresh mint leaves\\n- 2 tablespoons balsamic glaze\\n- Salt and pepper to taste\\n\\nInstructions:\\n1. In a large bowl, combine the cubed watermelon and crumbled feta cheese.\\n2. Add the chopped fresh mint leaves and gently toss everything together.\\n3. Drizzle the balsamic glaze over the salad and season with salt and pepper to taste.\\n4. Give it a final toss to mix all the ingredients well.\\n5. Serve the Watermelon Feta Salad chilled and enjoy as a light and refreshing dish on a hot day!\\n\\nEnjoy your Watermelon Feta Salad inspired by the weather!\",\n",
      "    \"dish_heading\": \"Watermelon Feta Salad with mint, balsamic glaze; perfect for hot days.\",\n",
      "    \"latest_file\": \"You are a helpful assistant helping make a mail.  You will answer my questions a body of knowledge I provide.\\n\\nMy question is:\\n{question}\\n\\nKnowledge:\\n{knowledge}\\n\\nAnswer:\\n\\n\\n\\n\\n\"\n",
      "}\n",
      "\n",
      "Images Map:\n",
      "{}\n",
      "\n",
      "Audio Map:\n",
      "{}\n"
     ]
    },
    {
     "data": {
      "text/plain": [
       "<aiflow.AIFlow at 0x18f96646e60>"
      ]
     },
     "execution_count": 23,
     "metadata": {},
     "output_type": "execute_result"
    }
   ],
   "source": [
    "chatbot.load_to_context(filename=\"output.txt\").display_internal_data()"
   ]
  },
  {
   "cell_type": "markdown",
   "metadata": {},
   "source": [
    "# Combining AIFlows"
   ]
  },
  {
   "cell_type": "code",
   "execution_count": 24,
   "metadata": {},
   "outputs": [
    {
     "name": "stdout",
     "output_type": "stream",
     "text": [
      "Let's say you are a random person hungry for food. What would you like to eat?\n",
      "\n",
      "As a language model AI, I do not have the ability to eat or cravings like a regular person. But I can certainly help suggest some popular food options, such as pizza, pasta, burgers, sushi, tacos, or a sandwich. Let me know if you would like more suggestions!\n",
      "\n"
     ]
    },
    {
     "data": {
      "text/plain": [
       "<aiflow.AIFlow at 0x18f98a025c0>"
      ]
     },
     "execution_count": 24,
     "metadata": {},
     "output_type": "execute_result"
    }
   ],
   "source": [
    "otherbot=AIFlow(api_key=API_KEY,model=\"gpt-3.5-turbo\",max_tokens=3000, temperature=1)\n",
    "otherbot.generate_completion(\"Let's say you are a random person hungry for food. What would you like to eat?\")"
   ]
  },
  {
   "cell_type": "code",
   "execution_count": 25,
   "metadata": {},
   "outputs": [
    {
     "data": {
      "text/plain": [
       "'As a language model AI, I do not have the ability to eat or cravings like a regular person. But I can certainly help suggest some popular food options, such as pizza, pasta, burgers, sushi, tacos, or a sandwich. Let me know if you would like more suggestions!'"
      ]
     },
     "execution_count": 25,
     "metadata": {},
     "output_type": "execute_result"
    }
   ],
   "source": [
    "otherbot.display_latest_context_as_markdown()"
   ]
  },
  {
   "cell_type": "code",
   "execution_count": 11,
   "metadata": {},
   "outputs": [
    {
     "ename": "NameError",
     "evalue": "name 'otherbot' is not defined",
     "output_type": "error",
     "traceback": [
      "\u001b[1;31m---------------------------------------------------------------------------\u001b[0m",
      "\u001b[1;31mNameError\u001b[0m                                 Traceback (most recent call last)",
      "\u001b[1;32mc:\\Data\\src\\chatting\\aiflow_demo.ipynb Cell 39\u001b[0m line \u001b[0;36m2\n\u001b[0;32m      <a href='vscode-notebook-cell:/c%3A/Data/src/chatting/aiflow_demo.ipynb#X52sZmlsZQ%3D%3D?line=0'>1</a>\u001b[0m sillybot\u001b[39m=\u001b[39mAIFlow(api_key\u001b[39m=\u001b[39mAPI_KEY,model\u001b[39m=\u001b[39m\u001b[39m\"\u001b[39m\u001b[39mgpt-3.5-turbo\u001b[39m\u001b[39m\"\u001b[39m,max_tokens\u001b[39m=\u001b[39m\u001b[39m3000\u001b[39m, temperature\u001b[39m=\u001b[39m\u001b[39m1\u001b[39m)\n\u001b[1;32m----> <a href='vscode-notebook-cell:/c%3A/Data/src/chatting/aiflow_demo.ipynb#X52sZmlsZQ%3D%3D?line=1'>2</a>\u001b[0m sillybot\u001b[39m.\u001b[39mset_context_of(content\u001b[39m=\u001b[39motherbot\u001b[39m.\u001b[39mreturn_latest_to_text(), label\u001b[39m=\u001b[39m\u001b[39m\"\u001b[39m\u001b[39mfood_choice\u001b[39m\u001b[39m\"\u001b[39m)\u001b[39m.\u001b[39mshow_self_data()\n\u001b[0;32m      <a href='vscode-notebook-cell:/c%3A/Data/src/chatting/aiflow_demo.ipynb#X52sZmlsZQ%3D%3D?line=2'>3</a>\u001b[0m sillybot\u001b[39m.\u001b[39mcompletion(prompt\u001b[39m=\u001b[39m\u001b[39m\"\u001b[39m\u001b[39mGive a silly comment on the following choice of food: [food_choice]\u001b[39m\u001b[39m\"\u001b[39m)\u001b[39m.\u001b[39mshow_self_data()\n",
      "\u001b[1;31mNameError\u001b[0m: name 'otherbot' is not defined"
     ]
    }
   ],
   "source": [
    "sillybot=AIFlow(api_key=API_KEY,model=\"gpt-3.5-turbo\",max_tokens=3000, temperature=1)\n",
    "sillybot.set_context_of(content=otherbot.return_latest_to_text(), label=\"food_choice\").display_internal_data()\n",
    "sillybot.generate_completion(prompt=\"Give a silly comment on the following choice of food: [food_choice]\").display_internal_data()"
   ]
  },
  {
   "cell_type": "markdown",
   "metadata": {},
   "source": [
    "# Using vectordatabase Chroma"
   ]
  },
  {
   "cell_type": "code",
   "execution_count": 27,
   "metadata": {},
   "outputs": [],
   "source": [
    "# https://docs.trychroma.com/guides\n",
    "import chromadb\n",
    "chroma_client = chromadb.Client() # chromadb.PersistentClient(path=\"/path/to/save/to\")\n",
    "collection = chroma_client.create_collection(name=\"my_collection\")"
   ]
  },
  {
   "cell_type": "code",
   "execution_count": 28,
   "metadata": {},
   "outputs": [],
   "source": [
    "collection.add(\n",
    "    documents=[ \n",
    "        \"This is a document about pineapple\",\n",
    "        \"This is a document about oranges\",\n",
    "        \"This is a document about cars\",\n",
    "        \"This is a document about pears\",\n",
    "        \"This is a document about computers\",\n",
    "        \"This is a document about fruit\",\n",
    "        \"This is a document about tropical fruits\",\n",
    "    ],\n",
    "    ids=[\"id1\", \"id2\", \"id3\", \"id4\", \"id5\", \"id6\", \"id7\"],\n",
    ")"
   ]
  },
  {
   "cell_type": "code",
   "execution_count": 29,
   "metadata": {},
   "outputs": [
    {
     "name": "stdout",
     "output_type": "stream",
     "text": [
      "{'ids': [['id1', 'id7', 'id6']], 'distances': [[1.0404009819030762, 1.0958093404769897, 1.2092766761779785]], 'metadatas': [[None, None, None]], 'embeddings': None, 'documents': [['This is a document about pineapple', 'This is a document about tropical fruits', 'This is a document about fruit']], 'uris': None, 'data': None}\n"
     ]
    }
   ],
   "source": [
    "results = collection.query(\n",
    "    query_texts=[\"This is a query document about hawaii\"], # Chroma will embed this for you\n",
    "    n_results=3 # how many results to return\n",
    ")\n",
    "print(results)"
   ]
  },
  {
   "cell_type": "code",
   "execution_count": 30,
   "metadata": {},
   "outputs": [
    {
     "data": {
      "text/plain": [
       "7"
      ]
     },
     "execution_count": 30,
     "metadata": {},
     "output_type": "execute_result"
    }
   ],
   "source": [
    "collection.peek() # returns a list of the first 10 items in the collection\n",
    "collection.count() # returns the number of items in the collection"
   ]
  },
  {
   "cell_type": "code",
   "execution_count": 31,
   "metadata": {},
   "outputs": [
    {
     "name": "stdout",
     "output_type": "stream",
     "text": [
      "This is a document about pineapple\n",
      "This is a document about tropical fruits\n",
      "This is a document about fruit\n"
     ]
    }
   ],
   "source": [
    "from aiflow import chroma_query_result_to_text\n",
    "print(chroma_query_result_to_text(results))"
   ]
  },
  {
   "cell_type": "code",
   "execution_count": 32,
   "metadata": {},
   "outputs": [
    {
     "name": "stdout",
     "output_type": "stream",
     "text": [
      "Say something really silly about this random text: [found_doc]\n",
      "\n",
      "This document is so fruity, it's about to start singing \"Strawberry Fields Forever!\"\n",
      "\n",
      "Chat Messages:\n",
      "[]\n",
      "\n",
      "Context Map:\n",
      "{\n",
      "    \"food_choice\": \"As a language model AI, I do not have the ability to eat or cravings like a regular person. But I can certainly help suggest some popular food options, such as pizza, pasta, burgers, sushi, tacos, or a sandwich. Let me know if you would like more suggestions!\",\n",
      "    \"latest_prompt\": \"Say something really silly about this random text: This is a document about pineapple\\nThis is a document about tropical fruits\\nThis is a document about fruit\",\n",
      "    \"_completion_tokens\": 63,\n",
      "    \"_prompt_tokens\": 113,\n",
      "    \"_total_tokens\": 176,\n",
      "    \"latest\": \"This document is so fruity, it's about to start singing \\\"Strawberry Fields Forever!\\\"\",\n",
      "    \"found_doc\": \"This is a document about pineapple\\nThis is a document about tropical fruits\\nThis is a document about fruit\"\n",
      "}\n",
      "\n",
      "Images Map:\n",
      "{}\n",
      "\n",
      "Audio Map:\n",
      "{}\n"
     ]
    },
    {
     "data": {
      "text/plain": [
       "<aiflow.AIFlow at 0x18f98a024a0>"
      ]
     },
     "execution_count": 32,
     "metadata": {},
     "output_type": "execute_result"
    }
   ],
   "source": [
    "sillybot.set_context_of(content=chroma_query_result_to_text(results), label=\"found_doc\")\n",
    "sillybot.generate_completion(\"Say something really silly about this random text: [found_doc]\").show_self_data()"
   ]
  },
  {
   "cell_type": "markdown",
   "metadata": {},
   "source": [
    "# Working with media"
   ]
  },
  {
   "cell_type": "markdown",
   "metadata": {},
   "source": [
    "https://platform.openai.com/docs/api-reference/images/create"
   ]
  },
  {
   "cell_type": "code",
   "execution_count": 43,
   "metadata": {},
   "outputs": [
    {
     "name": "stdout",
     "output_type": "stream",
     "text": [
      "Usage ImagesResponse(created=1719425332, data=[Image(b64_json=None, revised_prompt=None, url='https://oaidalleapiprodscus.blob.core.windows.net/private/org-qiwjaBjm9TZ58jKWInrRESeh/user-krnk9YsqIV2WoGdKtr7UH5kB/img-5tms4HKsUMvSoapHnKYmxe4t.png?st=2024-06-26T17%3A08%3A52Z&se=2024-06-26T19%3A08%3A52Z&sp=r&sv=2023-11-03&sr=b&rscd=inline&rsct=image/png&skoid=6aaadede-4fb3-4698-a8f6-684d7786b067&sktid=a48cca56-e6da-484e-a814-9c849652bcb3&skt=2024-06-25T23%3A16%3A55Z&ske=2024-06-26T23%3A16%3A55Z&sks=b&skv=2023-11-03&sig=DVol%2BEqdVLf6/KGO5/smjfMdJ657Jnv%2BQ8n2xjo500I%3D')])\n",
      "Chat Messages:\n",
      "[]\n",
      "\n",
      "Context Map:\n",
      "{\n",
      "    \"latest_image_prompt\": \"A big house in the desert.\",\n",
      "    \"latest_revised_image_prompt\": null\n",
      "}\n",
      "\n",
      "Images Map:\n",
      "{\n",
      "    \"latest_image\": \"https://oaidalleapiprodscus.blob.core.windows.net/private/org-qiwjaBjm9TZ58jKWInrRESeh/user-krnk9YsqIV2WoGdKtr7UH5kB/img-5tms4HKsUMvSoapHnKYmxe4t.png?st=2024-06-26T17%3A08%3A52Z&se=2024-06-26T19%3A08%3A52Z&sp=r&sv=2023-11-03&sr=b&rscd=inline&rsct=image/png&skoid=6aaadede-4fb3-4698-a8f6-684d7786b067&sktid=a48cca56-e6da-484e-a814-9c849652bcb3&skt=2024-06-25T23%3A16%3A55Z&ske=2024-06-26T23%3A16%3A55Z&sks=b&skv=2023-11-03&sig=DVol%2BEqdVLf6/KGO5/smjfMdJ657Jnv%2BQ8n2xjo500I%3D\"\n",
      "}\n",
      "\n",
      "Audio Map:\n",
      "{}\n",
      "Saving  latest_image generated_output/an_image.jpg\n",
      "Usage ImagesResponse(created=1719425341, data=[Image(b64_json=None, revised_prompt=None, url='https://oaidalleapiprodscus.blob.core.windows.net/private/org-qiwjaBjm9TZ58jKWInrRESeh/user-krnk9YsqIV2WoGdKtr7UH5kB/img-2hLdiHprc90MD3fgyd6q0kPw.png?st=2024-06-26T17%3A09%3A01Z&se=2024-06-26T19%3A09%3A01Z&sp=r&sv=2023-11-03&sr=b&rscd=inline&rsct=image/png&skoid=6aaadede-4fb3-4698-a8f6-684d7786b067&sktid=a48cca56-e6da-484e-a814-9c849652bcb3&skt=2024-06-26T18%3A09%3A01Z&ske=2024-06-27T18%3A09%3A01Z&sks=b&skv=2023-11-03&sig=z/3A6C6ZAaaavBySbeYkB6jT3Oui5vry2J8Z4edw%2BkI%3D')])\n"
     ]
    },
    {
     "data": {
      "text/html": [
       "<img src=\"https://oaidalleapiprodscus.blob.core.windows.net/private/org-qiwjaBjm9TZ58jKWInrRESeh/user-krnk9YsqIV2WoGdKtr7UH5kB/img-2hLdiHprc90MD3fgyd6q0kPw.png?st=2024-06-26T17%3A09%3A01Z&se=2024-06-26T19%3A09%3A01Z&sp=r&sv=2023-11-03&sr=b&rscd=inline&rsct=image/png&skoid=6aaadede-4fb3-4698-a8f6-684d7786b067&sktid=a48cca56-e6da-484e-a814-9c849652bcb3&skt=2024-06-26T18%3A09%3A01Z&ske=2024-06-27T18%3A09%3A01Z&sks=b&skv=2023-11-03&sig=z/3A6C6ZAaaavBySbeYkB6jT3Oui5vry2J8Z4edw%2BkI%3D\" />"
      ],
      "text/plain": [
       "<IPython.core.display.HTML object>"
      ]
     },
     "execution_count": 43,
     "metadata": {},
     "output_type": "execute_result"
    }
   ],
   "source": [
    "flow1.generate_image(\n",
    "    size=\"256x256\", prompt=\"A big house in the desert.\", html=False\n",
    ").show_self_data().dump_image_to_file(filename=\"generated_output/an_image.jpg\")\n",
    "\n",
    "# URLs with images expire in 1 hour\n",
    "flow1.generate_image(size=\"256x256\", prompt=\"A tomato plant on a car.\", html=True)"
   ]
  },
  {
   "cell_type": "markdown",
   "metadata": {},
   "source": [
    "https://platform.openai.com/docs/guides/vision"
   ]
  },
  {
   "cell_type": "code",
   "execution_count": 44,
   "metadata": {},
   "outputs": [
    {
     "name": "stdout",
     "output_type": "stream",
     "text": [
      "Usage ChatCompletion(id='chatcmpl-9eRNVrTTLJKUlE0lcJxqMPiXIf85T', choices=[Choice(finish_reason='stop', index=0, logprobs=None, message=ChatCompletionMessage(content='The image shows a beautiful natural landscape with a wooden boardwalk extending through a grassy field. The sky is mostly clear with some scattered clouds, and the sun appears to be providing bright, warm light, giving a peaceful and serene feel to the scene. There are trees and shrubs in the background, adding to the lush, green environment.', role='assistant', function_call=None, tool_calls=None))], created=1719425389, model='gpt-4o-2024-05-13', object='chat.completion', system_fingerprint='fp_4008e3b719', usage=CompletionUsage(completion_tokens=67, prompt_tokens=97, total_tokens=164))\n",
      "ChatCompletionMessage(content='The image shows a beautiful natural landscape with a wooden boardwalk extending through a grassy field. The sky is mostly clear with some scattered clouds, and the sun appears to be providing bright, warm light, giving a peaceful and serene feel to the scene. There are trees and shrubs in the background, adding to the lush, green environment.', role='assistant', function_call=None, tool_calls=None)\n"
     ]
    },
    {
     "data": {
      "text/plain": [
       "<aiflow.AIFlow at 0x18fac31a470>"
      ]
     },
     "execution_count": 44,
     "metadata": {},
     "output_type": "execute_result"
    }
   ],
   "source": [
    "flow1.analyze_image(\n",
    "    image=\"https://upload.wikimedia.org/wikipedia/commons/thumb/d/dd/Gfp-wisconsin-madison-the-nature-boardwalk.jpg/2560px-Gfp-wisconsin-madison-the-nature-boardwalk.jpg\"\n",
    ")"
   ]
  },
  {
   "cell_type": "markdown",
   "metadata": {},
   "source": []
  },
  {
   "cell_type": "markdown",
   "metadata": {},
   "source": [
    "https://platform.openai.com/docs/api-reference/audio/createSpeech"
   ]
  },
  {
   "cell_type": "code",
   "execution_count": 45,
   "metadata": {},
   "outputs": [
    {
     "name": "stdout",
     "output_type": "stream",
     "text": [
      "Usage <openai._legacy_response.HttpxBinaryResponseContent object at 0x0000018FAC3182E0>\n"
     ]
    },
    {
     "data": {
      "text/plain": [
       "<aiflow.AIFlow at 0x18fac31a470>"
      ]
     },
     "execution_count": 45,
     "metadata": {},
     "output_type": "execute_result"
    }
   ],
   "source": [
    "flow1.generate_speech(prompt=\"Jump for joy!\", filename=\"generated_output/jump.mp3\")"
   ]
  },
  {
   "cell_type": "markdown",
   "metadata": {},
   "source": [
    "https://platform.openai.com/docs/api-reference/audio/createTranscription"
   ]
  },
  {
   "cell_type": "code",
   "execution_count": 47,
   "metadata": {},
   "outputs": [
    {
     "name": "stdout",
     "output_type": "stream",
     "text": [
      "Usage Jump for joy.\n",
      "\n",
      "Jump for joy.\n",
      "\n"
     ]
    },
    {
     "data": {
      "text/plain": [
       "{'completion_tokens': 0, 'prompt_tokens': 0, 'total_tokens': 0}"
      ]
     },
     "execution_count": 47,
     "metadata": {},
     "output_type": "execute_result"
    }
   ],
   "source": [
    "flow1.get_token_usage()\n",
    "flow1.transcribe_audio(filename=\"generated_output/jump.mp3\").get_token_usage()"
   ]
  },
  {
   "cell_type": "markdown",
   "metadata": {},
   "source": [
    "https://platform.openai.com/docs/guides/moderation/overview"
   ]
  },
  {
   "cell_type": "code",
   "execution_count": 9,
   "metadata": {},
   "outputs": [
    {
     "name": "stdout",
     "output_type": "stream",
     "text": [
      "{\n",
      "  \"id\": \"modr-9eRs6hC8QI4P4zwzrFRmMRZRT5wGW\",\n",
      "  \"model\": \"text-moderation-007\",\n",
      "  \"results\": [\n",
      "    {\n",
      "      \"categories\": {\n",
      "        \"harassment\": false,\n",
      "        \"harassment/threatening\": false,\n",
      "        \"hate\": false,\n",
      "        \"hate/threatening\": false,\n",
      "        \"self-harm\": false,\n",
      "        \"self-harm/instructions\": false,\n",
      "        \"self-harm/intent\": false,\n",
      "        \"sexual\": false,\n",
      "        \"sexual/minors\": false,\n",
      "        \"violence\": false,\n",
      "        \"violence/graphic\": false,\n",
      "        \"self-harm\": false,\n",
      "        \"sexual/minors\": false,\n",
      "        \"hate/threatening\": false,\n",
      "        \"violence/graphic\": false,\n",
      "        \"self-harm/intent\": false,\n",
      "        \"self-harm/instructions\": false,\n",
      "        \"harassment/threatening\": false\n",
      "      },\n",
      "      \"category_scores\": {\n",
      "        \"harassment\": 0.013359030708670616,\n",
      "        \"harassment/threatening\": 2.8022158815588227e-8,\n",
      "        \"hate\": 0.00011000907397828996,\n",
      "        \"hate/threatening\": 5.6863641399729214e-12,\n",
      "        \"self-harm\": 8.968489062510798e-9,\n",
      "        \"self-harm/instructions\": 5.184334558872017e-11,\n",
      "        \"self-harm/intent\": 2.267186882676242e-9,\n",
      "        \"sexual\": 7.782967259117868e-6,\n",
      "        \"sexual/minors\": 1.4514487389760689e-8,\n",
      "        \"violence\": 5.038136805524118e-6,\n",
      "        \"violence/graphic\": 8.732466199035116e-7,\n",
      "        \"self-harm\": 8.968489062510798e-9,\n",
      "        \"sexual/minors\": 1.4514487389760689e-8,\n",
      "        \"hate/threatening\": 5.6863641399729214e-12,\n",
      "        \"violence/graphic\": 8.732466199035116e-7,\n",
      "        \"self-harm/intent\": 2.267186882676242e-9,\n",
      "        \"self-harm/instructions\": 5.184334558872017e-11,\n",
      "        \"harassment/threatening\": 2.8022158815588227e-8\n",
      "      },\n",
      "      \"flagged\": false\n",
      "    }\n",
      "  ]\n",
      "}\n"
     ]
    },
    {
     "data": {
      "text/plain": [
       "<aiflow.AIFlow at 0x215970e98d0>"
      ]
     },
     "execution_count": 9,
     "metadata": {},
     "output_type": "execute_result"
    }
   ],
   "source": [
    "flow1.moderate_content(\"This is stupid!\")"
   ]
  },
  {
   "cell_type": "markdown",
   "metadata": {},
   "source": [
    "# Youtube download, transcription and summary"
   ]
  },
  {
   "cell_type": "markdown",
   "metadata": {},
   "source": [
    "Let's transcribe and ask to summarise (will take a while)"
   ]
  },
  {
   "cell_type": "code",
   "execution_count": 4,
   "metadata": {},
   "outputs": [
    {
     "name": "stdout",
     "output_type": "stream",
     "text": [
      "Download completed - generating transcript\n",
      "transcript Uh-oh. One of the sinkholes, so to speak, that the money could go into is the asset class known as venture capital. And sinkhole it is. All right. This is Dalton plus Michael. And today we're going to talk about what is ZERP and why did it mess with the startup world? I love the term ZERP. Explain to everyone what ZERP is, the actual term. ZERP is one of those words that I find myself using a fair amount, that I often will be asked to pause and explain, what was that word you just said? And so we are saying the word ZERP, Z-I-R-P. Yeah, you got to say it like that. You got to say it like that. Z-I-R-P, and that is an acronym, right? For Zero Interest Rate Phenomenon. Yes. That's the period we lived through that ended as COVID was fatal. So in this time, the interest rate set by the Federal Reserve in the United States was zero. Yes. Some banks in Europe, you had to pay them. Yes, they had negative interest rates. And so look, we're not economists. We're not bankers. I think sometimes people think venture capital is the same thing as banking and private equity. I don't even think I'm a venture capitalist. I'm definitely not an economist. Well, our industry is pretty... We don't know anything about this stuff. We are not Wall Street people. We worked on building websites, basically, was what we did. But let's explain ZERP to you now. Yeah, so we don't know anything about this, so we're going to explain to you. This is YouTube, right? That's how this works? That's exactly how this works. Well, I'll say this. You know why we know about this? We've been victims. Yeah, we've seen the downstream effects. I can confidently tell you. We've been ZERPed on quite a bit. All right. So how did ZERP affect the startup world? And then we can talk about- Let me say this before. Oh, please. Let's talk about the flow of money. Oh, yes. Let's talk about the flow of money. Why ZERP? Okay. Yes. So there's money from the Federal Reserve and banks could basically get it for free. Again, if you're interested, you should research this from someone much smarter than me on this topic. Banks had to put it somewhere and it was hard to find a place to get yield, which was higher interest rates. Everyone had to put their money somewhere. And so they dumped it into stuff like mortgages. This is why mortgage interest rates were so low for banks like First Republic or SVB. And all these people were searching for yield, like the money needed to find a place to go. And by yield, you just mean like, I want to make more money than 0%. Which is what you could get from a bank, which is zero. Yes. Okay. And so what happened is a lot of this money ended up in alternate strategies, which include things like real estate, a la WeWork, or buying wacky stuff, again, that has nothing to do with us. But one of these sinkholes, so to speak, that the money could go into is the asset class known as venture capital. And sinkhole it is. It will consume any amount of money it is presented with. Exactly. And so what happened is all of this money floating around in the world ended up going to VC funds or family offices, who suddenly dramatically ramped up their rate of investing because they had access to it, because the money had to find a place to go. Yes. And so the spice must flow. It found a place to go. Well, and let's be clear, their motivations are that the more money they're managing, the more money they make. So the more money they're distributing out to investments, the next time they can raise the fund, they can get more management fees, stack those fees. And so there was a whole downstream effect of this money coming from wherever directly into people at Demo Day. Well, not just people at Demo Day, just the whole... As you said this, I was thinking about an analogy, America subsidized corn. And then suddenly everyone was motivated to figure out like, what can we do with corn? Like, can we use corn to make this? Can we use corn to make that? High fructose corn syrup? Yeah. Like, we can find... Sweet nerd. If you have a problem, corn can be a solution. We can find a corn based solution. Hey, you guys want some corn? We got corn. Yes. Yeah. That was money. You want money? That was money. That was money. Hey, I see a problem. Let's put some money on it. Do you not have product market fit? What if we throw some money at it? Are your margins negative? What if we threw money at it? Do you not know what you're working on? Money? Well, again, what's fascinating is a lot of these folks had not done startup investing before either. And so a lot of... Imagine someone that all they've done is run like a hedge fund trading stocks. Yes. Where they're like, oh, go buy 50 million of Google stock or whatever. They were treating investing in startups like investing in stocks. Well, I loved it because there was one firm we interacted with who was like, well, you would value public market companies using this rubric. Companies generating like 500 million plus in revenue, but often billions. We will just downsize that rubric to companies generating a million dollars in revenue because they're both companies. Why wouldn't we just analyze them the same? I don't know if your argument will be self-evident to our viewers. To us, that is crazy. Explain why that is crazy. Because needless to say, the failure rate of companies that are at 1 million revenue today paying a 500 million revenue ever is massively higher. Yes. There aren't as many publicly traded companies that just die. No. Whereas million dollar revenue companies are dying out minutely. Minutely. So this investor was like, wow. And I remember we were talking to them and I remember just being like, so you're just going to give these folks that don't know what they're doing a lot of money. And they were like, yes. Well, because they were running their own arbitrage because they had hot money from other people. They're basically middlemen, but they were a good sinkhole for money. And again, what's fascinating to kind of complete Michael's story is once the market turned and interest rates went back up. They got out. They're done. They got out of the business. They're gone. As fast as they got in. They don't do venture invest anymore. They were just out of town, blew out of town. But hey, during this time, it was amazing. We had founders who would ask for introductions to these people, but these are the founders would go, this is how the founder would say it. I heard if I talked to these folks for 30 minutes, they'll just give me a like, and then like in multiples of $10 million. And I remember because like other VCs were trying to kind of compete and they were just like, how do we compete with this? Like 30 minutes, $40 million. And Michael, I'll bet there's a lot of people watching this saying to themselves, this sounds great. Why are these guys laughing about it? Why wasn't it great, Michael? Or like, what was the downside of this? It turns out that if money was the only variable to making your company work, startups wouldn't work because all the incumbents have way more money. It's true. Apple has a lot of money. Like all the money, all the money effectively, right? Two, it turns out that like, when you give money to someone, they stop innovating and they start spending more money. Why do we have to have better software? We can just hire more people to fill in the blanks. Why do we have to do things better? It turns out when you give people more money, they start acting like the big companies they're trying to disrupt. But also it turns out the opposite is true. When they can't afford shit, they figure out how to do without. And that often creates the innovation. So it's just kind of like, we're going to give you money. It's poison. Like, would you like, how much poison would you like? You can drink as much as you want. We have infinite poison in the back. Can I give you more poison? It's shaped like money. It's going to kill you. Hey, let's be clear. Some founders, for them, the money wasn't poison, right? But that was a smaller percentage than you might think. So that's also when we saw the explosion of the unicorns. Remember when unicorns used to be rare, magical beasts? That was, I think, why they were called that. The name was, it was meant to be a rare, infrequently cited thing. As unicorns are, rare and infrequently cited. Well, that ended. Yeah. We would see them on a weekly basis, basically. And I would have to get the exact numbers, but I seem to recall on a weekly basis. It was a marketing thing, right? It was like, well, I'll give you a billion dollar valuation and you can be a unicorn. The second you name something, you begin to destroy it. It was interesting because I remember during this time, I was sitting in a board meeting and the founder was complaining that all the companies were too expensive. This company had cash. They wanted to buy a company and everything was too expensive. And he said something that tricked me a little bit, got my thinking. He was like, the revenue to valuation multiple. And I was like, yeah, that seems to make sense, right? The amount of revenue you're making versus your valuation. That would be an easy way to tell whether something's cheap or expensive. If your company's making a billion in revenue and it's worth, I don't know, $5 billion in valuation, that's cheaper than if your company is making $5 million in revenue and it's got a $5 billion valuation. And then I thought, I should just look around at some of these startups that are raising unicorns. I should kind of like check out TechCrunch and see what is this revenue to valuation multiple? When I saw that a company just raised at a 350x multiple, $3 million in revenue, $1 billion valuation, I was like, huh, I remember when Justin.TV and Twitch had $3 million in revenue. I'm like, huh, what percentage of things figured out did we have? Like 1%? And man, and then suddenly it hit me. I was like, oh no, like this is not gonna, this is not gonna last. And I remember like this was the start of the new YC Standard deal when we were starting to think about this, right? Like this is not gonna last. Yeah, I mean, for what it's worth, if founders that were in the batch during those times or people we did office hours with could probably back us up here, but we were definitely advising founders that the music would probably stop. Something about what was going on felt like Zerp again, which is the title. It was like, there's a lot of side effects of this zero interest rate thing going on. Let's not count on it lasting. And so make some smart moves now to prepare for the winter that will be coming. Yeah. Right? And I can't tell you how many founders were just like, no, this isn't winter. This is just- We're just getting started. Zerp is, we're just- This is great. It's gonna go- I don't know what you're talking about. Crazier than this. And it's weird cause I don't, you know, I didn't live through the nineties, right? The nineties in my life, the nineties tech boom was just like a story other people told. And it is so effed up that like we saw, it wasn't an exact replica. It happened in the private markets, not the public markets, but damn near. It was wacky. I mean, just to give a concrete example for folks, because money was so cheap, so to speak. Yes. Lending companies made a lot of sense. Because when you're doing lending, you need a lot of capital to lend out to people and then they pay an interest rate. Right? Yep. And so if your cost of capital is very low and you just lend it a lot, it works. And as it would turn out, money has product market fit. Always. And so lots of companies were like, oh, we're just going to do lending for X, you know, you name it. Yeah. And they're like, wow, we got product market fit. A lot of people want this thing called money. We're product geniuses. Unbelievable that people want this money thing that only we have. And it's very defensible. And then what happened is when interest rates went back up, the cost of capital for these businesses went up and it was hard for them to pass that along to their customers. And so kind of like overnight, there was a whole class of types of businesses that became very challenging. Well, and it was sad too, because I think that it also screwed with the people who were observing this and thinking about doing a startup. Everything got so inflated that you started seeing founders coming into YC being like, oh, well, my seed round should be $10 million. And it's like, what are you going to do with $10 million? Well, you had to just raise the $10 million seed. Yeah. They were entirely keeping up with the Joneses. The entire conception of startups is to read articles about what other companies are doing and being like, I want that and I want to top it. And there was a lot of trying to top everyone else going on. And it was sad too, because I would say I observed two types of VCs during this period of time. Three types, let's be sure. Three types of VCs. Type one was like, there isn't a problem. This is tech's heyday. And we're providing very real valuations to these companies. We just understand that tech is going through a heyday. Interesting group. Group two. I know this is screwed up, but I'm going to do it anyway. It's the game we play. If you get me in a room in private, I'm going to be like, eight of the last deals I did, I priced really dumb, but my LPs are cool. And then there's a third group. This group was small. We know some of them who were just like, count me out. I'm going to hold on to my capital. In the investment game, you invest when things are undervalued and you don't invest. Milo is so high. Yeah, I heard that somewhere. I'm not an economist. And there were some of them who did that and who were rewarded for it. People who knew it was a problem were still participating. But Michael, here's a question I imagine someone might be wondering. Weren't you guys part of the problem? Yeah. Yeah. And it's tricky, right? Because on the early stage, one of the things that insulated us is we have a standard deal, right? So we don't have to deal with these- Yeah, valuations. Valuations, da, da, da, da. But we had a growth fund. Yep. And yeah, that demo day auction during those period times, we were crazy. And I think we always suggested to folks that the key to greatness is to build a great business. Yes. Make so many people want. We really believe this stuff. Yes. And so we were advising people, even at the height of the stuff, hey, everyone, don't pay attention to all this noise. Try to build something enduring because the waves of the larger economy go up and down. And it's going to take a long time to build a startup. No matter what. If you're in the batch, trying to time the market is like the silliest thing of all time because you need 10 years. What did the market look like 10 years from now? Different. Different. And so it was always like, yeah, it is unlikely that anything going on now in the wider world will affect you, current batch startups. And that was a very consistent message- Very consistent. ... we had for folks. I think, though, that the bigger lesson, though, happened when the market corrected and we started to see what people did with that money. Yep. And I will say some companies, they took that capital and they can run their business profitably. They don't have to raise another round until they IPO. Those founders were very smart. Other founders, they spent that money. Yep. And then when they tried to get more, and it's sad because if you build your business around an unsustainable phenomenon and then that phenomenon goes away, what happens to your business? You don't have anything. It's like platform risk, Omar. This is like platform risk on the Fed. Yes. Yes. Your business only worked when there was nowhere else to invest in the universe. Yeah. The second there's anything better to invest in, immediately all the money will come out. Yeah. It's like, oh. So I think that in this aftermath, what's interesting is there are still some industries that maybe have some zerpy qualities. Yep. Right? How do you think about that? There are hype-y industries right now. I think as a founder, your job is to just balance optimism with realism. And be exactly on the right balance level. And the folks that even at the height of this stuff, they were always optimists. They're like, hey, my company could be great. Yes. And they took advantage of some of the stuff on offer. Fair enough. Yes. But they knew that this wasn't going to last. And they planned. They were such a great balance of optimism and realism. And I think regardless of what the time period is, that's where you want to be. Yeah. And if you're too negative, if you're like, this is a bubble, the US government's going to collapse, or, OK, good luck with that. Yeah. But that's an extreme over here on the negative side. But if you're too optimistic, that's bad, too. Yeah. I like that optimistic but real. And understanding that you have to build your business in many different economic climates. Or like, hell, why not build your business so that it works in bad economic climates? So when times are good, it's even better. Yep. So there you go. So that's ZERP, Zero Interest Rate Phenomenon. And here are two highly trained economists. We could build you a website. I don't know. You need a website? This is like the Big Short movie, where they have all these actors explaining to you how the 08 crisis happened. I could write some Python code if anyone. I can write Python to anyone out there that wants some. Anyone out there that wants some. We could make really good blocks. All right, Dalton. Great chatting. Thanks.\n",
      "\n",
      "Uh-oh. One of the sinkholes, so to speak, that the money could go into is the asset class known as venture capital. And sinkhole it is. All right. This is Dalton plus Michael. And today we're going to talk about what is ZERP and why did it mess with the startup world? I love the term ZERP. Explain to everyone what ZERP is, the actual term. ZERP is one of those words that I find myself using a fair amount, that I often will be asked to pause and explain, what was that word you just said? And so we are saying the word ZERP, Z-I-R-P. Yeah, you got to say it like that. You got to say it like that. Z-I-R-P, and that is an acronym, right? For Zero Interest Rate Phenomenon. Yes. That's the period we lived through that ended as COVID was fatal. So in this time, the interest rate set by the Federal Reserve in the United States was zero. Yes. Some banks in Europe, you had to pay them. Yes, they had negative interest rates. And so look, we're not economists. We're not bankers. I think sometimes people think venture capital is the same thing as banking and private equity. I don't even think I'm a venture capitalist. I'm definitely not an economist. Well, our industry is pretty... We don't know anything about this stuff. We are not Wall Street people. We worked on building websites, basically, was what we did. But let's explain ZERP to you now. Yeah, so we don't know anything about this, so we're going to explain to you. This is YouTube, right? That's how this works? That's exactly how this works. Well, I'll say this. You know why we know about this? We've been victims. Yeah, we've seen the downstream effects. I can confidently tell you. We've been ZERPed on quite a bit. All right. So how did ZERP affect the startup world? And then we can talk about- Let me say this before. Oh, please. Let's talk about the flow of money. Oh, yes. Let's talk about the flow of money. Why ZERP? Okay. Yes. So there's money from the Federal Reserve and banks could basically get it for free. Again, if you're interested, you should research this from someone much smarter than me on this topic. Banks had to put it somewhere and it was hard to find a place to get yield, which was higher interest rates. Everyone had to put their money somewhere. And so they dumped it into stuff like mortgages. This is why mortgage interest rates were so low for banks like First Republic or SVB. And all these people were searching for yield, like the money needed to find a place to go. And by yield, you just mean like, I want to make more money than 0%. Which is what you could get from a bank, which is zero. Yes. Okay. And so what happened is a lot of this money ended up in alternate strategies, which include things like real estate, a la WeWork, or buying wacky stuff, again, that has nothing to do with us. But one of these sinkholes, so to speak, that the money could go into is the asset class known as venture capital. And sinkhole it is. It will consume any amount of money it is presented with. Exactly. And so what happened is all of this money floating around in the world ended up going to VC funds or family offices, who suddenly dramatically ramped up their rate of investing because they had access to it, because the money had to find a place to go. Yes. And so the spice must flow. It found a place to go. Well, and let's be clear, their motivations are that the more money they're managing, the more money they make. So the more money they're distributing out to investments, the next time they can raise the fund, they can get more management fees, stack those fees. And so there was a whole downstream effect of this money coming from wherever directly into people at Demo Day. Well, not just people at Demo Day, just the whole... As you said this, I was thinking about an analogy, America subsidized corn. And then suddenly everyone was motivated to figure out like, what can we do with corn? Like, can we use corn to make this? Can we use corn to make that? High fructose corn syrup? Yeah. Like, we can find... Sweet nerd. If you have a problem, corn can be a solution. We can find a corn based solution. Hey, you guys want some corn? We got corn. Yes. Yeah. That was money. You want money? That was money. That was money. Hey, I see a problem. Let's put some money on it. Do you not have product market fit? What if we throw some money at it? Are your margins negative? What if we threw money at it? Do you not know what you're working on? Money? Well, again, what's fascinating is a lot of these folks had not done startup investing before either. And so a lot of... Imagine someone that all they've done is run like a hedge fund trading stocks. Yes. Where they're like, oh, go buy 50 million of Google stock or whatever. They were treating investing in startups like investing in stocks. Well, I loved it because there was one firm we interacted with who was like, well, you would value public market companies using this rubric. Companies generating like 500 million plus in revenue, but often billions. We will just downsize that rubric to companies generating a million dollars in revenue because they're both companies. Why wouldn't we just analyze them the same? I don't know if your argument will be self-evident to our viewers. To us, that is crazy. Explain why that is crazy. Because needless to say, the failure rate of companies that are at 1 million revenue today paying a 500 million revenue ever is massively higher. Yes. There aren't as many publicly traded companies that just die. No. Whereas million dollar revenue companies are dying out minutely. Minutely. So this investor was like, wow. And I remember we were talking to them and I remember just being like, so you're just going to give these folks that don't know what they're doing a lot of money. And they were like, yes. Well, because they were running their own arbitrage because they had hot money from other people. They're basically middlemen, but they were a good sinkhole for money. And again, what's fascinating to kind of complete Michael's story is once the market turned and interest rates went back up. They got out. They're done. They got out of the business. They're gone. As fast as they got in. They don't do venture invest anymore. They were just out of town, blew out of town. But hey, during this time, it was amazing. We had founders who would ask for introductions to these people, but these are the founders would go, this is how the founder would say it. I heard if I talked to these folks for 30 minutes, they'll just give me a like, and then like in multiples of $10 million. And I remember because like other VCs were trying to kind of compete and they were just like, how do we compete with this? Like 30 minutes, $40 million. And Michael, I'll bet there's a lot of people watching this saying to themselves, this sounds great. Why are these guys laughing about it? Why wasn't it great, Michael? Or like, what was the downside of this? It turns out that if money was the only variable to making your company work, startups wouldn't work because all the incumbents have way more money. It's true. Apple has a lot of money. Like all the money, all the money effectively, right? Two, it turns out that like, when you give money to someone, they stop innovating and they start spending more money. Why do we have to have better software? We can just hire more people to fill in the blanks. Why do we have to do things better? It turns out when you give people more money, they start acting like the big companies they're trying to disrupt. But also it turns out the opposite is true. When they can't afford shit, they figure out how to do without. And that often creates the innovation. So it's just kind of like, we're going to give you money. It's poison. Like, would you like, how much poison would you like? You can drink as much as you want. We have infinite poison in the back. Can I give you more poison? It's shaped like money. It's going to kill you. Hey, let's be clear. Some founders, for them, the money wasn't poison, right? But that was a smaller percentage than you might think. So that's also when we saw the explosion of the unicorns. Remember when unicorns used to be rare, magical beasts? That was, I think, why they were called that. The name was, it was meant to be a rare, infrequently cited thing. As unicorns are, rare and infrequently cited. Well, that ended. Yeah. We would see them on a weekly basis, basically. And I would have to get the exact numbers, but I seem to recall on a weekly basis. It was a marketing thing, right? It was like, well, I'll give you a billion dollar valuation and you can be a unicorn. The second you name something, you begin to destroy it. It was interesting because I remember during this time, I was sitting in a board meeting and the founder was complaining that all the companies were too expensive. This company had cash. They wanted to buy a company and everything was too expensive. And he said something that tricked me a little bit, got my thinking. He was like, the revenue to valuation multiple. And I was like, yeah, that seems to make sense, right? The amount of revenue you're making versus your valuation. That would be an easy way to tell whether something's cheap or expensive. If your company's making a billion in revenue and it's worth, I don't know, $5 billion in valuation, that's cheaper than if your company is making $5 million in revenue and it's got a $5 billion valuation. And then I thought, I should just look around at some of these startups that are raising unicorns. I should kind of like check out TechCrunch and see what is this revenue to valuation multiple? When I saw that a company just raised at a 350x multiple, $3 million in revenue, $1 billion valuation, I was like, huh, I remember when Justin.TV and Twitch had $3 million in revenue. I'm like, huh, what percentage of things figured out did we have? Like 1%? And man, and then suddenly it hit me. I was like, oh no, like this is not gonna, this is not gonna last. And I remember like this was the start of the new YC Standard deal when we were starting to think about this, right? Like this is not gonna last. Yeah, I mean, for what it's worth, if founders that were in the batch during those times or people we did office hours with could probably back us up here, but we were definitely advising founders that the music would probably stop. Something about what was going on felt like Zerp again, which is the title. It was like, there's a lot of side effects of this zero interest rate thing going on. Let's not count on it lasting. And so make some smart moves now to prepare for the winter that will be coming. Yeah. Right? And I can't tell you how many founders were just like, no, this isn't winter. This is just- We're just getting started. Zerp is, we're just- This is great. It's gonna go- I don't know what you're talking about. Crazier than this. And it's weird cause I don't, you know, I didn't live through the nineties, right? The nineties in my life, the nineties tech boom was just like a story other people told. And it is so effed up that like we saw, it wasn't an exact replica. It happened in the private markets, not the public markets, but damn near. It was wacky. I mean, just to give a concrete example for folks, because money was so cheap, so to speak. Yes. Lending companies made a lot of sense. Because when you're doing lending, you need a lot of capital to lend out to people and then they pay an interest rate. Right? Yep. And so if your cost of capital is very low and you just lend it a lot, it works. And as it would turn out, money has product market fit. Always. And so lots of companies were like, oh, we're just going to do lending for X, you know, you name it. Yeah. And they're like, wow, we got product market fit. A lot of people want this thing called money. We're product geniuses. Unbelievable that people want this money thing that only we have. And it's very defensible. And then what happened is when interest rates went back up, the cost of capital for these businesses went up and it was hard for them to pass that along to their customers. And so kind of like overnight, there was a whole class of types of businesses that became very challenging. Well, and it was sad too, because I think that it also screwed with the people who were observing this and thinking about doing a startup. Everything got so inflated that you started seeing founders coming into YC being like, oh, well, my seed round should be $10 million. And it's like, what are you going to do with $10 million? Well, you had to just raise the $10 million seed. Yeah. They were entirely keeping up with the Joneses. The entire conception of startups is to read articles about what other companies are doing and being like, I want that and I want to top it. And there was a lot of trying to top everyone else going on. And it was sad too, because I would say I observed two types of VCs during this period of time. Three types, let's be sure. Three types of VCs. Type one was like, there isn't a problem. This is tech's heyday. And we're providing very real valuations to these companies. We just understand that tech is going through a heyday. Interesting group. Group two. I know this is screwed up, but I'm going to do it anyway. It's the game we play. If you get me in a room in private, I'm going to be like, eight of the last deals I did, I priced really dumb, but my LPs are cool. And then there's a third group. This group was small. We know some of them who were just like, count me out. I'm going to hold on to my capital. In the investment game, you invest when things are undervalued and you don't invest. Milo is so high. Yeah, I heard that somewhere. I'm not an economist. And there were some of them who did that and who were rewarded for it. People who knew it was a problem were still participating. But Michael, here's a question I imagine someone might be wondering. Weren't you guys part of the problem? Yeah. Yeah. And it's tricky, right? Because on the early stage, one of the things that insulated us is we have a standard deal, right? So we don't have to deal with these- Yeah, valuations. Valuations, da, da, da, da. But we had a growth fund. Yep. And yeah, that demo day auction during those period times, we were crazy. And I think we always suggested to folks that the key to greatness is to build a great business. Yes. Make so many people want. We really believe this stuff. Yes. And so we were advising people, even at the height of the stuff, hey, everyone, don't pay attention to all this noise. Try to build something enduring because the waves of the larger economy go up and down. And it's going to take a long time to build a startup. No matter what. If you're in the batch, trying to time the market is like the silliest thing of all time because you need 10 years. What did the market look like 10 years from now? Different. Different. And so it was always like, yeah, it is unlikely that anything going on now in the wider world will affect you, current batch startups. And that was a very consistent message- Very consistent. ... we had for folks. I think, though, that the bigger lesson, though, happened when the market corrected and we started to see what people did with that money. Yep. And I will say some companies, they took that capital and they can run their business profitably. They don't have to raise another round until they IPO. Those founders were very smart. Other founders, they spent that money. Yep. And then when they tried to get more, and it's sad because if you build your business around an unsustainable phenomenon and then that phenomenon goes away, what happens to your business? You don't have anything. It's like platform risk, Omar. This is like platform risk on the Fed. Yes. Yes. Your business only worked when there was nowhere else to invest in the universe. Yeah. The second there's anything better to invest in, immediately all the money will come out. Yeah. It's like, oh. So I think that in this aftermath, what's interesting is there are still some industries that maybe have some zerpy qualities. Yep. Right? How do you think about that? There are hype-y industries right now. I think as a founder, your job is to just balance optimism with realism. And be exactly on the right balance level. And the folks that even at the height of this stuff, they were always optimists. They're like, hey, my company could be great. Yes. And they took advantage of some of the stuff on offer. Fair enough. Yes. But they knew that this wasn't going to last. And they planned. They were such a great balance of optimism and realism. And I think regardless of what the time period is, that's where you want to be. Yeah. And if you're too negative, if you're like, this is a bubble, the US government's going to collapse, or, OK, good luck with that. Yeah. But that's an extreme over here on the negative side. But if you're too optimistic, that's bad, too. Yeah. I like that optimistic but real. And understanding that you have to build your business in many different economic climates. Or like, hell, why not build your business so that it works in bad economic climates? So when times are good, it's even better. Yep. So there you go. So that's ZERP, Zero Interest Rate Phenomenon. And here are two highly trained economists. We could build you a website. I don't know. You need a website? This is like the Big Short movie, where they have all these actors explaining to you how the 08 crisis happened. I could write some Python code if anyone. I can write Python to anyone out there that wants some. Anyone out there that wants some. We could make really good blocks. All right, Dalton. Great chatting. Thanks.\n",
      "\n",
      "Transcription complete - generating summary\n",
      "Summarise the following text for me:\n",
      "[transcript]\n",
      "\n",
      "Dalton and Michael discuss the Zero Interest Rate Phenomenon (ZERP) and its effects on the startup world. During this time, money was cheap and readily available, leading to inflated valuations and the rise of unicorns. They caution founders to balance optimism with realism and build their business to withstand economic changes. They also highlight the importance of creating a sustainable and enduring business, rather than relying solely on the availability of cheap money.\n",
      "\n"
     ]
    },
    {
     "data": {
      "text/plain": [
       "<aiflow.AIFlow at 0x21594952d70>"
      ]
     },
     "execution_count": 4,
     "metadata": {},
     "output_type": "execute_result"
    }
   ],
   "source": [
    "from aiflow import Model\n",
    "from pytube import YouTube\n",
    "\n",
    "(\n",
    "    chatbot.execute_function(\n",
    "        YouTube(\"https://www.youtube.com/watch?v=iMo5-4h_XwE\")\n",
    "        .streams.get_audio_only()\n",
    "        .download(filename=\"generated_output/zirp.mp3\")\n",
    "    )\n",
    "    .execute_function(print(\"Download completed - generating transcript\"))\n",
    "    .transcribe_audio(filename=\"generated_output/zirp.mp3\", label=\"transcript\")\n",
    "    .set_model(Model.GPT_4O_MINI)\n",
    "    .generate_completion(\n",
    "        \"Summarise the following text for me:\\n[transcript]\", label=\"summary_transcript\"\n",
    "    )\n",
    "    .dump_context_to_file(label=\"summary_transcript\", filename=\"generated_output/zirp.txt\")\n",
    ")"
   ]
  },
  {
   "cell_type": "markdown",
   "metadata": {},
   "source": [
    "# The end"
   ]
  },
  {
   "cell_type": "code",
   "execution_count": 12,
   "metadata": {},
   "outputs": [
    {
     "data": {
      "text/plain": [
       "<aiflow.AIFlow at 0x21596ec5f30>"
      ]
     },
     "execution_count": 12,
     "metadata": {},
     "output_type": "execute_result"
    }
   ],
   "source": [
    "flow1.save_internal_state(filename=\"flow1_state.json\")\n",
    "chatbot.save_internal_state(filename=\"chatbot_state.json\")\n",
    "sillybot.save_internal_state(filename=\"sillybot_state.json\")"
   ]
  },
  {
   "cell_type": "markdown",
   "metadata": {},
   "source": []
  }
 ],
 "metadata": {
  "kernelspec": {
   "display_name": "Python 3 (ipykernel)",
   "language": "python",
   "name": "python3"
  },
  "language_info": {
   "codemirror_mode": {
    "name": "ipython",
    "version": 3
   },
   "file_extension": ".py",
   "mimetype": "text/x-python",
   "name": "python",
   "nbconvert_exporter": "python",
   "pygments_lexer": "ipython3",
   "version": "3.10.6"
  }
 },
 "nbformat": 4,
 "nbformat_minor": 4
}
