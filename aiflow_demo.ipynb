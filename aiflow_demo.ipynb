{
 "cells": [
  {
   "cell_type": "markdown",
   "metadata": {},
   "source": [
    "# Demo for AIFlow class\n"
   ]
  },
  {
   "cell_type": "markdown",
   "metadata": {},
   "source": [
    "Here is a list of methods in the `AIFlow` class with one-line descriptions:\n",
    "\n",
    "1. **`__init__(self, api_key, model='gpt-4', temperature=0, max_tokens=150)`**: Initializes the AIFlow instance with given API key, model, temperature, and max tokens.\n",
    "2. **`set_temperature(self, temperature=0)`**: Sets the temperature for the model.\n",
    "3. **`set_model(self, model='gpt-4')`**: Sets the model to use.\n",
    "4. **`set_max_tokens(self, max_tokens=150)`**: Sets the maximum number of tokens for responses.\n",
    "5. **`show_model_config(self)`**: Prints the current model configuration.\n",
    "6. **`show_self_data(self)`**: Prints the current state of chat messages, context map, images map, and audio map.\n",
    "7. **`pretty_print_messages(self)`**: Prints chat messages in a formatted manner.\n",
    "8. **`pretty_print_messages_to_file(self, file_name='output.txt', html=True)`**: Writes formatted chat messages to a file and optionally returns a download link.\n",
    "9. **`set_system_prompt(self, prompt='')`**: Sets a system prompt message at the beginning of the chat messages.\n",
    "10. **`add_user_chat(self, prompt, label='latest')`**: Adds a user chat message, gets a response from the API, and updates the context map.\n",
    "11. **`filter_messages(self, func)`**: Filters chat messages based on a provided function.\n",
    "12. **`reduce_messages_to_text(self, func)`**: Reduces chat messages to a text string using a provided function.\n",
    "13. **`completion(self, prompt, label='latest')`**: Generates a completion for a given prompt and updates the context map.\n",
    "14. **`call_openai_chat_api(self, messages=[])`**: Calls the OpenAI API to get a response for given messages.\n",
    "15. **`replace_tags_with_content(self, input_string='')`**: Replaces tags in a string with corresponding context map values.\n",
    "16. **`latest_to_context(self, label='latest')`**: Copies the latest context to a specified label.\n",
    "17. **`transform_context(self, label='latest', func=lambda x: x)`**: Transforms a specified context using a provided function.\n",
    "18. **`set_context(self, content='', label='latest')`**: Sets a specified context to the given content.\n",
    "19. **`delete_context(self, label='latest')`**: Deletes a specified context from the context map.\n",
    "20. **`show_context(self, label='latest')`**: Prints the content of a specified context.\n",
    "21. **`read_textfile_to_context(self, filename, label='latest_file')`**: Reads a text file and sets its content to a specified context.\n",
    "22. **`return_latest_to_text(self)`**: Returns the latest context as a text string.\n",
    "23. **`return_context_to_text(self, label='latest')`**: Returns a specified context as a text string.\n",
    "24. **`return_reduce_messages_to_text(self, func)`**: Reduces chat messages to a text string using a provided function and returns it.\n",
    "25. **`dump_context_to_files(self)`**: Dump the context in a file, one file per context.\n",
    "26. **`dump_context_to_markdown()`**: Dump the context into a MD formatted file.\n",
    "27. **`dump_context_to_docx(output_filename='')`**: Dump the context into a word file.\n",
    "28. **`save_state(filename='')`**: Save the state of all variables into a json file.\n",
    "29. **`load_state(filename='')`**: Load the state of all variables from a json file.\n"
   ]
  },
  {
   "cell_type": "markdown",
   "metadata": {},
   "source": [
    "## Magic\n",
    "There is magic in the class - everytime you do a text prompt, the last result is stored in the context map under `latest`. So you can use that one as context variable for further processing or reference in queries."
   ]
  },
  {
   "cell_type": "markdown",
   "metadata": {},
   "source": [
    "## The demo"
   ]
  },
  {
   "cell_type": "code",
   "execution_count": 3,
   "metadata": {},
   "outputs": [],
   "source": [
    "from dotenv import load_dotenv\n",
    "import os\n",
    "load_dotenv()\n",
    "API_KEY=os.getenv(\"API_KEY\")\n",
    "from aiflow import AIFlow\n"
   ]
  },
  {
   "cell_type": "markdown",
   "metadata": {},
   "source": [
    "# Just an empty flow"
   ]
  },
  {
   "cell_type": "code",
   "execution_count": 4,
   "metadata": {},
   "outputs": [
    {
     "name": "stdout",
     "output_type": "stream",
     "text": [
      "Model: gpt-3.5-turbo\n",
      "Max Tokens: 3000\n",
      "Temperature: 0\n",
      "Chat Messages:\n",
      "[]\n",
      "\n",
      "Context Map:\n",
      "{}\n",
      "\n",
      "Images Map:\n",
      "{}\n",
      "\n",
      "Audio Map:\n",
      "{}\n"
     ]
    },
    {
     "data": {
      "text/html": [
       "<a href=\"nothing.txt\" download>Click here to download the pretty-printed messages</a>"
      ],
      "text/plain": [
       "<IPython.core.display.HTML object>"
      ]
     },
     "execution_count": 4,
     "metadata": {},
     "output_type": "execute_result"
    }
   ],
   "source": [
    "flow1 = AIFlow(api_key=API_KEY,model=\"gpt-3.5-turbo\",max_tokens=3000, temperature=0)\n",
    "(\n",
    "    flow1\n",
    "    .show_model_config()\n",
    "    .show_self_data()\n",
    "    .pretty_print_messages()\n",
    "    .pretty_print_messages_to_file(file_name=\"nothing.txt\")\n",
    ")"
   ]
  },
  {
   "cell_type": "markdown",
   "metadata": {},
   "source": [
    "# Chat demo"
   ]
  },
  {
   "cell_type": "code",
   "execution_count": 5,
   "metadata": {},
   "outputs": [
    {
     "name": "stdout",
     "output_type": "stream",
     "text": [
      "Model: gpt-3.5-turbo\n",
      "Max Tokens: 3000\n",
      "Temperature: 1\n",
      "Chat Messages:\n",
      "[]\n",
      "\n",
      "Context Map:\n",
      "{}\n",
      "\n",
      "Images Map:\n",
      "{}\n",
      "\n",
      "Audio Map:\n",
      "{}\n"
     ]
    },
    {
     "data": {
      "text/plain": [
       "<aiflow.AIFlow at 0x280a5aaa200>"
      ]
     },
     "execution_count": 5,
     "metadata": {},
     "output_type": "execute_result"
    }
   ],
   "source": [
    "chatbot=AIFlow(api_key=API_KEY,model=\"gpt-3.5-turbo\",max_tokens=3000, temperature=1)\n",
    "chatbot.show_model_config().show_self_data()"
   ]
  },
  {
   "cell_type": "code",
   "execution_count": 6,
   "metadata": {},
   "outputs": [
    {
     "name": "stdout",
     "output_type": "stream",
     "text": [
      "Model: gpt-3.5-turbo\n",
      "Max Tokens: 3000\n",
      "Temperature: 1\n",
      "You are a helpful cooking assistant always eager to give a recipe for whatever the user says.\n",
      "\n",
      "How is the weather here?\n",
      "I'm just a cooking assistant and I can't provide real-time weather updates. But if you're looking for a recipe to warm you up on a cold day, I recommend trying a hearty vegetable soup or a cozy mug of hot chocolate! Just let me know if you'd like a recipe for either.\n",
      "\n",
      "Chat Messages:\n",
      "[\n",
      "    {\n",
      "        \"role\": \"system\",\n",
      "        \"content\": \"You are a helpful cooking assistant always eager to give a recipe for whatever the user says.\"\n",
      "    },\n",
      "    {\n",
      "        \"role\": \"user\",\n",
      "        \"content\": \"How is the weather here?\"\n",
      "    },\n",
      "    {\n",
      "        \"role\": \"assistant\",\n",
      "        \"content\": \"I'm just a cooking assistant and I can't provide real-time weather updates. But if you're looking for a recipe to warm you up on a cold day, I recommend trying a hearty vegetable soup or a cozy mug of hot chocolate! Just let me know if you'd like a recipe for either.\"\n",
      "    }\n",
      "]\n",
      "\n",
      "Context Map:\n",
      "{\n",
      "    \"latest_prompt\": \"How is the weather here?\",\n",
      "    \"latest\": \"I'm just a cooking assistant and I can't provide real-time weather updates. But if you're looking for a recipe to warm you up on a cold day, I recommend trying a hearty vegetable soup or a cozy mug of hot chocolate! Just let me know if you'd like a recipe for either.\"\n",
      "}\n",
      "\n",
      "Images Map:\n",
      "{}\n",
      "\n",
      "Audio Map:\n",
      "{}\n"
     ]
    },
    {
     "data": {
      "text/plain": [
       "<aiflow.AIFlow at 0x280a5aaa200>"
      ]
     },
     "execution_count": 6,
     "metadata": {},
     "output_type": "execute_result"
    }
   ],
   "source": [
    "(    chatbot\n",
    "        .show_model_config()\n",
    "        .set_system_prompt(\"You are a helpful cooking assistant always eager to give a recipe for whatever the user says.\")\n",
    "        .add_user_chat(\"How is the weather here?\")\n",
    "        .show_self_data()\n",
    ")"
   ]
  },
  {
   "cell_type": "code",
   "execution_count": 7,
   "metadata": {},
   "outputs": [
    {
     "name": "stdout",
     "output_type": "stream",
     "text": [
      "Ok. Give me a recipe inspired by weather\n",
      "How about a refreshing and colorful Rainbow Fruit Salad? It's perfect for sunny and bright weather! Here's a simple recipe for you:\n",
      "\n",
      "Ingredients:\n",
      "- Strawberries\n",
      "- Oranges\n",
      "- Pineapple\n",
      "- Kiwi\n",
      "- Blueberries\n",
      "- Blackberries\n",
      "- Honey or agave nectar\n",
      "- Fresh mint leaves (optional)\n",
      "\n",
      "Instructions:\n",
      "1. Wash and chop all the fruits into bite-sized pieces.\n",
      "2. In a large bowl, combine the fruits and gently toss them together.\n",
      "3. Drizzle honey or agave nectar over the fruit salad and gently mix to combine.\n",
      "4. Garnish with fresh mint leaves for an extra pop of freshness.\n",
      "5. Serve the colorful Rainbow Fruit Salad chilled and enjoy as a healthy and vibrant snack!\n",
      "\n",
      "I hope you enjoy this delicious and weather-inspired recipe! Let me know if you need any more cooking inspiration.\n",
      "\n"
     ]
    },
    {
     "data": {
      "text/plain": [
       "<aiflow.AIFlow at 0x280a5aaa200>"
      ]
     },
     "execution_count": 7,
     "metadata": {},
     "output_type": "execute_result"
    }
   ],
   "source": [
    "chatbot.add_user_chat(\"Ok. Give me a recipe inspired by weather\")"
   ]
  },
  {
   "cell_type": "code",
   "execution_count": 8,
   "metadata": {},
   "outputs": [
    {
     "data": {
      "text/plain": [
       "<aiflow.AIFlow at 0x280a5aaa200>"
      ]
     },
     "execution_count": 8,
     "metadata": {},
     "output_type": "execute_result"
    }
   ],
   "source": [
    "chatbot.latest_to_context(\"dish\")\n"
   ]
  },
  {
   "cell_type": "code",
   "execution_count": 9,
   "metadata": {},
   "outputs": [
    {
     "name": "stdout",
     "output_type": "stream",
     "text": [
      "Chat Messages:\n",
      "[\n",
      "    {\n",
      "        \"role\": \"system\",\n",
      "        \"content\": \"You are a helpful cooking assistant always eager to give a recipe for whatever the user says.\"\n",
      "    },\n",
      "    {\n",
      "        \"role\": \"user\",\n",
      "        \"content\": \"How is the weather here?\"\n",
      "    },\n",
      "    {\n",
      "        \"role\": \"assistant\",\n",
      "        \"content\": \"I'm just a cooking assistant and I can't provide real-time weather updates. But if you're looking for a recipe to warm you up on a cold day, I recommend trying a hearty vegetable soup or a cozy mug of hot chocolate! Just let me know if you'd like a recipe for either.\"\n",
      "    },\n",
      "    {\n",
      "        \"role\": \"user\",\n",
      "        \"content\": \"Ok. Give me a recipe inspired by weather\"\n",
      "    },\n",
      "    {\n",
      "        \"role\": \"assistant\",\n",
      "        \"content\": \"How about a refreshing and colorful Rainbow Fruit Salad? It's perfect for sunny and bright weather! Here's a simple recipe for you:\\n\\nIngredients:\\n- Strawberries\\n- Oranges\\n- Pineapple\\n- Kiwi\\n- Blueberries\\n- Blackberries\\n- Honey or agave nectar\\n- Fresh mint leaves (optional)\\n\\nInstructions:\\n1. Wash and chop all the fruits into bite-sized pieces.\\n2. In a large bowl, combine the fruits and gently toss them together.\\n3. Drizzle honey or agave nectar over the fruit salad and gently mix to combine.\\n4. Garnish with fresh mint leaves for an extra pop of freshness.\\n5. Serve the colorful Rainbow Fruit Salad chilled and enjoy as a healthy and vibrant snack!\\n\\nI hope you enjoy this delicious and weather-inspired recipe! Let me know if you need any more cooking inspiration.\"\n",
      "    }\n",
      "]\n",
      "\n",
      "Context Map:\n",
      "{\n",
      "    \"latest_prompt\": \"Ok. Give me a recipe inspired by weather\",\n",
      "    \"latest\": \"How about a refreshing and colorful Rainbow Fruit Salad? It's perfect for sunny and bright weather! Here's a simple recipe for you:\\n\\nIngredients:\\n- Strawberries\\n- Oranges\\n- Pineapple\\n- Kiwi\\n- Blueberries\\n- Blackberries\\n- Honey or agave nectar\\n- Fresh mint leaves (optional)\\n\\nInstructions:\\n1. Wash and chop all the fruits into bite-sized pieces.\\n2. In a large bowl, combine the fruits and gently toss them together.\\n3. Drizzle honey or agave nectar over the fruit salad and gently mix to combine.\\n4. Garnish with fresh mint leaves for an extra pop of freshness.\\n5. Serve the colorful Rainbow Fruit Salad chilled and enjoy as a healthy and vibrant snack!\\n\\nI hope you enjoy this delicious and weather-inspired recipe! Let me know if you need any more cooking inspiration.\",\n",
      "    \"dish\": \"How about a refreshing and colorful Rainbow Fruit Salad? It's perfect for sunny and bright weather! Here's a simple recipe for you:\\n\\nIngredients:\\n- Strawberries\\n- Oranges\\n- Pineapple\\n- Kiwi\\n- Blueberries\\n- Blackberries\\n- Honey or agave nectar\\n- Fresh mint leaves (optional)\\n\\nInstructions:\\n1. Wash and chop all the fruits into bite-sized pieces.\\n2. In a large bowl, combine the fruits and gently toss them together.\\n3. Drizzle honey or agave nectar over the fruit salad and gently mix to combine.\\n4. Garnish with fresh mint leaves for an extra pop of freshness.\\n5. Serve the colorful Rainbow Fruit Salad chilled and enjoy as a healthy and vibrant snack!\\n\\nI hope you enjoy this delicious and weather-inspired recipe! Let me know if you need any more cooking inspiration.\"\n",
      "}\n",
      "\n",
      "Images Map:\n",
      "{}\n",
      "\n",
      "Audio Map:\n",
      "{}\n"
     ]
    },
    {
     "data": {
      "text/plain": [
       "<aiflow.AIFlow at 0x280a5aaa200>"
      ]
     },
     "execution_count": 9,
     "metadata": {},
     "output_type": "execute_result"
    }
   ],
   "source": [
    "chatbot.show_self_data()"
   ]
  },
  {
   "cell_type": "markdown",
   "metadata": {},
   "source": [
    "## Message manipulations"
   ]
  },
  {
   "cell_type": "code",
   "execution_count": 10,
   "metadata": {},
   "outputs": [
    {
     "name": "stdout",
     "output_type": "stream",
     "text": [
      "[{'role': 'system', 'content': 'You are a helpful cooking assistant always eager to give a recipe for whatever the user says.'}, {'role': 'user', 'content': 'How is the weather here?'}, {'role': 'assistant', 'content': \"I'm just a cooking assistant and I can't provide real-time weather updates. But if you're looking for a recipe to warm you up on a cold day, I recommend trying a hearty vegetable soup or a cozy mug of hot chocolate! Just let me know if you'd like a recipe for either.\"}, {'role': 'user', 'content': 'Ok. Give me a recipe inspired by weather'}, {'role': 'assistant', 'content': \"How about a refreshing and colorful Rainbow Fruit Salad? It's perfect for sunny and bright weather! Here's a simple recipe for you:\\n\\nIngredients:\\n- Strawberries\\n- Oranges\\n- Pineapple\\n- Kiwi\\n- Blueberries\\n- Blackberries\\n- Honey or agave nectar\\n- Fresh mint leaves (optional)\\n\\nInstructions:\\n1. Wash and chop all the fruits into bite-sized pieces.\\n2. In a large bowl, combine the fruits and gently toss them together.\\n3. Drizzle honey or agave nectar over the fruit salad and gently mix to combine.\\n4. Garnish with fresh mint leaves for an extra pop of freshness.\\n5. Serve the colorful Rainbow Fruit Salad chilled and enjoy as a healthy and vibrant snack!\\n\\nI hope you enjoy this delicious and weather-inspired recipe! Let me know if you need any more cooking inspiration.\"}]\n",
      "Replacing latest with all sorts of nothing\n",
      "Chat Messages:\n",
      "[\n",
      "    {\n",
      "        \"role\": \"system\",\n",
      "        \"content\": \"You are a helpful cooking assistant always eager to give a recipe for whatever the user says.\"\n",
      "    },\n",
      "    {\n",
      "        \"role\": \"user\",\n",
      "        \"content\": \"How is the weather here?\"\n",
      "    },\n",
      "    {\n",
      "        \"role\": \"assistant\",\n",
      "        \"content\": \"I'm just a cooking assistant and I can't provide real-time weather updates. But if you're looking for a recipe to warm you up on a cold day, I recommend trying a hearty vegetable soup or a cozy mug of hot chocolate! Just let me know if you'd like a recipe for either.\"\n",
      "    },\n",
      "    {\n",
      "        \"role\": \"user\",\n",
      "        \"content\": \"Ok. Give me a recipe inspired by weather\"\n",
      "    },\n",
      "    {\n",
      "        \"role\": \"assistant\",\n",
      "        \"content\": \"How about a refreshing and colorful Rainbow Fruit Salad? It's perfect for sunny and bright weather! Here's a simple recipe for you:\\n\\nIngredients:\\n- Strawberries\\n- Oranges\\n- Pineapple\\n- Kiwi\\n- Blueberries\\n- Blackberries\\n- Honey or agave nectar\\n- Fresh mint leaves (optional)\\n\\nInstructions:\\n1. Wash and chop all the fruits into bite-sized pieces.\\n2. In a large bowl, combine the fruits and gently toss them together.\\n3. Drizzle honey or agave nectar over the fruit salad and gently mix to combine.\\n4. Garnish with fresh mint leaves for an extra pop of freshness.\\n5. Serve the colorful Rainbow Fruit Salad chilled and enjoy as a healthy and vibrant snack!\\n\\nI hope you enjoy this delicious and weather-inspired recipe! Let me know if you need any more cooking inspiration.\"\n",
      "    }\n",
      "]\n",
      "\n",
      "Context Map:\n",
      "{\n",
      "    \"latest_prompt\": \"Ok. Give me a recipe inspired by weather\",\n",
      "    \"latest\": \"Replacing latest with all sorts of nothing\",\n",
      "    \"dish\": \"How about a refreshing and colorful Rainbow Fruit Salad? It's perfect for sunny and bright weather! Here's a simple recipe for you:\\n\\nIngredients:\\n- Strawberries\\n- Oranges\\n- Pineapple\\n- Kiwi\\n- Blueberries\\n- Blackberries\\n- Honey or agave nectar\\n- Fresh mint leaves (optional)\\n\\nInstructions:\\n1. Wash and chop all the fruits into bite-sized pieces.\\n2. In a large bowl, combine the fruits and gently toss them together.\\n3. Drizzle honey or agave nectar over the fruit salad and gently mix to combine.\\n4. Garnish with fresh mint leaves for an extra pop of freshness.\\n5. Serve the colorful Rainbow Fruit Salad chilled and enjoy as a healthy and vibrant snack!\\n\\nI hope you enjoy this delicious and weather-inspired recipe! Let me know if you need any more cooking inspiration.\"\n",
      "}\n",
      "\n",
      "Images Map:\n",
      "{}\n",
      "\n",
      "Audio Map:\n",
      "{}\n"
     ]
    },
    {
     "data": {
      "text/plain": [
       "<aiflow.AIFlow at 0x280a5aaa200>"
      ]
     },
     "execution_count": 10,
     "metadata": {},
     "output_type": "execute_result"
    }
   ],
   "source": [
    "chatbot.reduce_messages_to_text(lambda x: (print(x), \"Replacing latest with all sorts of nothing\")[1]).show_self_data()"
   ]
  },
  {
   "cell_type": "code",
   "execution_count": 11,
   "metadata": {},
   "outputs": [
    {
     "data": {
      "text/plain": [
       "<aiflow.AIFlow at 0x280a5aaa200>"
      ]
     },
     "execution_count": 11,
     "metadata": {},
     "output_type": "execute_result"
    }
   ],
   "source": [
    "chatbot.filter_messages(lambda items: [{**item, \"content\": \"You are an artist very good in poetry\"} if item.get(\"role\") == \"system\" else item for item in items])"
   ]
  },
  {
   "cell_type": "code",
   "execution_count": 12,
   "metadata": {},
   "outputs": [
    {
     "name": "stdout",
     "output_type": "stream",
     "text": [
      "Chat Messages:\n",
      "[\n",
      "    {\n",
      "        \"role\": \"system\",\n",
      "        \"content\": \"You are an artist very good in poetry\"\n",
      "    },\n",
      "    {\n",
      "        \"role\": \"user\",\n",
      "        \"content\": \"How is the weather here?\"\n",
      "    },\n",
      "    {\n",
      "        \"role\": \"assistant\",\n",
      "        \"content\": \"I'm just a cooking assistant and I can't provide real-time weather updates. But if you're looking for a recipe to warm you up on a cold day, I recommend trying a hearty vegetable soup or a cozy mug of hot chocolate! Just let me know if you'd like a recipe for either.\"\n",
      "    },\n",
      "    {\n",
      "        \"role\": \"user\",\n",
      "        \"content\": \"Ok. Give me a recipe inspired by weather\"\n",
      "    },\n",
      "    {\n",
      "        \"role\": \"assistant\",\n",
      "        \"content\": \"How about a refreshing and colorful Rainbow Fruit Salad? It's perfect for sunny and bright weather! Here's a simple recipe for you:\\n\\nIngredients:\\n- Strawberries\\n- Oranges\\n- Pineapple\\n- Kiwi\\n- Blueberries\\n- Blackberries\\n- Honey or agave nectar\\n- Fresh mint leaves (optional)\\n\\nInstructions:\\n1. Wash and chop all the fruits into bite-sized pieces.\\n2. In a large bowl, combine the fruits and gently toss them together.\\n3. Drizzle honey or agave nectar over the fruit salad and gently mix to combine.\\n4. Garnish with fresh mint leaves for an extra pop of freshness.\\n5. Serve the colorful Rainbow Fruit Salad chilled and enjoy as a healthy and vibrant snack!\\n\\nI hope you enjoy this delicious and weather-inspired recipe! Let me know if you need any more cooking inspiration.\"\n",
      "    }\n",
      "]\n",
      "\n",
      "Context Map:\n",
      "{\n",
      "    \"latest_prompt\": \"Ok. Give me a recipe inspired by weather\",\n",
      "    \"latest\": \"Replacing latest with all sorts of nothing\",\n",
      "    \"dish\": \"How about a refreshing and colorful Rainbow Fruit Salad? It's perfect for sunny and bright weather! Here's a simple recipe for you:\\n\\nIngredients:\\n- Strawberries\\n- Oranges\\n- Pineapple\\n- Kiwi\\n- Blueberries\\n- Blackberries\\n- Honey or agave nectar\\n- Fresh mint leaves (optional)\\n\\nInstructions:\\n1. Wash and chop all the fruits into bite-sized pieces.\\n2. In a large bowl, combine the fruits and gently toss them together.\\n3. Drizzle honey or agave nectar over the fruit salad and gently mix to combine.\\n4. Garnish with fresh mint leaves for an extra pop of freshness.\\n5. Serve the colorful Rainbow Fruit Salad chilled and enjoy as a healthy and vibrant snack!\\n\\nI hope you enjoy this delicious and weather-inspired recipe! Let me know if you need any more cooking inspiration.\"\n",
      "}\n",
      "\n",
      "Images Map:\n",
      "{}\n",
      "\n",
      "Audio Map:\n",
      "{}\n"
     ]
    },
    {
     "data": {
      "text/plain": [
       "<aiflow.AIFlow at 0x280a5aaa200>"
      ]
     },
     "execution_count": 12,
     "metadata": {},
     "output_type": "execute_result"
    }
   ],
   "source": [
    "chatbot.show_self_data()"
   ]
  },
  {
   "cell_type": "markdown",
   "metadata": {},
   "source": [
    "## Just completions - no chat"
   ]
  },
  {
   "cell_type": "code",
   "execution_count": 13,
   "metadata": {},
   "outputs": [
    {
     "name": "stdout",
     "output_type": "stream",
     "text": [
      "Give me 10 random names\n",
      "\n",
      "1. Olivia\n",
      "2. Nathan\n",
      "3. Sophia\n",
      "4. Adrian\n",
      "5. Isabella\n",
      "6. Lucas\n",
      "7. Ava\n",
      "8. Elijah\n",
      "9. Mia\n",
      "10. Levi\n",
      "\n"
     ]
    },
    {
     "data": {
      "text/plain": [
       "<aiflow.AIFlow at 0x280a5aaa200>"
      ]
     },
     "execution_count": 13,
     "metadata": {},
     "output_type": "execute_result"
    }
   ],
   "source": [
    "chatbot.completion(\"Give me 10 random names\")"
   ]
  },
  {
   "cell_type": "code",
   "execution_count": 14,
   "metadata": {},
   "outputs": [
    {
     "name": "stdout",
     "output_type": "stream",
     "text": [
      "Chat Messages:\n",
      "[\n",
      "    {\n",
      "        \"role\": \"system\",\n",
      "        \"content\": \"You are an artist very good in poetry\"\n",
      "    },\n",
      "    {\n",
      "        \"role\": \"user\",\n",
      "        \"content\": \"How is the weather here?\"\n",
      "    },\n",
      "    {\n",
      "        \"role\": \"assistant\",\n",
      "        \"content\": \"I'm just a cooking assistant and I can't provide real-time weather updates. But if you're looking for a recipe to warm you up on a cold day, I recommend trying a hearty vegetable soup or a cozy mug of hot chocolate! Just let me know if you'd like a recipe for either.\"\n",
      "    },\n",
      "    {\n",
      "        \"role\": \"user\",\n",
      "        \"content\": \"Ok. Give me a recipe inspired by weather\"\n",
      "    },\n",
      "    {\n",
      "        \"role\": \"assistant\",\n",
      "        \"content\": \"How about a refreshing and colorful Rainbow Fruit Salad? It's perfect for sunny and bright weather! Here's a simple recipe for you:\\n\\nIngredients:\\n- Strawberries\\n- Oranges\\n- Pineapple\\n- Kiwi\\n- Blueberries\\n- Blackberries\\n- Honey or agave nectar\\n- Fresh mint leaves (optional)\\n\\nInstructions:\\n1. Wash and chop all the fruits into bite-sized pieces.\\n2. In a large bowl, combine the fruits and gently toss them together.\\n3. Drizzle honey or agave nectar over the fruit salad and gently mix to combine.\\n4. Garnish with fresh mint leaves for an extra pop of freshness.\\n5. Serve the colorful Rainbow Fruit Salad chilled and enjoy as a healthy and vibrant snack!\\n\\nI hope you enjoy this delicious and weather-inspired recipe! Let me know if you need any more cooking inspiration.\"\n",
      "    }\n",
      "]\n",
      "\n",
      "Context Map:\n",
      "{\n",
      "    \"latest_prompt\": \"Give me 10 random names\",\n",
      "    \"latest\": \"1. Olivia\\n2. Nathan\\n3. Sophia\\n4. Adrian\\n5. Isabella\\n6. Lucas\\n7. Ava\\n8. Elijah\\n9. Mia\\n10. Levi\",\n",
      "    \"dish\": \"How about a refreshing and colorful Rainbow Fruit Salad? It's perfect for sunny and bright weather! Here's a simple recipe for you:\\n\\nIngredients:\\n- Strawberries\\n- Oranges\\n- Pineapple\\n- Kiwi\\n- Blueberries\\n- Blackberries\\n- Honey or agave nectar\\n- Fresh mint leaves (optional)\\n\\nInstructions:\\n1. Wash and chop all the fruits into bite-sized pieces.\\n2. In a large bowl, combine the fruits and gently toss them together.\\n3. Drizzle honey or agave nectar over the fruit salad and gently mix to combine.\\n4. Garnish with fresh mint leaves for an extra pop of freshness.\\n5. Serve the colorful Rainbow Fruit Salad chilled and enjoy as a healthy and vibrant snack!\\n\\nI hope you enjoy this delicious and weather-inspired recipe! Let me know if you need any more cooking inspiration.\"\n",
      "}\n",
      "\n",
      "Images Map:\n",
      "{}\n",
      "\n",
      "Audio Map:\n",
      "{}\n"
     ]
    },
    {
     "data": {
      "text/plain": [
       "<aiflow.AIFlow at 0x280a5aaa200>"
      ]
     },
     "execution_count": 14,
     "metadata": {},
     "output_type": "execute_result"
    }
   ],
   "source": [
    "chatbot.show_self_data()"
   ]
  },
  {
   "cell_type": "code",
   "execution_count": 15,
   "metadata": {},
   "outputs": [
    {
     "name": "stdout",
     "output_type": "stream",
     "text": [
      "Give the following names in reverse order: [latest].\n",
      "\n",
      "10. Levi\n",
      "9. Mia\n",
      "8. Elijah\n",
      "7. Ava\n",
      "6. Lucas\n",
      "5. Isabella\n",
      "4. Adrian\n",
      "3. Sophia\n",
      "2. Nathan\n",
      "1. Olivia\n",
      "\n"
     ]
    },
    {
     "data": {
      "text/plain": [
       "<aiflow.AIFlow at 0x280a5aaa200>"
      ]
     },
     "execution_count": 15,
     "metadata": {},
     "output_type": "execute_result"
    }
   ],
   "source": [
    "chatbot.completion(\"Give the following names in reverse order: [latest].\")"
   ]
  },
  {
   "cell_type": "markdown",
   "metadata": {},
   "source": [
    "## Saving and loading state\n",
    "To avoid having the rerun all queries when you restart the kernel etc.."
   ]
  },
  {
   "cell_type": "code",
   "execution_count": 16,
   "metadata": {},
   "outputs": [
    {
     "data": {
      "text/plain": [
       "<aiflow.AIFlow at 0x280a5aaa200>"
      ]
     },
     "execution_count": 16,
     "metadata": {},
     "output_type": "execute_result"
    }
   ],
   "source": [
    "chatbot.save_state(filename=\"mystate.json\")\n"
   ]
  },
  {
   "cell_type": "code",
   "execution_count": 17,
   "metadata": {},
   "outputs": [
    {
     "name": "stdout",
     "output_type": "stream",
     "text": [
      "Chat Messages:\n",
      "[\n",
      "    {\n",
      "        \"role\": \"system\",\n",
      "        \"content\": \"You are an artist very good in poetry\"\n",
      "    },\n",
      "    {\n",
      "        \"role\": \"user\",\n",
      "        \"content\": \"How is the weather here?\"\n",
      "    },\n",
      "    {\n",
      "        \"role\": \"assistant\",\n",
      "        \"content\": \"I'm just a cooking assistant and I can't provide real-time weather updates. But if you're looking for a recipe to warm you up on a cold day, I recommend trying a hearty vegetable soup or a cozy mug of hot chocolate! Just let me know if you'd like a recipe for either.\"\n",
      "    },\n",
      "    {\n",
      "        \"role\": \"user\",\n",
      "        \"content\": \"Ok. Give me a recipe inspired by weather\"\n",
      "    },\n",
      "    {\n",
      "        \"role\": \"assistant\",\n",
      "        \"content\": \"How about a refreshing and colorful Rainbow Fruit Salad? It's perfect for sunny and bright weather! Here's a simple recipe for you:\\n\\nIngredients:\\n- Strawberries\\n- Oranges\\n- Pineapple\\n- Kiwi\\n- Blueberries\\n- Blackberries\\n- Honey or agave nectar\\n- Fresh mint leaves (optional)\\n\\nInstructions:\\n1. Wash and chop all the fruits into bite-sized pieces.\\n2. In a large bowl, combine the fruits and gently toss them together.\\n3. Drizzle honey or agave nectar over the fruit salad and gently mix to combine.\\n4. Garnish with fresh mint leaves for an extra pop of freshness.\\n5. Serve the colorful Rainbow Fruit Salad chilled and enjoy as a healthy and vibrant snack!\\n\\nI hope you enjoy this delicious and weather-inspired recipe! Let me know if you need any more cooking inspiration.\"\n",
      "    }\n",
      "]\n",
      "\n",
      "Context Map:\n",
      "{\n",
      "    \"latest_prompt\": \"Give the following names in reverse order: 1. Olivia\\n2. Nathan\\n3. Sophia\\n4. Adrian\\n5. Isabella\\n6. Lucas\\n7. Ava\\n8. Elijah\\n9. Mia\\n10. Levi.\",\n",
      "    \"latest\": \"10. Levi\\n9. Mia\\n8. Elijah\\n7. Ava\\n6. Lucas\\n5. Isabella\\n4. Adrian\\n3. Sophia\\n2. Nathan\\n1. Olivia\",\n",
      "    \"dish\": \"How about a refreshing and colorful Rainbow Fruit Salad? It's perfect for sunny and bright weather! Here's a simple recipe for you:\\n\\nIngredients:\\n- Strawberries\\n- Oranges\\n- Pineapple\\n- Kiwi\\n- Blueberries\\n- Blackberries\\n- Honey or agave nectar\\n- Fresh mint leaves (optional)\\n\\nInstructions:\\n1. Wash and chop all the fruits into bite-sized pieces.\\n2. In a large bowl, combine the fruits and gently toss them together.\\n3. Drizzle honey or agave nectar over the fruit salad and gently mix to combine.\\n4. Garnish with fresh mint leaves for an extra pop of freshness.\\n5. Serve the colorful Rainbow Fruit Salad chilled and enjoy as a healthy and vibrant snack!\\n\\nI hope you enjoy this delicious and weather-inspired recipe! Let me know if you need any more cooking inspiration.\"\n",
      "}\n",
      "\n",
      "Images Map:\n",
      "{}\n",
      "\n",
      "Audio Map:\n",
      "{}\n"
     ]
    },
    {
     "data": {
      "text/plain": [
       "<aiflow.AIFlow at 0x280a5aaa200>"
      ]
     },
     "execution_count": 17,
     "metadata": {},
     "output_type": "execute_result"
    }
   ],
   "source": [
    "chatbot.load_state(filename=\"mystate.json\").show_self_data()"
   ]
  },
  {
   "cell_type": "markdown",
   "metadata": {},
   "source": [
    "## Some context manipulations"
   ]
  },
  {
   "cell_type": "code",
   "execution_count": 18,
   "metadata": {},
   "outputs": [
    {
     "name": "stdout",
     "output_type": "stream",
     "text": [
      "Chat Messages:\n",
      "[\n",
      "    {\n",
      "        \"role\": \"system\",\n",
      "        \"content\": \"You are an artist very good in poetry\"\n",
      "    },\n",
      "    {\n",
      "        \"role\": \"user\",\n",
      "        \"content\": \"How is the weather here?\"\n",
      "    },\n",
      "    {\n",
      "        \"role\": \"assistant\",\n",
      "        \"content\": \"I'm just a cooking assistant and I can't provide real-time weather updates. But if you're looking for a recipe to warm you up on a cold day, I recommend trying a hearty vegetable soup or a cozy mug of hot chocolate! Just let me know if you'd like a recipe for either.\"\n",
      "    },\n",
      "    {\n",
      "        \"role\": \"user\",\n",
      "        \"content\": \"Ok. Give me a recipe inspired by weather\"\n",
      "    },\n",
      "    {\n",
      "        \"role\": \"assistant\",\n",
      "        \"content\": \"How about a refreshing and colorful Rainbow Fruit Salad? It's perfect for sunny and bright weather! Here's a simple recipe for you:\\n\\nIngredients:\\n- Strawberries\\n- Oranges\\n- Pineapple\\n- Kiwi\\n- Blueberries\\n- Blackberries\\n- Honey or agave nectar\\n- Fresh mint leaves (optional)\\n\\nInstructions:\\n1. Wash and chop all the fruits into bite-sized pieces.\\n2. In a large bowl, combine the fruits and gently toss them together.\\n3. Drizzle honey or agave nectar over the fruit salad and gently mix to combine.\\n4. Garnish with fresh mint leaves for an extra pop of freshness.\\n5. Serve the colorful Rainbow Fruit Salad chilled and enjoy as a healthy and vibrant snack!\\n\\nI hope you enjoy this delicious and weather-inspired recipe! Let me know if you need any more cooking inspiration.\"\n",
      "    }\n",
      "]\n",
      "\n",
      "Context Map:\n",
      "{\n",
      "    \"latest_prompt\": \"Give the following names in reverse order: 1. Olivia\\n2. Nathan\\n3. Sophia\\n4. Adrian\\n5. Isabella\\n6. Lucas\\n7. Ava\\n8. Elijah\\n9. Mia\\n10. Levi.\",\n",
      "    \"latest\": \"10. Levi\\n9. Mia\\n8. Elijah\\n7. Ava\\n6. Lucas\\n5. Isabella\\n4. Adrian\\n3. Sophia\\n2. Nathan\\n1. Olivia\",\n",
      "    \"dish\": \"How about a refreshing and colorful Rainbow Fruit Salad? It's perfect for sunny and bright weather! Here's a simple recipe for you:\\n\\nIngredients:\\n- Strawberries\\n- Oranges\\n- Pineapple\\n- Kiwi\\n- Blueberries\\n- Blackberries\\n- Honey or agave nectar\\n- Fresh mint leaves (optional)\\n\\nInstructions:\\n1. Wash and chop all the fruits into bite-sized pieces.\\n2. In a large bowl, combine the fruits and gently toss them together.\\n3. Drizzle honey or agave nectar over the fruit salad and gently mix to combine.\\n4. Garnish with fresh mint leaves for an extra pop of freshness.\\n5. Serve the colorful Rainbow Fruit Salad chilled and enjoy as a healthy and vibrant snack!\\n\\nI hope you enjoy this delicious and weather-inspired recipe! Let me know if you need any more cooking inspiration.\"\n",
      "}\n",
      "\n",
      "Images Map:\n",
      "{}\n",
      "\n",
      "Audio Map:\n",
      "{}\n"
     ]
    },
    {
     "data": {
      "text/plain": [
       "<aiflow.AIFlow at 0x280a5aaa200>"
      ]
     },
     "execution_count": 18,
     "metadata": {},
     "output_type": "execute_result"
    }
   ],
   "source": [
    "chatbot.show_self_data()"
   ]
  },
  {
   "cell_type": "code",
   "execution_count": 19,
   "metadata": {},
   "outputs": [
    {
     "name": "stdout",
     "output_type": "stream",
     "text": [
      "Chat Messages:\n",
      "[\n",
      "    {\n",
      "        \"role\": \"system\",\n",
      "        \"content\": \"You are an artist very good in poetry\"\n",
      "    },\n",
      "    {\n",
      "        \"role\": \"user\",\n",
      "        \"content\": \"How is the weather here?\"\n",
      "    },\n",
      "    {\n",
      "        \"role\": \"assistant\",\n",
      "        \"content\": \"I'm just a cooking assistant and I can't provide real-time weather updates. But if you're looking for a recipe to warm you up on a cold day, I recommend trying a hearty vegetable soup or a cozy mug of hot chocolate! Just let me know if you'd like a recipe for either.\"\n",
      "    },\n",
      "    {\n",
      "        \"role\": \"user\",\n",
      "        \"content\": \"Ok. Give me a recipe inspired by weather\"\n",
      "    },\n",
      "    {\n",
      "        \"role\": \"assistant\",\n",
      "        \"content\": \"How about a refreshing and colorful Rainbow Fruit Salad? It's perfect for sunny and bright weather! Here's a simple recipe for you:\\n\\nIngredients:\\n- Strawberries\\n- Oranges\\n- Pineapple\\n- Kiwi\\n- Blueberries\\n- Blackberries\\n- Honey or agave nectar\\n- Fresh mint leaves (optional)\\n\\nInstructions:\\n1. Wash and chop all the fruits into bite-sized pieces.\\n2. In a large bowl, combine the fruits and gently toss them together.\\n3. Drizzle honey or agave nectar over the fruit salad and gently mix to combine.\\n4. Garnish with fresh mint leaves for an extra pop of freshness.\\n5. Serve the colorful Rainbow Fruit Salad chilled and enjoy as a healthy and vibrant snack!\\n\\nI hope you enjoy this delicious and weather-inspired recipe! Let me know if you need any more cooking inspiration.\"\n",
      "    }\n",
      "]\n",
      "\n",
      "Context Map:\n",
      "{\n",
      "    \"latest_prompt\": \"Give the following names in reverse order: 1. Olivia\\n2. Nathan\\n3. Sophia\\n4. Adrian\\n5. Isabella\\n6. Lucas\\n7. Ava\\n8. Elijah\\n9. Mia\\n10. Levi.\",\n",
      "    \"latest\": \"10. Levi\\n9. Mia\\n8. Elijah\\n7. Ava\\n6. Lucas\\n5. Isabella\\n4. Adrian\\n3. Sophia\\n2. Nathan\\n1. Olivia\",\n",
      "    \"dish\": \"How about a refreshing and colorful Rainbow Fruit Salad? It's perfect for sunny and bright weather! Here's a simple recipe for you:\\n\\nIngredients:\\n- Strawberries\\n- Oranges\\n- Pineapple\\n- Kiwi\\n- Blueberries\\n- Blackberries\\n- Honey or agave nectar\\n- Fresh mint leaves (optional)\\n\\nInstructions:\\n1. Wash and chop all the fruits into bite-sized pieces.\\n2. In a large bowl, combine the fruits and gently toss them together.\\n3. Drizzle honey or agave nectar over the fruit salad and gently mix to combine.\\n4. Garnish with fresh mint leaves for an extra pop of freshness.\\n5. Serve the colorful Rainbow Fruit Salad chilled and enjoy as a healthy and vibrant snack!\\n\\nI hope you enjoy this delicious and weather-inspired recipe! Let me know if you need any more cooking inspiration.\",\n",
      "    \"stuff\": \"Nothing\"\n",
      "}\n",
      "\n",
      "Images Map:\n",
      "{}\n",
      "\n",
      "Audio Map:\n",
      "{}\n",
      "Chat Messages:\n",
      "[\n",
      "    {\n",
      "        \"role\": \"system\",\n",
      "        \"content\": \"You are an artist very good in poetry\"\n",
      "    },\n",
      "    {\n",
      "        \"role\": \"user\",\n",
      "        \"content\": \"How is the weather here?\"\n",
      "    },\n",
      "    {\n",
      "        \"role\": \"assistant\",\n",
      "        \"content\": \"I'm just a cooking assistant and I can't provide real-time weather updates. But if you're looking for a recipe to warm you up on a cold day, I recommend trying a hearty vegetable soup or a cozy mug of hot chocolate! Just let me know if you'd like a recipe for either.\"\n",
      "    },\n",
      "    {\n",
      "        \"role\": \"user\",\n",
      "        \"content\": \"Ok. Give me a recipe inspired by weather\"\n",
      "    },\n",
      "    {\n",
      "        \"role\": \"assistant\",\n",
      "        \"content\": \"How about a refreshing and colorful Rainbow Fruit Salad? It's perfect for sunny and bright weather! Here's a simple recipe for you:\\n\\nIngredients:\\n- Strawberries\\n- Oranges\\n- Pineapple\\n- Kiwi\\n- Blueberries\\n- Blackberries\\n- Honey or agave nectar\\n- Fresh mint leaves (optional)\\n\\nInstructions:\\n1. Wash and chop all the fruits into bite-sized pieces.\\n2. In a large bowl, combine the fruits and gently toss them together.\\n3. Drizzle honey or agave nectar over the fruit salad and gently mix to combine.\\n4. Garnish with fresh mint leaves for an extra pop of freshness.\\n5. Serve the colorful Rainbow Fruit Salad chilled and enjoy as a healthy and vibrant snack!\\n\\nI hope you enjoy this delicious and weather-inspired recipe! Let me know if you need any more cooking inspiration.\"\n",
      "    }\n",
      "]\n",
      "\n",
      "Context Map:\n",
      "{\n",
      "    \"latest_prompt\": \"Give the following names in reverse order: 1. Olivia\\n2. Nathan\\n3. Sophia\\n4. Adrian\\n5. Isabella\\n6. Lucas\\n7. Ava\\n8. Elijah\\n9. Mia\\n10. Levi.\",\n",
      "    \"latest\": \"10. Levi\\n9. Mia\\n8. Elijah\\n7. Ava\\n6. Lucas\\n5. Isabella\\n4. Adrian\\n3. Sophia\\n2. Nathan\\n1. Olivia\",\n",
      "    \"dish\": \"How about a refreshing and colorful Rainbow Fruit Salad? It's perfect for sunny and bright weather! Here's a simple recipe for you:\\n\\nIngredients:\\n- Strawberries\\n- Oranges\\n- Pineapple\\n- Kiwi\\n- Blueberries\\n- Blackberries\\n- Honey or agave nectar\\n- Fresh mint leaves (optional)\\n\\nInstructions:\\n1. Wash and chop all the fruits into bite-sized pieces.\\n2. In a large bowl, combine the fruits and gently toss them together.\\n3. Drizzle honey or agave nectar over the fruit salad and gently mix to combine.\\n4. Garnish with fresh mint leaves for an extra pop of freshness.\\n5. Serve the colorful Rainbow Fruit Salad chilled and enjoy as a healthy and vibrant snack!\\n\\nI hope you enjoy this delicious and weather-inspired recipe! Let me know if you need any more cooking inspiration.\"\n",
      "}\n",
      "\n",
      "Images Map:\n",
      "{}\n",
      "\n",
      "Audio Map:\n",
      "{}\n"
     ]
    },
    {
     "data": {
      "text/plain": [
       "<aiflow.AIFlow at 0x280a5aaa200>"
      ]
     },
     "execution_count": 19,
     "metadata": {},
     "output_type": "execute_result"
    }
   ],
   "source": [
    "chatbot.set_context(content=\"Nothing\", label=\"stuff\").show_self_data().delete_context(label=\"stuff\").show_self_data()"
   ]
  },
  {
   "cell_type": "code",
   "execution_count": 20,
   "metadata": {},
   "outputs": [
    {
     "data": {
      "text/plain": [
       "<aiflow.AIFlow at 0x280a5aaa200>"
      ]
     },
     "execution_count": 20,
     "metadata": {},
     "output_type": "execute_result"
    }
   ],
   "source": [
    "chatbot.dump_context_to_files().dump_context_to_markdown().dump_context_to_docx(output_filename=\"output.docx\")"
   ]
  },
  {
   "cell_type": "markdown",
   "metadata": {},
   "source": [
    "## Data loading"
   ]
  },
  {
   "cell_type": "code",
   "execution_count": 21,
   "metadata": {},
   "outputs": [
    {
     "name": "stdout",
     "output_type": "stream",
     "text": [
      "Chat Messages:\n",
      "[\n",
      "    {\n",
      "        \"role\": \"system\",\n",
      "        \"content\": \"You are an artist very good in poetry\"\n",
      "    },\n",
      "    {\n",
      "        \"role\": \"user\",\n",
      "        \"content\": \"How is the weather here?\"\n",
      "    },\n",
      "    {\n",
      "        \"role\": \"assistant\",\n",
      "        \"content\": \"I'm just a cooking assistant and I can't provide real-time weather updates. But if you're looking for a recipe to warm you up on a cold day, I recommend trying a hearty vegetable soup or a cozy mug of hot chocolate! Just let me know if you'd like a recipe for either.\"\n",
      "    },\n",
      "    {\n",
      "        \"role\": \"user\",\n",
      "        \"content\": \"Ok. Give me a recipe inspired by weather\"\n",
      "    },\n",
      "    {\n",
      "        \"role\": \"assistant\",\n",
      "        \"content\": \"How about a refreshing and colorful Rainbow Fruit Salad? It's perfect for sunny and bright weather! Here's a simple recipe for you:\\n\\nIngredients:\\n- Strawberries\\n- Oranges\\n- Pineapple\\n- Kiwi\\n- Blueberries\\n- Blackberries\\n- Honey or agave nectar\\n- Fresh mint leaves (optional)\\n\\nInstructions:\\n1. Wash and chop all the fruits into bite-sized pieces.\\n2. In a large bowl, combine the fruits and gently toss them together.\\n3. Drizzle honey or agave nectar over the fruit salad and gently mix to combine.\\n4. Garnish with fresh mint leaves for an extra pop of freshness.\\n5. Serve the colorful Rainbow Fruit Salad chilled and enjoy as a healthy and vibrant snack!\\n\\nI hope you enjoy this delicious and weather-inspired recipe! Let me know if you need any more cooking inspiration.\"\n",
      "    }\n",
      "]\n",
      "\n",
      "Context Map:\n",
      "{\n",
      "    \"latest_prompt\": \"Give the following names in reverse order: 1. Olivia\\n2. Nathan\\n3. Sophia\\n4. Adrian\\n5. Isabella\\n6. Lucas\\n7. Ava\\n8. Elijah\\n9. Mia\\n10. Levi.\",\n",
      "    \"latest\": \"10. Levi\\n9. Mia\\n8. Elijah\\n7. Ava\\n6. Lucas\\n5. Isabella\\n4. Adrian\\n3. Sophia\\n2. Nathan\\n1. Olivia\",\n",
      "    \"dish\": \"How about a refreshing and colorful Rainbow Fruit Salad? It's perfect for sunny and bright weather! Here's a simple recipe for you:\\n\\nIngredients:\\n- Strawberries\\n- Oranges\\n- Pineapple\\n- Kiwi\\n- Blueberries\\n- Blackberries\\n- Honey or agave nectar\\n- Fresh mint leaves (optional)\\n\\nInstructions:\\n1. Wash and chop all the fruits into bite-sized pieces.\\n2. In a large bowl, combine the fruits and gently toss them together.\\n3. Drizzle honey or agave nectar over the fruit salad and gently mix to combine.\\n4. Garnish with fresh mint leaves for an extra pop of freshness.\\n5. Serve the colorful Rainbow Fruit Salad chilled and enjoy as a healthy and vibrant snack!\\n\\nI hope you enjoy this delicious and weather-inspired recipe! Let me know if you need any more cooking inspiration.\",\n",
      "    \"latest_file\": \"You are a helpful assistant helping make a mail.  You will answer my questions a body of knowledge I provide.\\n\\nMy question is:\\n{question}\\n\\nKnowledge:\\n{knowledge}\\n\\nAnswer:\\n\\n\\n\\n\\n\"\n",
      "}\n",
      "\n",
      "Images Map:\n",
      "{}\n",
      "\n",
      "Audio Map:\n",
      "{}\n"
     ]
    },
    {
     "data": {
      "text/plain": [
       "<aiflow.AIFlow at 0x280a5aaa200>"
      ]
     },
     "execution_count": 21,
     "metadata": {},
     "output_type": "execute_result"
    }
   ],
   "source": [
    "chatbot.read_textfile_to_context(filename=\"output.txt\").show_self_data()"
   ]
  },
  {
   "cell_type": "markdown",
   "metadata": {},
   "source": [
    "# Combining AIFlows"
   ]
  },
  {
   "cell_type": "code",
   "execution_count": 22,
   "metadata": {},
   "outputs": [
    {
     "name": "stdout",
     "output_type": "stream",
     "text": [
      "Let's say you are a random person hungry for food. What would you like to eat?\n",
      "\n",
      "As a language model AI, I don't have the ability to eat, but some popular food options for people who are hungry include pizza, burgers, pasta, tacos, sushi, or a hearty salad. Ultimately, the choice of what to eat depends on personal preferences and cravings.\n",
      "\n"
     ]
    },
    {
     "data": {
      "text/plain": [
       "<aiflow.AIFlow at 0x280a5b58640>"
      ]
     },
     "execution_count": 22,
     "metadata": {},
     "output_type": "execute_result"
    }
   ],
   "source": [
    "otherbot=AIFlow(api_key=API_KEY,model=\"gpt-3.5-turbo\",max_tokens=3000, temperature=1)\n",
    "otherbot.completion(\"Let's say you are a random person hungry for food. What would you like to eat?\")"
   ]
  },
  {
   "cell_type": "code",
   "execution_count": 23,
   "metadata": {},
   "outputs": [
    {
     "data": {
      "text/plain": [
       "\"As a language model AI, I don't have the ability to eat, but some popular food options for people who are hungry include pizza, burgers, pasta, tacos, sushi, or a hearty salad. Ultimately, the choice of what to eat depends on personal preferences and cravings.\""
      ]
     },
     "execution_count": 23,
     "metadata": {},
     "output_type": "execute_result"
    }
   ],
   "source": [
    "otherbot.return_latest_to_text()"
   ]
  },
  {
   "cell_type": "code",
   "execution_count": 24,
   "metadata": {},
   "outputs": [
    {
     "name": "stdout",
     "output_type": "stream",
     "text": [
      "Chat Messages:\n",
      "[]\n",
      "\n",
      "Context Map:\n",
      "{\n",
      "    \"food_choice\": \"As a language model AI, I don't have the ability to eat, but some popular food options for people who are hungry include pizza, burgers, pasta, tacos, sushi, or a hearty salad. Ultimately, the choice of what to eat depends on personal preferences and cravings.\"\n",
      "}\n",
      "\n",
      "Images Map:\n",
      "{}\n",
      "\n",
      "Audio Map:\n",
      "{}\n",
      "Give a silly comment on the following choice of food: [food_choice]\n",
      "\n",
      "I don't have taste buds, but I'm pretty sure all food tastes better when eaten in pajamas.\n",
      "\n",
      "Chat Messages:\n",
      "[]\n",
      "\n",
      "Context Map:\n",
      "{\n",
      "    \"food_choice\": \"As a language model AI, I don't have the ability to eat, but some popular food options for people who are hungry include pizza, burgers, pasta, tacos, sushi, or a hearty salad. Ultimately, the choice of what to eat depends on personal preferences and cravings.\",\n",
      "    \"latest_prompt\": \"Give a silly comment on the following choice of food: As a language model AI, I don't have the ability to eat, but some popular food options for people who are hungry include pizza, burgers, pasta, tacos, sushi, or a hearty salad. Ultimately, the choice of what to eat depends on personal preferences and cravings.\",\n",
      "    \"latest\": \"I don't have taste buds, but I'm pretty sure all food tastes better when eaten in pajamas.\"\n",
      "}\n",
      "\n",
      "Images Map:\n",
      "{}\n",
      "\n",
      "Audio Map:\n",
      "{}\n"
     ]
    },
    {
     "data": {
      "text/plain": [
       "<aiflow.AIFlow at 0x280a5aab5e0>"
      ]
     },
     "execution_count": 24,
     "metadata": {},
     "output_type": "execute_result"
    }
   ],
   "source": [
    "sillybot=AIFlow(api_key=API_KEY,model=\"gpt-3.5-turbo\",max_tokens=3000, temperature=1)\n",
    "sillybot.set_context(content=otherbot.return_latest_to_text(), label=\"food_choice\").show_self_data()\n",
    "sillybot.completion(prompt=\"Give a silly comment on the following choice of food: [food_choice]\").show_self_data()"
   ]
  },
  {
   "cell_type": "markdown",
   "metadata": {},
   "source": [
    "# Using vectordatabase Chroma"
   ]
  },
  {
   "cell_type": "code",
   "execution_count": 25,
   "metadata": {},
   "outputs": [],
   "source": [
    "# https://docs.trychroma.com/guides\n",
    "import chromadb\n",
    "chroma_client = chromadb.Client() # chromadb.PersistentClient(path=\"/path/to/save/to\")\n",
    "collection = chroma_client.create_collection(name=\"my_collection\")"
   ]
  },
  {
   "cell_type": "code",
   "execution_count": 26,
   "metadata": {},
   "outputs": [],
   "source": [
    "collection.add(\n",
    "    documents=[\n",
    "        \"This is a document about pineapple\",\n",
    "        \"This is a document about oranges\"\n",
    "    ],\n",
    "    ids=[\"id1\", \"id2\"]\n",
    ")"
   ]
  },
  {
   "cell_type": "code",
   "execution_count": 27,
   "metadata": {},
   "outputs": [
    {
     "name": "stdout",
     "output_type": "stream",
     "text": [
      "{'ids': [['id1']], 'distances': [[1.0404009819030762]], 'metadatas': [[None]], 'embeddings': None, 'documents': [['This is a document about pineapple']], 'uris': None, 'data': None}\n"
     ]
    }
   ],
   "source": [
    "results = collection.query(\n",
    "    query_texts=[\"This is a query document about hawaii\"], # Chroma will embed this for you\n",
    "    n_results=1 # how many results to return\n",
    ")\n",
    "print(results)"
   ]
  },
  {
   "cell_type": "code",
   "execution_count": 28,
   "metadata": {},
   "outputs": [
    {
     "data": {
      "text/plain": [
       "2"
      ]
     },
     "execution_count": 28,
     "metadata": {},
     "output_type": "execute_result"
    }
   ],
   "source": [
    "collection.peek() # returns a list of the first 10 items in the collection\n",
    "collection.count() # returns the number of items in the collection"
   ]
  },
  {
   "cell_type": "code",
   "execution_count": 29,
   "metadata": {},
   "outputs": [
    {
     "name": "stdout",
     "output_type": "stream",
     "text": [
      "This is a document about pineapple\n"
     ]
    }
   ],
   "source": [
    "from aiflow import chroma_query_result_to_text\n",
    "print(chroma_query_result_to_text(results))"
   ]
  },
  {
   "cell_type": "code",
   "execution_count": 30,
   "metadata": {},
   "outputs": [
    {
     "name": "stdout",
     "output_type": "stream",
     "text": [
      "Say something really silly about this random text: [found_doc]\n",
      "\n",
      "Did you know that pineapples are actually tiny alien spaceships in disguise? Watch out for flying fruit in your grocery store!\n",
      "\n",
      "Chat Messages:\n",
      "[]\n",
      "\n",
      "Context Map:\n",
      "{\n",
      "    \"food_choice\": \"As a language model AI, I don't have the ability to eat, but some popular food options for people who are hungry include pizza, burgers, pasta, tacos, sushi, or a hearty salad. Ultimately, the choice of what to eat depends on personal preferences and cravings.\",\n",
      "    \"latest_prompt\": \"Say something really silly about this random text: This is a document about pineapple\",\n",
      "    \"latest\": \"Did you know that pineapples are actually tiny alien spaceships in disguise? Watch out for flying fruit in your grocery store!\",\n",
      "    \"found_doc\": \"This is a document about pineapple\"\n",
      "}\n",
      "\n",
      "Images Map:\n",
      "{}\n",
      "\n",
      "Audio Map:\n",
      "{}\n"
     ]
    },
    {
     "data": {
      "text/plain": [
       "<aiflow.AIFlow at 0x280a5aab5e0>"
      ]
     },
     "execution_count": 30,
     "metadata": {},
     "output_type": "execute_result"
    }
   ],
   "source": [
    "sillybot.set_context(content=chroma_query_result_to_text(results), label=\"found_doc\")\n",
    "sillybot.completion(\"Say something really silly about this random text: [found_doc]\").show_self_data()"
   ]
  }
 ],
 "metadata": {
  "kernelspec": {
   "display_name": "Python 3 (ipykernel)",
   "language": "python",
   "name": "python3"
  },
  "language_info": {
   "codemirror_mode": {
    "name": "ipython",
    "version": 3
   },
   "file_extension": ".py",
   "mimetype": "text/x-python",
   "name": "python",
   "nbconvert_exporter": "python",
   "pygments_lexer": "ipython3",
   "version": "3.10.6"
  }
 },
 "nbformat": 4,
 "nbformat_minor": 4
}
