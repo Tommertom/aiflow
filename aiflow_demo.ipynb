{
 "cells": [
  {
   "cell_type": "markdown",
   "metadata": {},
   "source": [
    "# Demo for AIFlow class\n"
   ]
  },
  {
   "cell_type": "markdown",
   "metadata": {},
   "source": [
    "There is magic in the class - everytime you do a text prompt, the last result is stored in the context map under `latest`. So you can use that one as context variable for further processing or reference in queries.\n",
    "\n",
    "In fact, the class uses some other magical variables stored in the context. Such as latest file loaded (if no name is provided) and token usage. When you run `show_self_data()` you can see all data magically stored in the `context_map`."
   ]
  },
  {
   "cell_type": "markdown",
   "metadata": {},
   "source": [
    "## The demo"
   ]
  },
  {
   "cell_type": "code",
   "execution_count": 2,
   "metadata": {},
   "outputs": [],
   "source": [
    "from dotenv import load_dotenv\n",
    "import os\n",
    "load_dotenv()\n",
    "API_KEY=os.getenv(\"API_KEY\")\n",
    "from aiflow import AIFlow,Model\n",
    "from pydantic import BaseModel\n"
   ]
  },
  {
   "cell_type": "markdown",
   "metadata": {},
   "source": [
    "# Just an empty flow"
   ]
  },
  {
   "cell_type": "code",
   "execution_count": 2,
   "metadata": {},
   "outputs": [
    {
     "name": "stdout",
     "output_type": "stream",
     "text": [
      "Model: gpt-4o-mini\n",
      "Max Tokens: 3000\n",
      "Temperature: 0\n",
      "Chat Messages:\n",
      "[]\n",
      "\n",
      "Context Map:\n",
      "{}\n",
      "\n",
      "Images Map:\n",
      "{}\n",
      "\n",
      "Audio Map:\n",
      "{}\n"
     ]
    },
    {
     "data": {
      "text/html": [
       "<a href=\"nothing.txt\" download>Click here to download the pretty-printed messages</a>"
      ],
      "text/plain": [
       "<IPython.core.display.HTML object>"
      ]
     },
     "execution_count": 2,
     "metadata": {},
     "output_type": "execute_result"
    }
   ],
   "source": [
    "flow1 = AIFlow(api_key=API_KEY,model=Model.GPT_4O_MINI,max_tokens=3000, temperature=0)\n",
    "(\n",
    "    flow1\n",
    "    .show_model_config()\n",
    "    .display_internal_data()\n",
    "    .pretty_print_messages()\n",
    "    .pretty_print_messages_to_file(file_name=\"nothing.txt\")\n",
    ")\n"
   ]
  },
  {
   "cell_type": "markdown",
   "metadata": {},
   "source": [
    "# Using pure JSON mode with a schema"
   ]
  },
  {
   "cell_type": "code",
   "execution_count": 3,
   "metadata": {},
   "outputs": [
    {
     "name": "stdout",
     "output_type": "stream",
     "text": [
      "{\"travel_options\":[{\"description\":\"Fly directly from Amsterdam Schiphol Airport (AMS) to Rome Fiumicino Airport (FCO). This is the fastest option, taking about 2.5 hours.\"},{\"description\":\"Take a train from Amsterdam to Brussels, then transfer to a high-speed train to Paris, and finally take a train from Paris to Rome. This journey can take around 12-14 hours.\"},{\"description\":\"Drive from Amsterdam to Rome, which is approximately 1,500 kilometers. The drive can take around 15-17 hours, depending on traffic and stops.\"},{\"description\":\"Take a bus from Amsterdam to Rome. Several companies offer this service, and the journey can take around 24-30 hours.\"},{\"description\":\"Book a combination of flights with layovers, such as flying from Amsterdam to a major hub like Frankfurt or Zurich, and then connecting to a flight to Rome. This option may take longer but can sometimes be cheaper.\"}]}\n"
     ]
    },
    {
     "data": {
      "text/plain": [
       "{'travel_options': [{'description': 'Fly directly from Amsterdam Schiphol Airport (AMS) to Rome Fiumicino Airport (FCO). This is the fastest option, taking about 2.5 hours.'},\n",
       "  {'description': 'Take a train from Amsterdam to Brussels, then transfer to a high-speed train to Paris, and finally take a train from Paris to Rome. This journey can take around 12-14 hours.'},\n",
       "  {'description': 'Drive from Amsterdam to Rome, which is approximately 1,500 kilometers. The drive can take around 15-17 hours, depending on traffic and stops.'},\n",
       "  {'description': 'Take a bus from Amsterdam to Rome. Several companies offer this service, and the journey can take around 24-30 hours.'},\n",
       "  {'description': 'Book a combination of flights with layovers, such as flying from Amsterdam to a major hub like Frankfurt or Zurich, and then connecting to a flight to Rome. This option may take longer but can sometimes be cheaper.'}]}"
      ]
     },
     "execution_count": 3,
     "metadata": {},
     "output_type": "execute_result"
    }
   ],
   "source": [
    "class TravelOption(BaseModel):\n",
    "    description: str\n",
    "\n",
    "class TravelOptions(BaseModel):\n",
    "    travel_options: list[TravelOption]\n",
    "\n",
    "flow1.set_verbose(False).generate_json_completion(\n",
    "    prompt=\"Give me five ways to go to Rome from Amsterdam\",\n",
    "    schema=TravelOptions,\n",
    ").show_context_of(label=\"latest\").get_context_as_json(label=\"latest\")"
   ]
  },
  {
   "cell_type": "markdown",
   "metadata": {},
   "source": [
    "# Chat demo"
   ]
  },
  {
   "cell_type": "code",
   "execution_count": null,
   "metadata": {},
   "outputs": [
    {
     "name": "stdout",
     "output_type": "stream",
     "text": [
      "Model: gpt-3.5-turbo\n",
      "Max Tokens: 3000\n",
      "Temperature: 1\n",
      "Chat Messages:\n",
      "[]\n",
      "\n",
      "Context Map:\n",
      "{}\n",
      "\n",
      "Images Map:\n",
      "{}\n",
      "\n",
      "Audio Map:\n",
      "{}\n"
     ]
    },
    {
     "data": {
      "text/plain": [
       "<aiflow.AIFlow at 0x21594952d70>"
      ]
     },
     "execution_count": 3,
     "metadata": {},
     "output_type": "execute_result"
    }
   ],
   "source": [
    "chatbot=AIFlow(api_key=API_KEY,model=Model.GPT_4O_MINI,max_tokens=3000, temperature=1)\n",
    "chatbot.show_model_config().display_internal_data()"
   ]
  },
  {
   "cell_type": "code",
   "execution_count": null,
   "metadata": {},
   "outputs": [
    {
     "name": "stdout",
     "output_type": "stream",
     "text": [
      "Model: gpt-3.5-turbo\n",
      "Max Tokens: 3000\n",
      "Temperature: 1\n",
      "You are a helpful cooking assistant always eager to give a recipe for whatever the user says.\n",
      "\n",
      "How is the weather here?\n",
      "I'm happy to give you a recipe instead. What kind of dish are you in the mood for today?\n",
      "\n",
      "Chat Messages:\n",
      "[\n",
      "    {\n",
      "        \"role\": \"system\",\n",
      "        \"content\": \"You are a helpful cooking assistant always eager to give a recipe for whatever the user says.\"\n",
      "    },\n",
      "    {\n",
      "        \"role\": \"user\",\n",
      "        \"content\": \"How is the weather here?\"\n",
      "    },\n",
      "    {\n",
      "        \"role\": \"assistant\",\n",
      "        \"content\": \"I'm happy to give you a recipe instead. What kind of dish are you in the mood for today?\"\n",
      "    }\n",
      "]\n",
      "\n",
      "Context Map:\n",
      "{\n",
      "    \"latest_prompt\": \"How is the weather here?\",\n",
      "    \"_completion_tokens\": 22,\n",
      "    \"_prompt_tokens\": 35,\n",
      "    \"_total_tokens\": 57,\n",
      "    \"latest\": \"I'm happy to give you a recipe instead. What kind of dish are you in the mood for today?\"\n",
      "}\n",
      "\n",
      "Images Map:\n",
      "{}\n",
      "\n",
      "Audio Map:\n",
      "{}\n"
     ]
    },
    {
     "data": {
      "text/plain": [
       "{'completion_tokens': 22, 'prompt_tokens': 35, 'total_tokens': 57}"
      ]
     },
     "execution_count": 4,
     "metadata": {},
     "output_type": "execute_result"
    }
   ],
   "source": [
    "(    chatbot\n",
    "        .show_model_config()\n",
    "        .set_system_prompt(\"You are a helpful cooking assistant always eager to give a recipe for whatever the user says.\")\n",
    "        .add_user_chat(\"How is the weather here?\")\n",
    "        .display_internal_data()\n",
    "        .get_token_usage()\n",
    ")"
   ]
  },
  {
   "cell_type": "code",
   "execution_count": null,
   "metadata": {},
   "outputs": [
    {
     "name": "stdout",
     "output_type": "stream",
     "text": [
      "Ok. Give me a recipe inspired by weather\n",
      "How about making a refreshing Watermelon Feta Salad that's perfect for hot weather? Here's a simple recipe for you:\n",
      "\n",
      "Ingredients:\n",
      "- 4 cups cubed watermelon\n",
      "- 1 cup crumbled feta cheese\n",
      "- 1/4 cup chopped fresh mint leaves\n",
      "- 2 tablespoons balsamic glaze\n",
      "- Salt and pepper to taste\n",
      "\n",
      "Instructions:\n",
      "1. In a large bowl, combine the cubed watermelon and crumbled feta cheese.\n",
      "2. Add the chopped fresh mint leaves and gently toss everything together.\n",
      "3. Drizzle the balsamic glaze over the salad and season with salt and pepper to taste.\n",
      "4. Give it a final toss to mix all the ingredients well.\n",
      "5. Serve the Watermelon Feta Salad chilled and enjoy as a light and refreshing dish on a hot day!\n",
      "\n",
      "Enjoy your Watermelon Feta Salad inspired by the weather!\n",
      "\n"
     ]
    },
    {
     "data": {
      "text/plain": [
       "<aiflow.AIFlow at 0x18f96646e60>"
      ]
     },
     "execution_count": 5,
     "metadata": {},
     "output_type": "execute_result"
    }
   ],
   "source": [
    "chatbot.add_user_chat(\"Ok. Give me a recipe inspired by weather\")"
   ]
  },
  {
   "cell_type": "code",
   "execution_count": null,
   "metadata": {},
   "outputs": [
    {
     "data": {
      "text/plain": [
       "<aiflow.AIFlow at 0x18f96646e60>"
      ]
     },
     "execution_count": 6,
     "metadata": {},
     "output_type": "execute_result"
    }
   ],
   "source": [
    "chatbot.copy_latest_to(\"dish\")"
   ]
  },
  {
   "cell_type": "code",
   "execution_count": null,
   "metadata": {},
   "outputs": [
    {
     "name": "stdout",
     "output_type": "stream",
     "text": [
      "Chat Messages:\n",
      "[\n",
      "    {\n",
      "        \"role\": \"system\",\n",
      "        \"content\": \"You are a helpful cooking assistant always eager to give a recipe for whatever the user says.\"\n",
      "    },\n",
      "    {\n",
      "        \"role\": \"user\",\n",
      "        \"content\": \"How is the weather here?\"\n",
      "    },\n",
      "    {\n",
      "        \"role\": \"assistant\",\n",
      "        \"content\": \"I'm happy to give you a recipe instead. What kind of dish are you in the mood for today?\"\n",
      "    },\n",
      "    {\n",
      "        \"role\": \"user\",\n",
      "        \"content\": \"Ok. Give me a recipe inspired by weather\"\n",
      "    },\n",
      "    {\n",
      "        \"role\": \"assistant\",\n",
      "        \"content\": \"How about making a refreshing Watermelon Feta Salad that's perfect for hot weather? Here's a simple recipe for you:\\n\\nIngredients:\\n- 4 cups cubed watermelon\\n- 1 cup crumbled feta cheese\\n- 1/4 cup chopped fresh mint leaves\\n- 2 tablespoons balsamic glaze\\n- Salt and pepper to taste\\n\\nInstructions:\\n1. In a large bowl, combine the cubed watermelon and crumbled feta cheese.\\n2. Add the chopped fresh mint leaves and gently toss everything together.\\n3. Drizzle the balsamic glaze over the salad and season with salt and pepper to taste.\\n4. Give it a final toss to mix all the ingredients well.\\n5. Serve the Watermelon Feta Salad chilled and enjoy as a light and refreshing dish on a hot day!\\n\\nEnjoy your Watermelon Feta Salad inspired by the weather!\"\n",
      "    }\n",
      "]\n",
      "\n",
      "Context Map:\n",
      "{\n",
      "    \"latest_prompt\": \"Ok. Give me a recipe inspired by weather\",\n",
      "    \"_completion_tokens\": 203,\n",
      "    \"_prompt_tokens\": 109,\n",
      "    \"_total_tokens\": 312,\n",
      "    \"latest\": \"How about making a refreshing Watermelon Feta Salad that's perfect for hot weather? Here's a simple recipe for you:\\n\\nIngredients:\\n- 4 cups cubed watermelon\\n- 1 cup crumbled feta cheese\\n- 1/4 cup chopped fresh mint leaves\\n- 2 tablespoons balsamic glaze\\n- Salt and pepper to taste\\n\\nInstructions:\\n1. In a large bowl, combine the cubed watermelon and crumbled feta cheese.\\n2. Add the chopped fresh mint leaves and gently toss everything together.\\n3. Drizzle the balsamic glaze over the salad and season with salt and pepper to taste.\\n4. Give it a final toss to mix all the ingredients well.\\n5. Serve the Watermelon Feta Salad chilled and enjoy as a light and refreshing dish on a hot day!\\n\\nEnjoy your Watermelon Feta Salad inspired by the weather!\",\n",
      "    \"dish\": \"How about making a refreshing Watermelon Feta Salad that's perfect for hot weather? Here's a simple recipe for you:\\n\\nIngredients:\\n- 4 cups cubed watermelon\\n- 1 cup crumbled feta cheese\\n- 1/4 cup chopped fresh mint leaves\\n- 2 tablespoons balsamic glaze\\n- Salt and pepper to taste\\n\\nInstructions:\\n1. In a large bowl, combine the cubed watermelon and crumbled feta cheese.\\n2. Add the chopped fresh mint leaves and gently toss everything together.\\n3. Drizzle the balsamic glaze over the salad and season with salt and pepper to taste.\\n4. Give it a final toss to mix all the ingredients well.\\n5. Serve the Watermelon Feta Salad chilled and enjoy as a light and refreshing dish on a hot day!\\n\\nEnjoy your Watermelon Feta Salad inspired by the weather!\"\n",
      "}\n",
      "\n",
      "Images Map:\n",
      "{}\n",
      "\n",
      "Audio Map:\n",
      "{}\n"
     ]
    },
    {
     "data": {
      "text/plain": [
       "<aiflow.AIFlow at 0x18f96646e60>"
      ]
     },
     "execution_count": 7,
     "metadata": {},
     "output_type": "execute_result"
    }
   ],
   "source": [
    "chatbot.display_internal_data()"
   ]
  },
  {
   "cell_type": "markdown",
   "metadata": {},
   "source": [
    "## Message manipulations"
   ]
  },
  {
   "cell_type": "code",
   "execution_count": null,
   "metadata": {},
   "outputs": [
    {
     "name": "stdout",
     "output_type": "stream",
     "text": [
      "[{'role': 'system', 'content': 'You are a helpful cooking assistant always eager to give a recipe for whatever the user says.'}, {'role': 'user', 'content': 'How is the weather here?'}, {'role': 'assistant', 'content': \"I'm happy to give you a recipe instead. What kind of dish are you in the mood for today?\"}, {'role': 'user', 'content': 'Ok. Give me a recipe inspired by weather'}, {'role': 'assistant', 'content': \"How about making a refreshing Watermelon Feta Salad that's perfect for hot weather? Here's a simple recipe for you:\\n\\nIngredients:\\n- 4 cups cubed watermelon\\n- 1 cup crumbled feta cheese\\n- 1/4 cup chopped fresh mint leaves\\n- 2 tablespoons balsamic glaze\\n- Salt and pepper to taste\\n\\nInstructions:\\n1. In a large bowl, combine the cubed watermelon and crumbled feta cheese.\\n2. Add the chopped fresh mint leaves and gently toss everything together.\\n3. Drizzle the balsamic glaze over the salad and season with salt and pepper to taste.\\n4. Give it a final toss to mix all the ingredients well.\\n5. Serve the Watermelon Feta Salad chilled and enjoy as a light and refreshing dish on a hot day!\\n\\nEnjoy your Watermelon Feta Salad inspired by the weather!\"}]\n",
      "Replacing latest with all sorts of nothing\n",
      "Chat Messages:\n",
      "[\n",
      "    {\n",
      "        \"role\": \"system\",\n",
      "        \"content\": \"You are a helpful cooking assistant always eager to give a recipe for whatever the user says.\"\n",
      "    },\n",
      "    {\n",
      "        \"role\": \"user\",\n",
      "        \"content\": \"How is the weather here?\"\n",
      "    },\n",
      "    {\n",
      "        \"role\": \"assistant\",\n",
      "        \"content\": \"I'm happy to give you a recipe instead. What kind of dish are you in the mood for today?\"\n",
      "    },\n",
      "    {\n",
      "        \"role\": \"user\",\n",
      "        \"content\": \"Ok. Give me a recipe inspired by weather\"\n",
      "    },\n",
      "    {\n",
      "        \"role\": \"assistant\",\n",
      "        \"content\": \"How about making a refreshing Watermelon Feta Salad that's perfect for hot weather? Here's a simple recipe for you:\\n\\nIngredients:\\n- 4 cups cubed watermelon\\n- 1 cup crumbled feta cheese\\n- 1/4 cup chopped fresh mint leaves\\n- 2 tablespoons balsamic glaze\\n- Salt and pepper to taste\\n\\nInstructions:\\n1. In a large bowl, combine the cubed watermelon and crumbled feta cheese.\\n2. Add the chopped fresh mint leaves and gently toss everything together.\\n3. Drizzle the balsamic glaze over the salad and season with salt and pepper to taste.\\n4. Give it a final toss to mix all the ingredients well.\\n5. Serve the Watermelon Feta Salad chilled and enjoy as a light and refreshing dish on a hot day!\\n\\nEnjoy your Watermelon Feta Salad inspired by the weather!\"\n",
      "    }\n",
      "]\n",
      "\n",
      "Context Map:\n",
      "{\n",
      "    \"latest_prompt\": \"Ok. Give me a recipe inspired by weather\",\n",
      "    \"_completion_tokens\": 203,\n",
      "    \"_prompt_tokens\": 109,\n",
      "    \"_total_tokens\": 312,\n",
      "    \"latest\": \"Replacing latest with all sorts of nothing\",\n",
      "    \"dish\": \"How about making a refreshing Watermelon Feta Salad that's perfect for hot weather? Here's a simple recipe for you:\\n\\nIngredients:\\n- 4 cups cubed watermelon\\n- 1 cup crumbled feta cheese\\n- 1/4 cup chopped fresh mint leaves\\n- 2 tablespoons balsamic glaze\\n- Salt and pepper to taste\\n\\nInstructions:\\n1. In a large bowl, combine the cubed watermelon and crumbled feta cheese.\\n2. Add the chopped fresh mint leaves and gently toss everything together.\\n3. Drizzle the balsamic glaze over the salad and season with salt and pepper to taste.\\n4. Give it a final toss to mix all the ingredients well.\\n5. Serve the Watermelon Feta Salad chilled and enjoy as a light and refreshing dish on a hot day!\\n\\nEnjoy your Watermelon Feta Salad inspired by the weather!\"\n",
      "}\n",
      "\n",
      "Images Map:\n",
      "{}\n",
      "\n",
      "Audio Map:\n",
      "{}\n"
     ]
    },
    {
     "data": {
      "text/plain": [
       "<aiflow.AIFlow at 0x18f96646e60>"
      ]
     },
     "execution_count": 8,
     "metadata": {},
     "output_type": "execute_result"
    }
   ],
   "source": [
    "chatbot.reduce_messages_to_text(lambda x: (print(x), \"Replacing latest with all sorts of nothing\")[1]).display_internal_data()"
   ]
  },
  {
   "cell_type": "code",
   "execution_count": null,
   "metadata": {},
   "outputs": [
    {
     "data": {
      "text/plain": [
       "<aiflow.AIFlow at 0x18f96646e60>"
      ]
     },
     "execution_count": 9,
     "metadata": {},
     "output_type": "execute_result"
    }
   ],
   "source": [
    "chatbot.filter_messages(lambda items: [{**item, \"content\": \"You are an artist very good in poetry\"} if item.get(\"role\") == \"system\" else item for item in items])"
   ]
  },
  {
   "cell_type": "code",
   "execution_count": null,
   "metadata": {},
   "outputs": [
    {
     "name": "stdout",
     "output_type": "stream",
     "text": [
      "Chat Messages:\n",
      "[\n",
      "    {\n",
      "        \"role\": \"system\",\n",
      "        \"content\": \"You are an artist very good in poetry\"\n",
      "    },\n",
      "    {\n",
      "        \"role\": \"user\",\n",
      "        \"content\": \"How is the weather here?\"\n",
      "    },\n",
      "    {\n",
      "        \"role\": \"assistant\",\n",
      "        \"content\": \"I'm happy to give you a recipe instead. What kind of dish are you in the mood for today?\"\n",
      "    },\n",
      "    {\n",
      "        \"role\": \"user\",\n",
      "        \"content\": \"Ok. Give me a recipe inspired by weather\"\n",
      "    },\n",
      "    {\n",
      "        \"role\": \"assistant\",\n",
      "        \"content\": \"How about making a refreshing Watermelon Feta Salad that's perfect for hot weather? Here's a simple recipe for you:\\n\\nIngredients:\\n- 4 cups cubed watermelon\\n- 1 cup crumbled feta cheese\\n- 1/4 cup chopped fresh mint leaves\\n- 2 tablespoons balsamic glaze\\n- Salt and pepper to taste\\n\\nInstructions:\\n1. In a large bowl, combine the cubed watermelon and crumbled feta cheese.\\n2. Add the chopped fresh mint leaves and gently toss everything together.\\n3. Drizzle the balsamic glaze over the salad and season with salt and pepper to taste.\\n4. Give it a final toss to mix all the ingredients well.\\n5. Serve the Watermelon Feta Salad chilled and enjoy as a light and refreshing dish on a hot day!\\n\\nEnjoy your Watermelon Feta Salad inspired by the weather!\"\n",
      "    }\n",
      "]\n",
      "\n",
      "Context Map:\n",
      "{\n",
      "    \"latest_prompt\": \"Ok. Give me a recipe inspired by weather\",\n",
      "    \"_completion_tokens\": 203,\n",
      "    \"_prompt_tokens\": 109,\n",
      "    \"_total_tokens\": 312,\n",
      "    \"latest\": \"Replacing latest with all sorts of nothing\",\n",
      "    \"dish\": \"How about making a refreshing Watermelon Feta Salad that's perfect for hot weather? Here's a simple recipe for you:\\n\\nIngredients:\\n- 4 cups cubed watermelon\\n- 1 cup crumbled feta cheese\\n- 1/4 cup chopped fresh mint leaves\\n- 2 tablespoons balsamic glaze\\n- Salt and pepper to taste\\n\\nInstructions:\\n1. In a large bowl, combine the cubed watermelon and crumbled feta cheese.\\n2. Add the chopped fresh mint leaves and gently toss everything together.\\n3. Drizzle the balsamic glaze over the salad and season with salt and pepper to taste.\\n4. Give it a final toss to mix all the ingredients well.\\n5. Serve the Watermelon Feta Salad chilled and enjoy as a light and refreshing dish on a hot day!\\n\\nEnjoy your Watermelon Feta Salad inspired by the weather!\"\n",
      "}\n",
      "\n",
      "Images Map:\n",
      "{}\n",
      "\n",
      "Audio Map:\n",
      "{}\n"
     ]
    },
    {
     "data": {
      "text/plain": [
       "<aiflow.AIFlow at 0x18f96646e60>"
      ]
     },
     "execution_count": 10,
     "metadata": {},
     "output_type": "execute_result"
    }
   ],
   "source": [
    "chatbot.display_internal_data()"
   ]
  },
  {
   "cell_type": "markdown",
   "metadata": {},
   "source": [
    "## Just completions - no chat"
   ]
  },
  {
   "cell_type": "code",
   "execution_count": null,
   "metadata": {},
   "outputs": [
    {
     "name": "stdout",
     "output_type": "stream",
     "text": [
      "Give me 10 random names\n",
      "\n",
      "1. Stella\n",
      "2. Elijah\n",
      "3. Penelope\n",
      "4. Marcus\n",
      "5. Isabella\n",
      "6. Declan\n",
      "7. Harper\n",
      "8. Felix\n",
      "9. Jade\n",
      "10. Owen\n",
      "\n"
     ]
    },
    {
     "data": {
      "text/plain": [
       "<aiflow.AIFlow at 0x18f96646e60>"
      ]
     },
     "execution_count": 11,
     "metadata": {},
     "output_type": "execute_result"
    }
   ],
   "source": [
    "chatbot.generate_completion(\"Give me 10 random names\")"
   ]
  },
  {
   "cell_type": "code",
   "execution_count": null,
   "metadata": {},
   "outputs": [
    {
     "name": "stdout",
     "output_type": "stream",
     "text": [
      "Chat Messages:\n",
      "[\n",
      "    {\n",
      "        \"role\": \"system\",\n",
      "        \"content\": \"You are an artist very good in poetry\"\n",
      "    },\n",
      "    {\n",
      "        \"role\": \"user\",\n",
      "        \"content\": \"How is the weather here?\"\n",
      "    },\n",
      "    {\n",
      "        \"role\": \"assistant\",\n",
      "        \"content\": \"I'm happy to give you a recipe instead. What kind of dish are you in the mood for today?\"\n",
      "    },\n",
      "    {\n",
      "        \"role\": \"user\",\n",
      "        \"content\": \"Ok. Give me a recipe inspired by weather\"\n",
      "    },\n",
      "    {\n",
      "        \"role\": \"assistant\",\n",
      "        \"content\": \"How about making a refreshing Watermelon Feta Salad that's perfect for hot weather? Here's a simple recipe for you:\\n\\nIngredients:\\n- 4 cups cubed watermelon\\n- 1 cup crumbled feta cheese\\n- 1/4 cup chopped fresh mint leaves\\n- 2 tablespoons balsamic glaze\\n- Salt and pepper to taste\\n\\nInstructions:\\n1. In a large bowl, combine the cubed watermelon and crumbled feta cheese.\\n2. Add the chopped fresh mint leaves and gently toss everything together.\\n3. Drizzle the balsamic glaze over the salad and season with salt and pepper to taste.\\n4. Give it a final toss to mix all the ingredients well.\\n5. Serve the Watermelon Feta Salad chilled and enjoy as a light and refreshing dish on a hot day!\\n\\nEnjoy your Watermelon Feta Salad inspired by the weather!\"\n",
      "    }\n",
      "]\n",
      "\n",
      "Context Map:\n",
      "{\n",
      "    \"latest_prompt\": \"Give me 10 random names\",\n",
      "    \"_completion_tokens\": 245,\n",
      "    \"_prompt_tokens\": 122,\n",
      "    \"_total_tokens\": 367,\n",
      "    \"latest\": \"1. Stella\\n2. Elijah\\n3. Penelope\\n4. Marcus\\n5. Isabella\\n6. Declan\\n7. Harper\\n8. Felix\\n9. Jade\\n10. Owen\",\n",
      "    \"dish\": \"How about making a refreshing Watermelon Feta Salad that's perfect for hot weather? Here's a simple recipe for you:\\n\\nIngredients:\\n- 4 cups cubed watermelon\\n- 1 cup crumbled feta cheese\\n- 1/4 cup chopped fresh mint leaves\\n- 2 tablespoons balsamic glaze\\n- Salt and pepper to taste\\n\\nInstructions:\\n1. In a large bowl, combine the cubed watermelon and crumbled feta cheese.\\n2. Add the chopped fresh mint leaves and gently toss everything together.\\n3. Drizzle the balsamic glaze over the salad and season with salt and pepper to taste.\\n4. Give it a final toss to mix all the ingredients well.\\n5. Serve the Watermelon Feta Salad chilled and enjoy as a light and refreshing dish on a hot day!\\n\\nEnjoy your Watermelon Feta Salad inspired by the weather!\"\n",
      "}\n",
      "\n",
      "Images Map:\n",
      "{}\n",
      "\n",
      "Audio Map:\n",
      "{}\n"
     ]
    },
    {
     "data": {
      "text/plain": [
       "<aiflow.AIFlow at 0x18f96646e60>"
      ]
     },
     "execution_count": 12,
     "metadata": {},
     "output_type": "execute_result"
    }
   ],
   "source": [
    "chatbot.display_internal_data()"
   ]
  },
  {
   "cell_type": "code",
   "execution_count": null,
   "metadata": {},
   "outputs": [
    {
     "name": "stdout",
     "output_type": "stream",
     "text": [
      "Give the following names in reverse order: [latest].\n",
      "\n",
      "10. Owen\n",
      "9. Jade\n",
      "8. Felix\n",
      "7. Harper\n",
      "6. Declan\n",
      "5. Isabella\n",
      "4. Marcus\n",
      "3. Penelope\n",
      "2. Elijah\n",
      "1. Stella\n",
      "\n"
     ]
    },
    {
     "data": {
      "text/plain": [
       "<aiflow.AIFlow at 0x18f96646e60>"
      ]
     },
     "execution_count": 13,
     "metadata": {},
     "output_type": "execute_result"
    }
   ],
   "source": [
    "chatbot.generate_completion(\"Give the following names in reverse order: [latest].\")"
   ]
  },
  {
   "cell_type": "markdown",
   "metadata": {},
   "source": [
    "## Saving and loading state\n",
    "To avoid having the rerun all queries when you restart the kernel etc.."
   ]
  },
  {
   "cell_type": "code",
   "execution_count": null,
   "metadata": {},
   "outputs": [
    {
     "data": {
      "text/plain": [
       "<aiflow.AIFlow at 0x18f96646e60>"
      ]
     },
     "execution_count": 14,
     "metadata": {},
     "output_type": "execute_result"
    }
   ],
   "source": [
    "chatbot.save_internal_state(filename=\"mystate.json\")"
   ]
  },
  {
   "cell_type": "code",
   "execution_count": null,
   "metadata": {},
   "outputs": [
    {
     "name": "stdout",
     "output_type": "stream",
     "text": [
      "Chat Messages:\n",
      "[\n",
      "    {\n",
      "        \"role\": \"system\",\n",
      "        \"content\": \"You are an artist very good in poetry\"\n",
      "    },\n",
      "    {\n",
      "        \"role\": \"user\",\n",
      "        \"content\": \"How is the weather here?\"\n",
      "    },\n",
      "    {\n",
      "        \"role\": \"assistant\",\n",
      "        \"content\": \"I'm happy to give you a recipe instead. What kind of dish are you in the mood for today?\"\n",
      "    },\n",
      "    {\n",
      "        \"role\": \"user\",\n",
      "        \"content\": \"Ok. Give me a recipe inspired by weather\"\n",
      "    },\n",
      "    {\n",
      "        \"role\": \"assistant\",\n",
      "        \"content\": \"How about making a refreshing Watermelon Feta Salad that's perfect for hot weather? Here's a simple recipe for you:\\n\\nIngredients:\\n- 4 cups cubed watermelon\\n- 1 cup crumbled feta cheese\\n- 1/4 cup chopped fresh mint leaves\\n- 2 tablespoons balsamic glaze\\n- Salt and pepper to taste\\n\\nInstructions:\\n1. In a large bowl, combine the cubed watermelon and crumbled feta cheese.\\n2. Add the chopped fresh mint leaves and gently toss everything together.\\n3. Drizzle the balsamic glaze over the salad and season with salt and pepper to taste.\\n4. Give it a final toss to mix all the ingredients well.\\n5. Serve the Watermelon Feta Salad chilled and enjoy as a light and refreshing dish on a hot day!\\n\\nEnjoy your Watermelon Feta Salad inspired by the weather!\"\n",
      "    }\n",
      "]\n",
      "\n",
      "Context Map:\n",
      "{\n",
      "    \"latest_prompt\": \"Give the following names in reverse order: 1. Stella\\n2. Elijah\\n3. Penelope\\n4. Marcus\\n5. Isabella\\n6. Declan\\n7. Harper\\n8. Felix\\n9. Jade\\n10. Owen.\",\n",
      "    \"_completion_tokens\": 287,\n",
      "    \"_prompt_tokens\": 181,\n",
      "    \"_total_tokens\": 468,\n",
      "    \"latest\": \"10. Owen\\n9. Jade\\n8. Felix\\n7. Harper\\n6. Declan\\n5. Isabella\\n4. Marcus\\n3. Penelope\\n2. Elijah\\n1. Stella\",\n",
      "    \"dish\": \"How about making a refreshing Watermelon Feta Salad that's perfect for hot weather? Here's a simple recipe for you:\\n\\nIngredients:\\n- 4 cups cubed watermelon\\n- 1 cup crumbled feta cheese\\n- 1/4 cup chopped fresh mint leaves\\n- 2 tablespoons balsamic glaze\\n- Salt and pepper to taste\\n\\nInstructions:\\n1. In a large bowl, combine the cubed watermelon and crumbled feta cheese.\\n2. Add the chopped fresh mint leaves and gently toss everything together.\\n3. Drizzle the balsamic glaze over the salad and season with salt and pepper to taste.\\n4. Give it a final toss to mix all the ingredients well.\\n5. Serve the Watermelon Feta Salad chilled and enjoy as a light and refreshing dish on a hot day!\\n\\nEnjoy your Watermelon Feta Salad inspired by the weather!\"\n",
      "}\n",
      "\n",
      "Images Map:\n",
      "{}\n",
      "\n",
      "Audio Map:\n",
      "{}\n"
     ]
    },
    {
     "data": {
      "text/plain": [
       "<aiflow.AIFlow at 0x18f96646e60>"
      ]
     },
     "execution_count": 15,
     "metadata": {},
     "output_type": "execute_result"
    }
   ],
   "source": [
    "chatbot.load_internal_state(filename=\"mystate.json\").display_internal_data()"
   ]
  },
  {
   "cell_type": "markdown",
   "metadata": {},
   "source": [
    "## Some context manipulations"
   ]
  },
  {
   "cell_type": "code",
   "execution_count": null,
   "metadata": {},
   "outputs": [
    {
     "name": "stdout",
     "output_type": "stream",
     "text": [
      "Chat Messages:\n",
      "[\n",
      "    {\n",
      "        \"role\": \"system\",\n",
      "        \"content\": \"You are an artist very good in poetry\"\n",
      "    },\n",
      "    {\n",
      "        \"role\": \"user\",\n",
      "        \"content\": \"How is the weather here?\"\n",
      "    },\n",
      "    {\n",
      "        \"role\": \"assistant\",\n",
      "        \"content\": \"I'm happy to give you a recipe instead. What kind of dish are you in the mood for today?\"\n",
      "    },\n",
      "    {\n",
      "        \"role\": \"user\",\n",
      "        \"content\": \"Ok. Give me a recipe inspired by weather\"\n",
      "    },\n",
      "    {\n",
      "        \"role\": \"assistant\",\n",
      "        \"content\": \"How about making a refreshing Watermelon Feta Salad that's perfect for hot weather? Here's a simple recipe for you:\\n\\nIngredients:\\n- 4 cups cubed watermelon\\n- 1 cup crumbled feta cheese\\n- 1/4 cup chopped fresh mint leaves\\n- 2 tablespoons balsamic glaze\\n- Salt and pepper to taste\\n\\nInstructions:\\n1. In a large bowl, combine the cubed watermelon and crumbled feta cheese.\\n2. Add the chopped fresh mint leaves and gently toss everything together.\\n3. Drizzle the balsamic glaze over the salad and season with salt and pepper to taste.\\n4. Give it a final toss to mix all the ingredients well.\\n5. Serve the Watermelon Feta Salad chilled and enjoy as a light and refreshing dish on a hot day!\\n\\nEnjoy your Watermelon Feta Salad inspired by the weather!\"\n",
      "    }\n",
      "]\n",
      "\n",
      "Context Map:\n",
      "{\n",
      "    \"latest_prompt\": \"Give the following names in reverse order: 1. Stella\\n2. Elijah\\n3. Penelope\\n4. Marcus\\n5. Isabella\\n6. Declan\\n7. Harper\\n8. Felix\\n9. Jade\\n10. Owen.\",\n",
      "    \"_completion_tokens\": 287,\n",
      "    \"_prompt_tokens\": 181,\n",
      "    \"_total_tokens\": 468,\n",
      "    \"latest\": \"10. Owen\\n9. Jade\\n8. Felix\\n7. Harper\\n6. Declan\\n5. Isabella\\n4. Marcus\\n3. Penelope\\n2. Elijah\\n1. Stella\",\n",
      "    \"dish\": \"How about making a refreshing Watermelon Feta Salad that's perfect for hot weather? Here's a simple recipe for you:\\n\\nIngredients:\\n- 4 cups cubed watermelon\\n- 1 cup crumbled feta cheese\\n- 1/4 cup chopped fresh mint leaves\\n- 2 tablespoons balsamic glaze\\n- Salt and pepper to taste\\n\\nInstructions:\\n1. In a large bowl, combine the cubed watermelon and crumbled feta cheese.\\n2. Add the chopped fresh mint leaves and gently toss everything together.\\n3. Drizzle the balsamic glaze over the salad and season with salt and pepper to taste.\\n4. Give it a final toss to mix all the ingredients well.\\n5. Serve the Watermelon Feta Salad chilled and enjoy as a light and refreshing dish on a hot day!\\n\\nEnjoy your Watermelon Feta Salad inspired by the weather!\"\n",
      "}\n",
      "\n",
      "Images Map:\n",
      "{}\n",
      "\n",
      "Audio Map:\n",
      "{}\n"
     ]
    },
    {
     "data": {
      "text/plain": [
       "<aiflow.AIFlow at 0x18f96646e60>"
      ]
     },
     "execution_count": 16,
     "metadata": {},
     "output_type": "execute_result"
    }
   ],
   "source": [
    "chatbot.display_internal_data()"
   ]
  },
  {
   "cell_type": "code",
   "execution_count": null,
   "metadata": {},
   "outputs": [
    {
     "name": "stdout",
     "output_type": "stream",
     "text": [
      "Chat Messages:\n",
      "[\n",
      "    {\n",
      "        \"role\": \"system\",\n",
      "        \"content\": \"You are an artist very good in poetry\"\n",
      "    },\n",
      "    {\n",
      "        \"role\": \"user\",\n",
      "        \"content\": \"How is the weather here?\"\n",
      "    },\n",
      "    {\n",
      "        \"role\": \"assistant\",\n",
      "        \"content\": \"I'm happy to give you a recipe instead. What kind of dish are you in the mood for today?\"\n",
      "    },\n",
      "    {\n",
      "        \"role\": \"user\",\n",
      "        \"content\": \"Ok. Give me a recipe inspired by weather\"\n",
      "    },\n",
      "    {\n",
      "        \"role\": \"assistant\",\n",
      "        \"content\": \"How about making a refreshing Watermelon Feta Salad that's perfect for hot weather? Here's a simple recipe for you:\\n\\nIngredients:\\n- 4 cups cubed watermelon\\n- 1 cup crumbled feta cheese\\n- 1/4 cup chopped fresh mint leaves\\n- 2 tablespoons balsamic glaze\\n- Salt and pepper to taste\\n\\nInstructions:\\n1. In a large bowl, combine the cubed watermelon and crumbled feta cheese.\\n2. Add the chopped fresh mint leaves and gently toss everything together.\\n3. Drizzle the balsamic glaze over the salad and season with salt and pepper to taste.\\n4. Give it a final toss to mix all the ingredients well.\\n5. Serve the Watermelon Feta Salad chilled and enjoy as a light and refreshing dish on a hot day!\\n\\nEnjoy your Watermelon Feta Salad inspired by the weather!\"\n",
      "    }\n",
      "]\n",
      "\n",
      "Context Map:\n",
      "{\n",
      "    \"latest_prompt\": \"Give the following names in reverse order: 1. Stella\\n2. Elijah\\n3. Penelope\\n4. Marcus\\n5. Isabella\\n6. Declan\\n7. Harper\\n8. Felix\\n9. Jade\\n10. Owen.\",\n",
      "    \"_completion_tokens\": 287,\n",
      "    \"_prompt_tokens\": 181,\n",
      "    \"_total_tokens\": 468,\n",
      "    \"latest\": \"10. Owen\\n9. Jade\\n8. Felix\\n7. Harper\\n6. Declan\\n5. Isabella\\n4. Marcus\\n3. Penelope\\n2. Elijah\\n1. Stella\",\n",
      "    \"dish\": \"How about making a refreshing Watermelon Feta Salad that's perfect for hot weather? Here's a simple recipe for you:\\n\\nIngredients:\\n- 4 cups cubed watermelon\\n- 1 cup crumbled feta cheese\\n- 1/4 cup chopped fresh mint leaves\\n- 2 tablespoons balsamic glaze\\n- Salt and pepper to taste\\n\\nInstructions:\\n1. In a large bowl, combine the cubed watermelon and crumbled feta cheese.\\n2. Add the chopped fresh mint leaves and gently toss everything together.\\n3. Drizzle the balsamic glaze over the salad and season with salt and pepper to taste.\\n4. Give it a final toss to mix all the ingredients well.\\n5. Serve the Watermelon Feta Salad chilled and enjoy as a light and refreshing dish on a hot day!\\n\\nEnjoy your Watermelon Feta Salad inspired by the weather!\",\n",
      "    \"stuff\": \"Nothing\"\n",
      "}\n",
      "\n",
      "Images Map:\n",
      "{}\n",
      "\n",
      "Audio Map:\n",
      "{}\n",
      "Chat Messages:\n",
      "[\n",
      "    {\n",
      "        \"role\": \"system\",\n",
      "        \"content\": \"You are an artist very good in poetry\"\n",
      "    },\n",
      "    {\n",
      "        \"role\": \"user\",\n",
      "        \"content\": \"How is the weather here?\"\n",
      "    },\n",
      "    {\n",
      "        \"role\": \"assistant\",\n",
      "        \"content\": \"I'm happy to give you a recipe instead. What kind of dish are you in the mood for today?\"\n",
      "    },\n",
      "    {\n",
      "        \"role\": \"user\",\n",
      "        \"content\": \"Ok. Give me a recipe inspired by weather\"\n",
      "    },\n",
      "    {\n",
      "        \"role\": \"assistant\",\n",
      "        \"content\": \"How about making a refreshing Watermelon Feta Salad that's perfect for hot weather? Here's a simple recipe for you:\\n\\nIngredients:\\n- 4 cups cubed watermelon\\n- 1 cup crumbled feta cheese\\n- 1/4 cup chopped fresh mint leaves\\n- 2 tablespoons balsamic glaze\\n- Salt and pepper to taste\\n\\nInstructions:\\n1. In a large bowl, combine the cubed watermelon and crumbled feta cheese.\\n2. Add the chopped fresh mint leaves and gently toss everything together.\\n3. Drizzle the balsamic glaze over the salad and season with salt and pepper to taste.\\n4. Give it a final toss to mix all the ingredients well.\\n5. Serve the Watermelon Feta Salad chilled and enjoy as a light and refreshing dish on a hot day!\\n\\nEnjoy your Watermelon Feta Salad inspired by the weather!\"\n",
      "    }\n",
      "]\n",
      "\n",
      "Context Map:\n",
      "{\n",
      "    \"latest_prompt\": \"Give the following names in reverse order: 1. Stella\\n2. Elijah\\n3. Penelope\\n4. Marcus\\n5. Isabella\\n6. Declan\\n7. Harper\\n8. Felix\\n9. Jade\\n10. Owen.\",\n",
      "    \"_completion_tokens\": 287,\n",
      "    \"_prompt_tokens\": 181,\n",
      "    \"_total_tokens\": 468,\n",
      "    \"latest\": \"10. Owen\\n9. Jade\\n8. Felix\\n7. Harper\\n6. Declan\\n5. Isabella\\n4. Marcus\\n3. Penelope\\n2. Elijah\\n1. Stella\",\n",
      "    \"dish\": \"How about making a refreshing Watermelon Feta Salad that's perfect for hot weather? Here's a simple recipe for you:\\n\\nIngredients:\\n- 4 cups cubed watermelon\\n- 1 cup crumbled feta cheese\\n- 1/4 cup chopped fresh mint leaves\\n- 2 tablespoons balsamic glaze\\n- Salt and pepper to taste\\n\\nInstructions:\\n1. In a large bowl, combine the cubed watermelon and crumbled feta cheese.\\n2. Add the chopped fresh mint leaves and gently toss everything together.\\n3. Drizzle the balsamic glaze over the salad and season with salt and pepper to taste.\\n4. Give it a final toss to mix all the ingredients well.\\n5. Serve the Watermelon Feta Salad chilled and enjoy as a light and refreshing dish on a hot day!\\n\\nEnjoy your Watermelon Feta Salad inspired by the weather!\"\n",
      "}\n",
      "\n",
      "Images Map:\n",
      "{}\n",
      "\n",
      "Audio Map:\n",
      "{}\n"
     ]
    },
    {
     "data": {
      "text/plain": [
       "<aiflow.AIFlow at 0x18f96646e60>"
      ]
     },
     "execution_count": 17,
     "metadata": {},
     "output_type": "execute_result"
    }
   ],
   "source": [
    "chatbot.set_context_of(content=\"Nothing\", label=\"stuff\").display_internal_data().delete_context(label=\"stuff\").display_internal_data()"
   ]
  },
  {
   "cell_type": "markdown",
   "metadata": {},
   "source": [
    "## Dumping content to files"
   ]
  },
  {
   "cell_type": "code",
   "execution_count": null,
   "metadata": {},
   "outputs": [
    {
     "data": {
      "text/plain": [
       "<aiflow.AIFlow at 0x18f96646e60>"
      ]
     },
     "execution_count": 18,
     "metadata": {},
     "output_type": "execute_result"
    }
   ],
   "source": [
    "chatbot.dump_context_to_files().dump_context_to_markdown()"
   ]
  },
  {
   "cell_type": "code",
   "execution_count": null,
   "metadata": {},
   "outputs": [
    {
     "data": {
      "text/plain": [
       "<aiflow.AIFlow at 0x18f96646e60>"
      ]
     },
     "execution_count": 19,
     "metadata": {},
     "output_type": "execute_result"
    }
   ],
   "source": [
    "chatbot.generate_heading_for_context(label=\"dish\")\n"
   ]
  },
  {
   "cell_type": "code",
   "execution_count": null,
   "metadata": {},
   "outputs": [
    {
     "data": {
      "text/plain": [
       "<aiflow.AIFlow at 0x18f96646e60>"
      ]
     },
     "execution_count": 20,
     "metadata": {},
     "output_type": "execute_result"
    }
   ],
   "source": [
    "chatbot.save_context_to_docx(output_filename=\"output.docx\")"
   ]
  },
  {
   "cell_type": "code",
   "execution_count": null,
   "metadata": {},
   "outputs": [
    {
     "name": "stdout",
     "output_type": "stream",
     "text": [
      "Chat Messages:\n",
      "[\n",
      "    {\n",
      "        \"role\": \"system\",\n",
      "        \"content\": \"You are an artist very good in poetry\"\n",
      "    },\n",
      "    {\n",
      "        \"role\": \"user\",\n",
      "        \"content\": \"How is the weather here?\"\n",
      "    },\n",
      "    {\n",
      "        \"role\": \"assistant\",\n",
      "        \"content\": \"I'm happy to give you a recipe instead. What kind of dish are you in the mood for today?\"\n",
      "    },\n",
      "    {\n",
      "        \"role\": \"user\",\n",
      "        \"content\": \"Ok. Give me a recipe inspired by weather\"\n",
      "    },\n",
      "    {\n",
      "        \"role\": \"assistant\",\n",
      "        \"content\": \"How about making a refreshing Watermelon Feta Salad that's perfect for hot weather? Here's a simple recipe for you:\\n\\nIngredients:\\n- 4 cups cubed watermelon\\n- 1 cup crumbled feta cheese\\n- 1/4 cup chopped fresh mint leaves\\n- 2 tablespoons balsamic glaze\\n- Salt and pepper to taste\\n\\nInstructions:\\n1. In a large bowl, combine the cubed watermelon and crumbled feta cheese.\\n2. Add the chopped fresh mint leaves and gently toss everything together.\\n3. Drizzle the balsamic glaze over the salad and season with salt and pepper to taste.\\n4. Give it a final toss to mix all the ingredients well.\\n5. Serve the Watermelon Feta Salad chilled and enjoy as a light and refreshing dish on a hot day!\\n\\nEnjoy your Watermelon Feta Salad inspired by the weather!\"\n",
      "    }\n",
      "]\n",
      "\n",
      "Context Map:\n",
      "{\n",
      "    \"latest_prompt\": \"Give the following names in reverse order: 1. Stella\\n2. Elijah\\n3. Penelope\\n4. Marcus\\n5. Isabella\\n6. Declan\\n7. Harper\\n8. Felix\\n9. Jade\\n10. Owen.\",\n",
      "    \"_completion_tokens\": 306,\n",
      "    \"_prompt_tokens\": 381,\n",
      "    \"_total_tokens\": 687,\n",
      "    \"latest\": \"10. Owen\\n9. Jade\\n8. Felix\\n7. Harper\\n6. Declan\\n5. Isabella\\n4. Marcus\\n3. Penelope\\n2. Elijah\\n1. Stella\",\n",
      "    \"dish\": \"How about making a refreshing Watermelon Feta Salad that's perfect for hot weather? Here's a simple recipe for you:\\n\\nIngredients:\\n- 4 cups cubed watermelon\\n- 1 cup crumbled feta cheese\\n- 1/4 cup chopped fresh mint leaves\\n- 2 tablespoons balsamic glaze\\n- Salt and pepper to taste\\n\\nInstructions:\\n1. In a large bowl, combine the cubed watermelon and crumbled feta cheese.\\n2. Add the chopped fresh mint leaves and gently toss everything together.\\n3. Drizzle the balsamic glaze over the salad and season with salt and pepper to taste.\\n4. Give it a final toss to mix all the ingredients well.\\n5. Serve the Watermelon Feta Salad chilled and enjoy as a light and refreshing dish on a hot day!\\n\\nEnjoy your Watermelon Feta Salad inspired by the weather!\",\n",
      "    \"dish_heading\": \"Watermelon Feta Salad with mint, balsamic glaze; perfect for hot days.\"\n",
      "}\n",
      "\n",
      "Images Map:\n",
      "{}\n",
      "\n",
      "Audio Map:\n",
      "{}\n"
     ]
    },
    {
     "data": {
      "text/plain": [
       "<aiflow.AIFlow at 0x18f96646e60>"
      ]
     },
     "execution_count": 21,
     "metadata": {},
     "output_type": "execute_result"
    }
   ],
   "source": [
    "chatbot.display_internal_data()"
   ]
  },
  {
   "cell_type": "code",
   "execution_count": null,
   "metadata": {},
   "outputs": [
    {
     "data": {
      "text/plain": [
       "{'completion_tokens': 306, 'prompt_tokens': 381, 'total_tokens': 687}"
      ]
     },
     "execution_count": 22,
     "metadata": {},
     "output_type": "execute_result"
    }
   ],
   "source": [
    "chatbot.get_token_usage()"
   ]
  },
  {
   "cell_type": "markdown",
   "metadata": {},
   "source": [
    "## Data loading"
   ]
  },
  {
   "cell_type": "code",
   "execution_count": null,
   "metadata": {},
   "outputs": [
    {
     "name": "stdout",
     "output_type": "stream",
     "text": [
      "Chat Messages:\n",
      "[\n",
      "    {\n",
      "        \"role\": \"system\",\n",
      "        \"content\": \"You are an artist very good in poetry\"\n",
      "    },\n",
      "    {\n",
      "        \"role\": \"user\",\n",
      "        \"content\": \"How is the weather here?\"\n",
      "    },\n",
      "    {\n",
      "        \"role\": \"assistant\",\n",
      "        \"content\": \"I'm happy to give you a recipe instead. What kind of dish are you in the mood for today?\"\n",
      "    },\n",
      "    {\n",
      "        \"role\": \"user\",\n",
      "        \"content\": \"Ok. Give me a recipe inspired by weather\"\n",
      "    },\n",
      "    {\n",
      "        \"role\": \"assistant\",\n",
      "        \"content\": \"How about making a refreshing Watermelon Feta Salad that's perfect for hot weather? Here's a simple recipe for you:\\n\\nIngredients:\\n- 4 cups cubed watermelon\\n- 1 cup crumbled feta cheese\\n- 1/4 cup chopped fresh mint leaves\\n- 2 tablespoons balsamic glaze\\n- Salt and pepper to taste\\n\\nInstructions:\\n1. In a large bowl, combine the cubed watermelon and crumbled feta cheese.\\n2. Add the chopped fresh mint leaves and gently toss everything together.\\n3. Drizzle the balsamic glaze over the salad and season with salt and pepper to taste.\\n4. Give it a final toss to mix all the ingredients well.\\n5. Serve the Watermelon Feta Salad chilled and enjoy as a light and refreshing dish on a hot day!\\n\\nEnjoy your Watermelon Feta Salad inspired by the weather!\"\n",
      "    }\n",
      "]\n",
      "\n",
      "Context Map:\n",
      "{\n",
      "    \"latest_prompt\": \"Give the following names in reverse order: 1. Stella\\n2. Elijah\\n3. Penelope\\n4. Marcus\\n5. Isabella\\n6. Declan\\n7. Harper\\n8. Felix\\n9. Jade\\n10. Owen.\",\n",
      "    \"_completion_tokens\": 306,\n",
      "    \"_prompt_tokens\": 381,\n",
      "    \"_total_tokens\": 687,\n",
      "    \"latest\": \"10. Owen\\n9. Jade\\n8. Felix\\n7. Harper\\n6. Declan\\n5. Isabella\\n4. Marcus\\n3. Penelope\\n2. Elijah\\n1. Stella\",\n",
      "    \"dish\": \"How about making a refreshing Watermelon Feta Salad that's perfect for hot weather? Here's a simple recipe for you:\\n\\nIngredients:\\n- 4 cups cubed watermelon\\n- 1 cup crumbled feta cheese\\n- 1/4 cup chopped fresh mint leaves\\n- 2 tablespoons balsamic glaze\\n- Salt and pepper to taste\\n\\nInstructions:\\n1. In a large bowl, combine the cubed watermelon and crumbled feta cheese.\\n2. Add the chopped fresh mint leaves and gently toss everything together.\\n3. Drizzle the balsamic glaze over the salad and season with salt and pepper to taste.\\n4. Give it a final toss to mix all the ingredients well.\\n5. Serve the Watermelon Feta Salad chilled and enjoy as a light and refreshing dish on a hot day!\\n\\nEnjoy your Watermelon Feta Salad inspired by the weather!\",\n",
      "    \"dish_heading\": \"Watermelon Feta Salad with mint, balsamic glaze; perfect for hot days.\",\n",
      "    \"latest_file\": \"You are a helpful assistant helping make a mail.  You will answer my questions a body of knowledge I provide.\\n\\nMy question is:\\n{question}\\n\\nKnowledge:\\n{knowledge}\\n\\nAnswer:\\n\\n\\n\\n\\n\"\n",
      "}\n",
      "\n",
      "Images Map:\n",
      "{}\n",
      "\n",
      "Audio Map:\n",
      "{}\n"
     ]
    },
    {
     "data": {
      "text/plain": [
       "<aiflow.AIFlow at 0x18f96646e60>"
      ]
     },
     "execution_count": 23,
     "metadata": {},
     "output_type": "execute_result"
    }
   ],
   "source": [
    "chatbot.load_to_context(filename=\"output.txt\").display_internal_data()"
   ]
  },
  {
   "cell_type": "markdown",
   "metadata": {},
   "source": [
    "# Combining AIFlows"
   ]
  },
  {
   "cell_type": "code",
   "execution_count": null,
   "metadata": {},
   "outputs": [
    {
     "name": "stdout",
     "output_type": "stream",
     "text": [
      "Let's say you are a random person hungry for food. What would you like to eat?\n",
      "\n",
      "As a language model AI, I do not have the ability to eat or cravings like a regular person. But I can certainly help suggest some popular food options, such as pizza, pasta, burgers, sushi, tacos, or a sandwich. Let me know if you would like more suggestions!\n",
      "\n"
     ]
    },
    {
     "data": {
      "text/plain": [
       "<aiflow.AIFlow at 0x18f98a025c0>"
      ]
     },
     "execution_count": 24,
     "metadata": {},
     "output_type": "execute_result"
    }
   ],
   "source": [
    "otherbot=AIFlow(api_key=API_KEY,model=Model.GPT_4O_MINI,max_tokens=3000, temperature=1)\n",
    "otherbot.generate_completion(\"Let's say you are a random person hungry for food. What would you like to eat?\")"
   ]
  },
  {
   "cell_type": "code",
   "execution_count": null,
   "metadata": {},
   "outputs": [
    {
     "data": {
      "text/plain": [
       "'As a language model AI, I do not have the ability to eat or cravings like a regular person. But I can certainly help suggest some popular food options, such as pizza, pasta, burgers, sushi, tacos, or a sandwich. Let me know if you would like more suggestions!'"
      ]
     },
     "execution_count": 25,
     "metadata": {},
     "output_type": "execute_result"
    }
   ],
   "source": [
    "otherbot.display_latest_context_as_markdown()"
   ]
  },
  {
   "cell_type": "code",
   "execution_count": null,
   "metadata": {},
   "outputs": [
    {
     "ename": "NameError",
     "evalue": "name 'otherbot' is not defined",
     "output_type": "error",
     "traceback": [
      "\u001b[1;31m---------------------------------------------------------------------------\u001b[0m",
      "\u001b[1;31mNameError\u001b[0m                                 Traceback (most recent call last)",
      "\u001b[1;32mc:\\Data\\src\\chatting\\aiflow_demo.ipynb Cell 39\u001b[0m line \u001b[0;36m2\n\u001b[0;32m      <a href='vscode-notebook-cell:/c%3A/Data/src/chatting/aiflow_demo.ipynb#X52sZmlsZQ%3D%3D?line=0'>1</a>\u001b[0m sillybot\u001b[39m=\u001b[39mAIFlow(api_key\u001b[39m=\u001b[39mAPI_KEY,model\u001b[39m=\u001b[39m\u001b[39m\"\u001b[39m\u001b[39mgpt-3.5-turbo\u001b[39m\u001b[39m\"\u001b[39m,max_tokens\u001b[39m=\u001b[39m\u001b[39m3000\u001b[39m, temperature\u001b[39m=\u001b[39m\u001b[39m1\u001b[39m)\n\u001b[1;32m----> <a href='vscode-notebook-cell:/c%3A/Data/src/chatting/aiflow_demo.ipynb#X52sZmlsZQ%3D%3D?line=1'>2</a>\u001b[0m sillybot\u001b[39m.\u001b[39mset_context_of(content\u001b[39m=\u001b[39motherbot\u001b[39m.\u001b[39mreturn_latest_to_text(), label\u001b[39m=\u001b[39m\u001b[39m\"\u001b[39m\u001b[39mfood_choice\u001b[39m\u001b[39m\"\u001b[39m)\u001b[39m.\u001b[39mshow_self_data()\n\u001b[0;32m      <a href='vscode-notebook-cell:/c%3A/Data/src/chatting/aiflow_demo.ipynb#X52sZmlsZQ%3D%3D?line=2'>3</a>\u001b[0m sillybot\u001b[39m.\u001b[39mcompletion(prompt\u001b[39m=\u001b[39m\u001b[39m\"\u001b[39m\u001b[39mGive a silly comment on the following choice of food: [food_choice]\u001b[39m\u001b[39m\"\u001b[39m)\u001b[39m.\u001b[39mshow_self_data()\n",
      "\u001b[1;31mNameError\u001b[0m: name 'otherbot' is not defined"
     ]
    }
   ],
   "source": [
    "sillybot=AIFlow(api_key=API_KEY,model=\"gpt-3.5-turbo\",max_tokens=3000, temperature=1)\n",
    "sillybot.set_context_of(content=otherbot.return_latest_to_text(), label=\"food_choice\").display_internal_data()\n",
    "sillybot.generate_completion(prompt=\"Give a silly comment on the following choice of food: [food_choice]\").display_internal_data()"
   ]
  },
  {
   "cell_type": "markdown",
   "metadata": {},
   "source": [
    "# JSON stuff\n",
    "\n",
    "https://platform.openai.com/docs/guides/structured-outputs/json-mode?lang=python"
   ]
  },
  {
   "cell_type": "code",
   "execution_count": null,
   "metadata": {},
   "outputs": [
    {
     "name": "stdout",
     "output_type": "stream",
     "text": [
      "Extract the event information:Alice,Tom and Bob are going to a science fair on Friday.\n",
      "\n"
     ]
    },
    {
     "name": "stderr",
     "output_type": "stream",
     "text": [
      "2024-08-19 11:29:36,153 - INFO - HTTP Request: POST https://api.openai.com/v1/chat/completions \"HTTP/1.1 200 OK\"\n"
     ]
    },
    {
     "name": "stdout",
     "output_type": "stream",
     "text": [
      "ParsedChatCompletionMessage[CalendarEvent](content='{\"name\":\"Science Fair\",\"date\":\"Friday\",\"participants\":[\"Alice\",\"Tom\",\"Bob\"]}', refusal=None, role='assistant', function_call=None, tool_calls=[], parsed=CalendarEvent(name='Science Fair', date='Friday', participants=['Alice', 'Tom', 'Bob']))\n",
      "name='Science Fair' date='Friday' participants=['Alice', 'Tom', 'Bob']\n",
      "\n",
      "{\"name\":\"Science Fair\",\"date\":\"Friday\",\"participants\":[\"Alice\",\"Tom\",\"Bob\"]}\n"
     ]
    },
    {
     "data": {
      "text/plain": [
       "<aiflow.AIFlow at 0x20e3d7cfac0>"
      ]
     },
     "execution_count": 7,
     "metadata": {},
     "output_type": "execute_result"
    }
   ],
   "source": [
    "class CalendarEvent(BaseModel):\n",
    "    name: str\n",
    "    date: str\n",
    "    participants: list[str]\n",
    "\n",
    "flow1.generate_json_completion(\n",
    "    prompt=\"Extract the event information:Alice,Tom and Bob are going to a science fair on Friday.\",\n",
    "    schema=CalendarEvent,\n",
    ").show_context_of(label=\"latest\")"
   ]
  },
  {
   "cell_type": "markdown",
   "metadata": {},
   "source": [
    "And show how it hallucinates"
   ]
  },
  {
   "cell_type": "code",
   "execution_count": null,
   "metadata": {},
   "outputs": [
    {
     "name": "stdout",
     "output_type": "stream",
     "text": [
      "Extract the event information:Generate a refusal.\n",
      "\n"
     ]
    },
    {
     "name": "stderr",
     "output_type": "stream",
     "text": [
      "2024-08-19 11:29:44,309 - INFO - HTTP Request: POST https://api.openai.com/v1/chat/completions \"HTTP/1.1 200 OK\"\n"
     ]
    },
    {
     "name": "stdout",
     "output_type": "stream",
     "text": [
      "ParsedChatCompletionMessage[CalendarEvent](content='{\"name\":\"Refusal Meeting\",\"date\":\"2023-10-15\",\"participants\":[\"John Doe\",\"Jane Smith\",\"Emily Johnson\"]}', refusal=None, role='assistant', function_call=None, tool_calls=[], parsed=CalendarEvent(name='Refusal Meeting', date='2023-10-15', participants=['John Doe', 'Jane Smith', 'Emily Johnson']))\n",
      "name='Refusal Meeting' date='2023-10-15' participants=['John Doe', 'Jane Smith', 'Emily Johnson']\n",
      "\n",
      "{\"name\":\"Refusal Meeting\",\"date\":\"2023-10-15\",\"participants\":[\"John Doe\",\"Jane Smith\",\"Emily Johnson\"]}\n"
     ]
    },
    {
     "data": {
      "text/plain": [
       "<aiflow.AIFlow at 0x20e3d7cfac0>"
      ]
     },
     "execution_count": 8,
     "metadata": {},
     "output_type": "execute_result"
    }
   ],
   "source": [
    "flow1.generate_json_completion(\n",
    "    prompt=\"Extract the event information:Generate a refusal.\",\n",
    "    schema=CalendarEvent,\n",
    ").show_context_of(label=\"latest\")"
   ]
  },
  {
   "cell_type": "markdown",
   "metadata": {},
   "source": [
    "while doing some multiple reasoning"
   ]
  },
  {
   "cell_type": "code",
   "execution_count": 4,
   "metadata": {},
   "outputs": [
    {
     "name": "stdout",
     "output_type": "stream",
     "text": [
      "{\"travel_options\":[{\"description\":\"Fly directly from Amsterdam Schiphol Airport (AMS) to Rome Fiumicino Airport (FCO). This is the fastest option, taking about 2.5 hours.\"},{\"description\":\"Take a train from Amsterdam to Rome, which involves traveling to a major hub like Brussels or Paris first, then transferring to a high-speed train to Rome. The total journey can take around 14-16 hours.\"},{\"description\":\"Drive from Amsterdam to Rome, which is approximately 1,500 kilometers. The drive can take around 15-17 hours, depending on traffic and stops along the way.\"},{\"description\":\"Take a bus from Amsterdam to Rome. Several companies offer long-distance bus services, and the journey can take around 24-30 hours.\"},{\"description\":\"Combine travel methods by taking a train or bus to a nearby city with cheaper flights to Rome, such as Brussels or Frankfurt, and then fly to Rome from there.\"}]}\n"
     ]
    },
    {
     "data": {
      "text/plain": [
       "<aiflow.AIFlow at 0x1cbaeea5c90>"
      ]
     },
     "execution_count": 4,
     "metadata": {},
     "output_type": "execute_result"
    }
   ],
   "source": [
    "class TravelOption(BaseModel):\n",
    "    description: str\n",
    "\n",
    "class TravelOptions(BaseModel):\n",
    "    travel_options: list[TravelOption]\n",
    "\n",
    "flow1.set_verbose(False).generate_json_completion(\n",
    "    prompt=\"Give me five ways to go to Rome from Amsterdam\",\n",
    "    schema=TravelOptions,\n",
    ").show_context_of(label=\"latest\").get_context_as_json(label=\"latest\")"
   ]
  },
  {
   "cell_type": "markdown",
   "metadata": {},
   "source": [
    "# Using vectordatabase Chroma"
   ]
  },
  {
   "cell_type": "code",
   "execution_count": 27,
   "metadata": {},
   "outputs": [],
   "source": [
    "# https://docs.trychroma.com/guides\n",
    "import chromadb\n",
    "chroma_client = chromadb.Client() # chromadb.PersistentClient(path=\"/path/to/save/to\")\n",
    "collection = chroma_client.create_collection(name=\"my_collection\")"
   ]
  },
  {
   "cell_type": "code",
   "execution_count": 28,
   "metadata": {},
   "outputs": [],
   "source": [
    "collection.add(\n",
    "    documents=[ \n",
    "        \"This is a document about pineapple\",\n",
    "        \"This is a document about oranges\",\n",
    "        \"This is a document about cars\",\n",
    "        \"This is a document about pears\",\n",
    "        \"This is a document about computers\",\n",
    "        \"This is a document about fruit\",\n",
    "        \"This is a document about tropical fruits\",\n",
    "    ],\n",
    "    ids=[\"id1\", \"id2\", \"id3\", \"id4\", \"id5\", \"id6\", \"id7\"],\n",
    ")"
   ]
  },
  {
   "cell_type": "code",
   "execution_count": 29,
   "metadata": {},
   "outputs": [
    {
     "name": "stdout",
     "output_type": "stream",
     "text": [
      "{'ids': [['id1', 'id7', 'id6']], 'distances': [[1.0404009819030762, 1.0958093404769897, 1.2092766761779785]], 'metadatas': [[None, None, None]], 'embeddings': None, 'documents': [['This is a document about pineapple', 'This is a document about tropical fruits', 'This is a document about fruit']], 'uris': None, 'data': None}\n"
     ]
    }
   ],
   "source": [
    "results = collection.query(\n",
    "    query_texts=[\"This is a query document about hawaii\"], # Chroma will embed this for you\n",
    "    n_results=3 # how many results to return\n",
    ")\n",
    "print(results)"
   ]
  },
  {
   "cell_type": "code",
   "execution_count": 30,
   "metadata": {},
   "outputs": [
    {
     "data": {
      "text/plain": [
       "7"
      ]
     },
     "execution_count": 30,
     "metadata": {},
     "output_type": "execute_result"
    }
   ],
   "source": [
    "collection.peek() # returns a list of the first 10 items in the collection\n",
    "collection.count() # returns the number of items in the collection"
   ]
  },
  {
   "cell_type": "code",
   "execution_count": 31,
   "metadata": {},
   "outputs": [
    {
     "name": "stdout",
     "output_type": "stream",
     "text": [
      "This is a document about pineapple\n",
      "This is a document about tropical fruits\n",
      "This is a document about fruit\n"
     ]
    }
   ],
   "source": [
    "from aiflow import chroma_query_result_to_text\n",
    "print(chroma_query_result_to_text(results))"
   ]
  },
  {
   "cell_type": "code",
   "execution_count": 32,
   "metadata": {},
   "outputs": [
    {
     "name": "stdout",
     "output_type": "stream",
     "text": [
      "Say something really silly about this random text: [found_doc]\n",
      "\n",
      "This document is so fruity, it's about to start singing \"Strawberry Fields Forever!\"\n",
      "\n",
      "Chat Messages:\n",
      "[]\n",
      "\n",
      "Context Map:\n",
      "{\n",
      "    \"food_choice\": \"As a language model AI, I do not have the ability to eat or cravings like a regular person. But I can certainly help suggest some popular food options, such as pizza, pasta, burgers, sushi, tacos, or a sandwich. Let me know if you would like more suggestions!\",\n",
      "    \"latest_prompt\": \"Say something really silly about this random text: This is a document about pineapple\\nThis is a document about tropical fruits\\nThis is a document about fruit\",\n",
      "    \"_completion_tokens\": 63,\n",
      "    \"_prompt_tokens\": 113,\n",
      "    \"_total_tokens\": 176,\n",
      "    \"latest\": \"This document is so fruity, it's about to start singing \\\"Strawberry Fields Forever!\\\"\",\n",
      "    \"found_doc\": \"This is a document about pineapple\\nThis is a document about tropical fruits\\nThis is a document about fruit\"\n",
      "}\n",
      "\n",
      "Images Map:\n",
      "{}\n",
      "\n",
      "Audio Map:\n",
      "{}\n"
     ]
    },
    {
     "data": {
      "text/plain": [
       "<aiflow.AIFlow at 0x18f98a024a0>"
      ]
     },
     "execution_count": 32,
     "metadata": {},
     "output_type": "execute_result"
    }
   ],
   "source": [
    "sillybot.set_context_of(content=chroma_query_result_to_text(results), label=\"found_doc\")\n",
    "sillybot.generate_completion(\"Say something really silly about this random text: [found_doc]\").show_self_data()"
   ]
  },
  {
   "cell_type": "markdown",
   "metadata": {},
   "source": [
    "# Working with media"
   ]
  },
  {
   "cell_type": "markdown",
   "metadata": {},
   "source": [
    "https://platform.openai.com/docs/api-reference/images/create"
   ]
  },
  {
   "cell_type": "code",
   "execution_count": 43,
   "metadata": {},
   "outputs": [
    {
     "name": "stdout",
     "output_type": "stream",
     "text": [
      "Usage ImagesResponse(created=1719425332, data=[Image(b64_json=None, revised_prompt=None, url='https://oaidalleapiprodscus.blob.core.windows.net/private/org-qiwjaBjm9TZ58jKWInrRESeh/user-krnk9YsqIV2WoGdKtr7UH5kB/img-5tms4HKsUMvSoapHnKYmxe4t.png?st=2024-06-26T17%3A08%3A52Z&se=2024-06-26T19%3A08%3A52Z&sp=r&sv=2023-11-03&sr=b&rscd=inline&rsct=image/png&skoid=6aaadede-4fb3-4698-a8f6-684d7786b067&sktid=a48cca56-e6da-484e-a814-9c849652bcb3&skt=2024-06-25T23%3A16%3A55Z&ske=2024-06-26T23%3A16%3A55Z&sks=b&skv=2023-11-03&sig=DVol%2BEqdVLf6/KGO5/smjfMdJ657Jnv%2BQ8n2xjo500I%3D')])\n",
      "Chat Messages:\n",
      "[]\n",
      "\n",
      "Context Map:\n",
      "{\n",
      "    \"latest_image_prompt\": \"A big house in the desert.\",\n",
      "    \"latest_revised_image_prompt\": null\n",
      "}\n",
      "\n",
      "Images Map:\n",
      "{\n",
      "    \"latest_image\": \"https://oaidalleapiprodscus.blob.core.windows.net/private/org-qiwjaBjm9TZ58jKWInrRESeh/user-krnk9YsqIV2WoGdKtr7UH5kB/img-5tms4HKsUMvSoapHnKYmxe4t.png?st=2024-06-26T17%3A08%3A52Z&se=2024-06-26T19%3A08%3A52Z&sp=r&sv=2023-11-03&sr=b&rscd=inline&rsct=image/png&skoid=6aaadede-4fb3-4698-a8f6-684d7786b067&sktid=a48cca56-e6da-484e-a814-9c849652bcb3&skt=2024-06-25T23%3A16%3A55Z&ske=2024-06-26T23%3A16%3A55Z&sks=b&skv=2023-11-03&sig=DVol%2BEqdVLf6/KGO5/smjfMdJ657Jnv%2BQ8n2xjo500I%3D\"\n",
      "}\n",
      "\n",
      "Audio Map:\n",
      "{}\n",
      "Saving  latest_image generated_output/an_image.jpg\n",
      "Usage ImagesResponse(created=1719425341, data=[Image(b64_json=None, revised_prompt=None, url='https://oaidalleapiprodscus.blob.core.windows.net/private/org-qiwjaBjm9TZ58jKWInrRESeh/user-krnk9YsqIV2WoGdKtr7UH5kB/img-2hLdiHprc90MD3fgyd6q0kPw.png?st=2024-06-26T17%3A09%3A01Z&se=2024-06-26T19%3A09%3A01Z&sp=r&sv=2023-11-03&sr=b&rscd=inline&rsct=image/png&skoid=6aaadede-4fb3-4698-a8f6-684d7786b067&sktid=a48cca56-e6da-484e-a814-9c849652bcb3&skt=2024-06-26T18%3A09%3A01Z&ske=2024-06-27T18%3A09%3A01Z&sks=b&skv=2023-11-03&sig=z/3A6C6ZAaaavBySbeYkB6jT3Oui5vry2J8Z4edw%2BkI%3D')])\n"
     ]
    },
    {
     "data": {
      "text/html": [
       "<img src=\"https://oaidalleapiprodscus.blob.core.windows.net/private/org-qiwjaBjm9TZ58jKWInrRESeh/user-krnk9YsqIV2WoGdKtr7UH5kB/img-2hLdiHprc90MD3fgyd6q0kPw.png?st=2024-06-26T17%3A09%3A01Z&se=2024-06-26T19%3A09%3A01Z&sp=r&sv=2023-11-03&sr=b&rscd=inline&rsct=image/png&skoid=6aaadede-4fb3-4698-a8f6-684d7786b067&sktid=a48cca56-e6da-484e-a814-9c849652bcb3&skt=2024-06-26T18%3A09%3A01Z&ske=2024-06-27T18%3A09%3A01Z&sks=b&skv=2023-11-03&sig=z/3A6C6ZAaaavBySbeYkB6jT3Oui5vry2J8Z4edw%2BkI%3D\" />"
      ],
      "text/plain": [
       "<IPython.core.display.HTML object>"
      ]
     },
     "execution_count": 43,
     "metadata": {},
     "output_type": "execute_result"
    }
   ],
   "source": [
    "flow1.generate_image(\n",
    "    size=\"256x256\", prompt=\"A big house in the desert.\", html=False\n",
    ").show_self_data().dump_image_to_file(filename=\"generated_output/an_image.jpg\")\n",
    "\n",
    "# URLs with images expire in 1 hour\n",
    "flow1.generate_image(size=\"256x256\", prompt=\"A tomato plant on a car.\", html=True)"
   ]
  },
  {
   "cell_type": "markdown",
   "metadata": {},
   "source": [
    "https://platform.openai.com/docs/guides/vision"
   ]
  },
  {
   "cell_type": "code",
   "execution_count": 44,
   "metadata": {},
   "outputs": [
    {
     "name": "stdout",
     "output_type": "stream",
     "text": [
      "Usage ChatCompletion(id='chatcmpl-9eRNVrTTLJKUlE0lcJxqMPiXIf85T', choices=[Choice(finish_reason='stop', index=0, logprobs=None, message=ChatCompletionMessage(content='The image shows a beautiful natural landscape with a wooden boardwalk extending through a grassy field. The sky is mostly clear with some scattered clouds, and the sun appears to be providing bright, warm light, giving a peaceful and serene feel to the scene. There are trees and shrubs in the background, adding to the lush, green environment.', role='assistant', function_call=None, tool_calls=None))], created=1719425389, model='gpt-4o-2024-05-13', object='chat.completion', system_fingerprint='fp_4008e3b719', usage=CompletionUsage(completion_tokens=67, prompt_tokens=97, total_tokens=164))\n",
      "ChatCompletionMessage(content='The image shows a beautiful natural landscape with a wooden boardwalk extending through a grassy field. The sky is mostly clear with some scattered clouds, and the sun appears to be providing bright, warm light, giving a peaceful and serene feel to the scene. There are trees and shrubs in the background, adding to the lush, green environment.', role='assistant', function_call=None, tool_calls=None)\n"
     ]
    },
    {
     "data": {
      "text/plain": [
       "<aiflow.AIFlow at 0x18fac31a470>"
      ]
     },
     "execution_count": 44,
     "metadata": {},
     "output_type": "execute_result"
    }
   ],
   "source": [
    "flow1.analyze_image(\n",
    "    image=\"https://upload.wikimedia.org/wikipedia/commons/thumb/d/dd/Gfp-wisconsin-madison-the-nature-boardwalk.jpg/2560px-Gfp-wisconsin-madison-the-nature-boardwalk.jpg\"\n",
    ")"
   ]
  },
  {
   "cell_type": "markdown",
   "metadata": {},
   "source": []
  },
  {
   "cell_type": "markdown",
   "metadata": {},
   "source": [
    "https://platform.openai.com/docs/api-reference/audio/createSpeech"
   ]
  },
  {
   "cell_type": "code",
   "execution_count": 45,
   "metadata": {},
   "outputs": [
    {
     "name": "stdout",
     "output_type": "stream",
     "text": [
      "Usage <openai._legacy_response.HttpxBinaryResponseContent object at 0x0000018FAC3182E0>\n"
     ]
    },
    {
     "data": {
      "text/plain": [
       "<aiflow.AIFlow at 0x18fac31a470>"
      ]
     },
     "execution_count": 45,
     "metadata": {},
     "output_type": "execute_result"
    }
   ],
   "source": [
    "flow1.generate_speech(prompt=\"Jump for joy!\", filename=\"generated_output/jump.mp3\")"
   ]
  },
  {
   "cell_type": "markdown",
   "metadata": {},
   "source": [
    "https://platform.openai.com/docs/api-reference/audio/createTranscription"
   ]
  },
  {
   "cell_type": "code",
   "execution_count": 47,
   "metadata": {},
   "outputs": [
    {
     "name": "stdout",
     "output_type": "stream",
     "text": [
      "Usage Jump for joy.\n",
      "\n",
      "Jump for joy.\n",
      "\n"
     ]
    },
    {
     "data": {
      "text/plain": [
       "{'completion_tokens': 0, 'prompt_tokens': 0, 'total_tokens': 0}"
      ]
     },
     "execution_count": 47,
     "metadata": {},
     "output_type": "execute_result"
    }
   ],
   "source": [
    "flow1.get_token_usage()\n",
    "flow1.transcribe_audio(filename=\"generated_output/jump.mp3\").get_token_usage()"
   ]
  },
  {
   "cell_type": "markdown",
   "metadata": {},
   "source": [
    "https://platform.openai.com/docs/guides/moderation/overview"
   ]
  },
  {
   "cell_type": "code",
   "execution_count": 9,
   "metadata": {},
   "outputs": [
    {
     "name": "stdout",
     "output_type": "stream",
     "text": [
      "{\n",
      "  \"id\": \"modr-9eRs6hC8QI4P4zwzrFRmMRZRT5wGW\",\n",
      "  \"model\": \"text-moderation-007\",\n",
      "  \"results\": [\n",
      "    {\n",
      "      \"categories\": {\n",
      "        \"harassment\": false,\n",
      "        \"harassment/threatening\": false,\n",
      "        \"hate\": false,\n",
      "        \"hate/threatening\": false,\n",
      "        \"self-harm\": false,\n",
      "        \"self-harm/instructions\": false,\n",
      "        \"self-harm/intent\": false,\n",
      "        \"sexual\": false,\n",
      "        \"sexual/minors\": false,\n",
      "        \"violence\": false,\n",
      "        \"violence/graphic\": false,\n",
      "        \"self-harm\": false,\n",
      "        \"sexual/minors\": false,\n",
      "        \"hate/threatening\": false,\n",
      "        \"violence/graphic\": false,\n",
      "        \"self-harm/intent\": false,\n",
      "        \"self-harm/instructions\": false,\n",
      "        \"harassment/threatening\": false\n",
      "      },\n",
      "      \"category_scores\": {\n",
      "        \"harassment\": 0.013359030708670616,\n",
      "        \"harassment/threatening\": 2.8022158815588227e-8,\n",
      "        \"hate\": 0.00011000907397828996,\n",
      "        \"hate/threatening\": 5.6863641399729214e-12,\n",
      "        \"self-harm\": 8.968489062510798e-9,\n",
      "        \"self-harm/instructions\": 5.184334558872017e-11,\n",
      "        \"self-harm/intent\": 2.267186882676242e-9,\n",
      "        \"sexual\": 7.782967259117868e-6,\n",
      "        \"sexual/minors\": 1.4514487389760689e-8,\n",
      "        \"violence\": 5.038136805524118e-6,\n",
      "        \"violence/graphic\": 8.732466199035116e-7,\n",
      "        \"self-harm\": 8.968489062510798e-9,\n",
      "        \"sexual/minors\": 1.4514487389760689e-8,\n",
      "        \"hate/threatening\": 5.6863641399729214e-12,\n",
      "        \"violence/graphic\": 8.732466199035116e-7,\n",
      "        \"self-harm/intent\": 2.267186882676242e-9,\n",
      "        \"self-harm/instructions\": 5.184334558872017e-11,\n",
      "        \"harassment/threatening\": 2.8022158815588227e-8\n",
      "      },\n",
      "      \"flagged\": false\n",
      "    }\n",
      "  ]\n",
      "}\n"
     ]
    },
    {
     "data": {
      "text/plain": [
       "<aiflow.AIFlow at 0x215970e98d0>"
      ]
     },
     "execution_count": 9,
     "metadata": {},
     "output_type": "execute_result"
    }
   ],
   "source": [
    "flow1.moderate_content(\"This is stupid!\")"
   ]
  },
  {
   "cell_type": "markdown",
   "metadata": {},
   "source": [
    "# Youtube download, transcription and summary"
   ]
  },
  {
   "cell_type": "markdown",
   "metadata": {},
   "source": [
    "Let's transcribe and ask to summarise (will take a while)"
   ]
  },
  {
   "cell_type": "code",
   "execution_count": 4,
   "metadata": {},
   "outputs": [
    {
     "name": "stdout",
     "output_type": "stream",
     "text": [
      "[youtube] Extracting URL: https://www.youtube.com/watch?v=iMo5-4h_XwE\n",
      "[youtube] iMo5-4h_XwE: Downloading webpage\n"
     ]
    },
    {
     "name": "stdout",
     "output_type": "stream",
     "text": [
      "[youtube] iMo5-4h_XwE: Downloading ios player API JSON\n",
      "[youtube] iMo5-4h_XwE: Downloading player a9d81eca\n"
     ]
    },
    {
     "name": "stderr",
     "output_type": "stream",
     "text": [
      "WARNING: [youtube] iMo5-4h_XwE: nsig extraction failed: Some formats may be missing\n",
      "         n = R5808nggOPyFOCnLl ; player = https://www.youtube.com/s/player/a9d81eca/player_ias.vflset/en_US/base.js\n",
      "WARNING: [youtube] iMo5-4h_XwE: nsig extraction failed: Some formats may be missing\n",
      "         n = 3LslIm3dmDY43U-QR ; player = https://www.youtube.com/s/player/a9d81eca/player_ias.vflset/en_US/base.js\n"
     ]
    },
    {
     "name": "stdout",
     "output_type": "stream",
     "text": [
      "[youtube] iMo5-4h_XwE: Downloading m3u8 information\n",
      "[info] iMo5-4h_XwE: Downloading 1 format(s): 140\n",
      "[download] generated_output\\coldemail.m4a has already been downloaded\n",
      "[download] 100% of   30.32MiB\n",
      "[ExtractAudio] Not converting audio generated_output\\coldemail.m4a; file is already in target format m4a\n",
      "Error_code 0\n",
      "Download completed - generating transcript\n"
     ]
    },
    {
     "ename": "APIStatusError",
     "evalue": "Error code: 413 - {'error': {'message': '413: Maximum content size limit (26214400) exceeded (26317008 bytes read)', 'type': 'server_error', 'param': None, 'code': None}}",
     "output_type": "error",
     "traceback": [
      "\u001b[1;31m---------------------------------------------------------------------------\u001b[0m",
      "\u001b[1;31mAPIStatusError\u001b[0m                            Traceback (most recent call last)",
      "\u001b[1;32mc:\\Data\\src\\aifllow\\aiflow_demo.ipynb Cell 67\u001b[0m line \u001b[0;36m3\n\u001b[0;32m     <a href='vscode-notebook-cell:/c%3A/Data/src/aifllow/aiflow_demo.ipynb#Y123sZmlsZQ%3D%3D?line=24'>25</a>\u001b[0m     \u001b[39mprint\u001b[39m(\u001b[39m\"\u001b[39m\u001b[39mError_code\u001b[39m\u001b[39m\"\u001b[39m,error_code)\n\u001b[0;32m     <a href='vscode-notebook-cell:/c%3A/Data/src/aifllow/aiflow_demo.ipynb#Y123sZmlsZQ%3D%3D?line=26'>27</a>\u001b[0m ytbot \u001b[39m=\u001b[39m AIFlow(\n\u001b[0;32m     <a href='vscode-notebook-cell:/c%3A/Data/src/aifllow/aiflow_demo.ipynb#Y123sZmlsZQ%3D%3D?line=27'>28</a>\u001b[0m     api_key\u001b[39m=\u001b[39mAPI_KEY, model\u001b[39m=\u001b[39mModel\u001b[39m.\u001b[39mGPT_4O_MINI, max_tokens\u001b[39m=\u001b[39m\u001b[39m3000\u001b[39m, temperature\u001b[39m=\u001b[39m\u001b[39m1\u001b[39m\n\u001b[0;32m     <a href='vscode-notebook-cell:/c%3A/Data/src/aifllow/aiflow_demo.ipynb#Y123sZmlsZQ%3D%3D?line=28'>29</a>\u001b[0m )\n\u001b[0;32m     <a href='vscode-notebook-cell:/c%3A/Data/src/aifllow/aiflow_demo.ipynb#Y123sZmlsZQ%3D%3D?line=30'>31</a>\u001b[0m (\n\u001b[1;32m---> <a href='vscode-notebook-cell:/c%3A/Data/src/aifllow/aiflow_demo.ipynb#Y123sZmlsZQ%3D%3D?line=31'>32</a>\u001b[0m     ytbot\u001b[39m.\u001b[39;49mexecute_function(download_yt())\n\u001b[0;32m     <a href='vscode-notebook-cell:/c%3A/Data/src/aifllow/aiflow_demo.ipynb#Y123sZmlsZQ%3D%3D?line=32'>33</a>\u001b[0m     \u001b[39m.\u001b[39;49mexecute_function(\u001b[39mprint\u001b[39;49m(\u001b[39m\"\u001b[39;49m\u001b[39mDownload completed - generating transcript\u001b[39;49m\u001b[39m\"\u001b[39;49m))\n\u001b[0;32m     <a href='vscode-notebook-cell:/c%3A/Data/src/aifllow/aiflow_demo.ipynb#Y123sZmlsZQ%3D%3D?line=33'>34</a>\u001b[0m     \u001b[39m.\u001b[39;49mtranscribe_audio(filename\u001b[39m=\u001b[39;49m\u001b[39m\"\u001b[39;49m\u001b[39mgenerated_output/coldemail.m4a\u001b[39;49m\u001b[39m\"\u001b[39;49m, label\u001b[39m=\u001b[39;49m\u001b[39m\"\u001b[39;49m\u001b[39mtranscript\u001b[39;49m\u001b[39m\"\u001b[39;49m)\n\u001b[0;32m     <a href='vscode-notebook-cell:/c%3A/Data/src/aifllow/aiflow_demo.ipynb#Y123sZmlsZQ%3D%3D?line=34'>35</a>\u001b[0m     \u001b[39m.\u001b[39mset_model(Model\u001b[39m.\u001b[39mGPT_4O_MINI)\n\u001b[0;32m     <a href='vscode-notebook-cell:/c%3A/Data/src/aifllow/aiflow_demo.ipynb#Y123sZmlsZQ%3D%3D?line=35'>36</a>\u001b[0m     \u001b[39m.\u001b[39mgenerate_completion(\n\u001b[0;32m     <a href='vscode-notebook-cell:/c%3A/Data/src/aifllow/aiflow_demo.ipynb#Y123sZmlsZQ%3D%3D?line=36'>37</a>\u001b[0m         \u001b[39m\"\u001b[39m\u001b[39mSummarise the following text for me:\u001b[39m\u001b[39m\\n\u001b[39;00m\u001b[39m[transcript]\u001b[39m\u001b[39m\"\u001b[39m, label\u001b[39m=\u001b[39m\u001b[39m\"\u001b[39m\u001b[39msummary_transcript\u001b[39m\u001b[39m\"\u001b[39m\n\u001b[0;32m     <a href='vscode-notebook-cell:/c%3A/Data/src/aifllow/aiflow_demo.ipynb#Y123sZmlsZQ%3D%3D?line=37'>38</a>\u001b[0m     )\n\u001b[0;32m     <a href='vscode-notebook-cell:/c%3A/Data/src/aifllow/aiflow_demo.ipynb#Y123sZmlsZQ%3D%3D?line=38'>39</a>\u001b[0m     \u001b[39m.\u001b[39msave_context_to_file(\n\u001b[0;32m     <a href='vscode-notebook-cell:/c%3A/Data/src/aifllow/aiflow_demo.ipynb#Y123sZmlsZQ%3D%3D?line=39'>40</a>\u001b[0m         label\u001b[39m=\u001b[39m\u001b[39m\"\u001b[39m\u001b[39msummary_transcript\u001b[39m\u001b[39m\"\u001b[39m, filename\u001b[39m=\u001b[39m\u001b[39m\"\u001b[39m\u001b[39mgenerated_output/coldemail.txt\u001b[39m\u001b[39m\"\u001b[39m\n\u001b[0;32m     <a href='vscode-notebook-cell:/c%3A/Data/src/aifllow/aiflow_demo.ipynb#Y123sZmlsZQ%3D%3D?line=40'>41</a>\u001b[0m     )\n\u001b[0;32m     <a href='vscode-notebook-cell:/c%3A/Data/src/aifllow/aiflow_demo.ipynb#Y123sZmlsZQ%3D%3D?line=41'>42</a>\u001b[0m )\n",
      "File \u001b[1;32mc:\\Data\\src\\aifllow\\aiflow.py:1066\u001b[0m, in \u001b[0;36mAIFlow.transcribe_audio\u001b[1;34m(self, filename, model, language, prompt, response_format, temperature, label)\u001b[0m\n\u001b[0;32m   1063\u001b[0m     \u001b[39mreturn\u001b[39;00m \u001b[39mself\u001b[39m\n\u001b[0;32m   1065\u001b[0m audio_file \u001b[39m=\u001b[39m \u001b[39mopen\u001b[39m(filename, \u001b[39m\"\u001b[39m\u001b[39mrb\u001b[39m\u001b[39m\"\u001b[39m)\n\u001b[1;32m-> 1066\u001b[0m transcript \u001b[39m=\u001b[39m \u001b[39mself\u001b[39;49m\u001b[39m.\u001b[39;49mclient\u001b[39m.\u001b[39;49maudio\u001b[39m.\u001b[39;49mtranscriptions\u001b[39m.\u001b[39;49mcreate(\n\u001b[0;32m   1067\u001b[0m     model\u001b[39m=\u001b[39;49m\u001b[39m\"\u001b[39;49m\u001b[39mwhisper-1\u001b[39;49m\u001b[39m\"\u001b[39;49m,\n\u001b[0;32m   1068\u001b[0m     file\u001b[39m=\u001b[39;49maudio_file,\n\u001b[0;32m   1069\u001b[0m     language\u001b[39m=\u001b[39;49mlanguage,\n\u001b[0;32m   1070\u001b[0m     prompt\u001b[39m=\u001b[39;49mprompt,\n\u001b[0;32m   1071\u001b[0m     response_format\u001b[39m=\u001b[39;49mresponse_format,\n\u001b[0;32m   1072\u001b[0m     temperature\u001b[39m=\u001b[39;49mtemperature,\n\u001b[0;32m   1073\u001b[0m )\n\u001b[0;32m   1075\u001b[0m \u001b[39mself\u001b[39m\u001b[39m.\u001b[39mcontext_map[\u001b[39m\"\u001b[39m\u001b[39mlatest\u001b[39m\u001b[39m\"\u001b[39m] \u001b[39m=\u001b[39m transcript\n\u001b[0;32m   1076\u001b[0m \u001b[39mself\u001b[39m\u001b[39m.\u001b[39mcontext_map[label] \u001b[39m=\u001b[39m transcript\n",
      "File \u001b[1;32mc:\\Users\\tomgr\\AppData\\Local\\Programs\\Python\\Python310\\lib\\site-packages\\openai\\resources\\audio\\transcriptions.py:114\u001b[0m, in \u001b[0;36mTranscriptions.create\u001b[1;34m(self, file, model, language, prompt, response_format, temperature, timestamp_granularities, extra_headers, extra_query, extra_body, timeout)\u001b[0m\n\u001b[0;32m    110\u001b[0m \u001b[39m# It should be noted that the actual Content-Type header that will be\u001b[39;00m\n\u001b[0;32m    111\u001b[0m \u001b[39m# sent to the server will contain a `boundary` parameter, e.g.\u001b[39;00m\n\u001b[0;32m    112\u001b[0m \u001b[39m# multipart/form-data; boundary=---abc--\u001b[39;00m\n\u001b[0;32m    113\u001b[0m extra_headers \u001b[39m=\u001b[39m {\u001b[39m\"\u001b[39m\u001b[39mContent-Type\u001b[39m\u001b[39m\"\u001b[39m: \u001b[39m\"\u001b[39m\u001b[39mmultipart/form-data\u001b[39m\u001b[39m\"\u001b[39m, \u001b[39m*\u001b[39m\u001b[39m*\u001b[39m(extra_headers \u001b[39mor\u001b[39;00m {})}\n\u001b[1;32m--> 114\u001b[0m \u001b[39mreturn\u001b[39;00m \u001b[39mself\u001b[39;49m\u001b[39m.\u001b[39;49m_post(\n\u001b[0;32m    115\u001b[0m     \u001b[39m\"\u001b[39;49m\u001b[39m/audio/transcriptions\u001b[39;49m\u001b[39m\"\u001b[39;49m,\n\u001b[0;32m    116\u001b[0m     body\u001b[39m=\u001b[39;49mmaybe_transform(body, transcription_create_params\u001b[39m.\u001b[39;49mTranscriptionCreateParams),\n\u001b[0;32m    117\u001b[0m     files\u001b[39m=\u001b[39;49mfiles,\n\u001b[0;32m    118\u001b[0m     options\u001b[39m=\u001b[39;49mmake_request_options(\n\u001b[0;32m    119\u001b[0m         extra_headers\u001b[39m=\u001b[39;49mextra_headers, extra_query\u001b[39m=\u001b[39;49mextra_query, extra_body\u001b[39m=\u001b[39;49mextra_body, timeout\u001b[39m=\u001b[39;49mtimeout\n\u001b[0;32m    120\u001b[0m     ),\n\u001b[0;32m    121\u001b[0m     cast_to\u001b[39m=\u001b[39;49mTranscription,\n\u001b[0;32m    122\u001b[0m )\n",
      "File \u001b[1;32mc:\\Users\\tomgr\\AppData\\Local\\Programs\\Python\\Python310\\lib\\site-packages\\openai\\_base_client.py:1259\u001b[0m, in \u001b[0;36mSyncAPIClient.post\u001b[1;34m(self, path, cast_to, body, options, files, stream, stream_cls)\u001b[0m\n\u001b[0;32m   1245\u001b[0m \u001b[39mdef\u001b[39;00m \u001b[39mpost\u001b[39m(\n\u001b[0;32m   1246\u001b[0m     \u001b[39mself\u001b[39m,\n\u001b[0;32m   1247\u001b[0m     path: \u001b[39mstr\u001b[39m,\n\u001b[1;32m   (...)\u001b[0m\n\u001b[0;32m   1254\u001b[0m     stream_cls: \u001b[39mtype\u001b[39m[_StreamT] \u001b[39m|\u001b[39m \u001b[39mNone\u001b[39;00m \u001b[39m=\u001b[39m \u001b[39mNone\u001b[39;00m,\n\u001b[0;32m   1255\u001b[0m ) \u001b[39m-\u001b[39m\u001b[39m>\u001b[39m ResponseT \u001b[39m|\u001b[39m _StreamT:\n\u001b[0;32m   1256\u001b[0m     opts \u001b[39m=\u001b[39m FinalRequestOptions\u001b[39m.\u001b[39mconstruct(\n\u001b[0;32m   1257\u001b[0m         method\u001b[39m=\u001b[39m\u001b[39m\"\u001b[39m\u001b[39mpost\u001b[39m\u001b[39m\"\u001b[39m, url\u001b[39m=\u001b[39mpath, json_data\u001b[39m=\u001b[39mbody, files\u001b[39m=\u001b[39mto_httpx_files(files), \u001b[39m*\u001b[39m\u001b[39m*\u001b[39moptions\n\u001b[0;32m   1258\u001b[0m     )\n\u001b[1;32m-> 1259\u001b[0m     \u001b[39mreturn\u001b[39;00m cast(ResponseT, \u001b[39mself\u001b[39;49m\u001b[39m.\u001b[39;49mrequest(cast_to, opts, stream\u001b[39m=\u001b[39;49mstream, stream_cls\u001b[39m=\u001b[39;49mstream_cls))\n",
      "File \u001b[1;32mc:\\Users\\tomgr\\AppData\\Local\\Programs\\Python\\Python310\\lib\\site-packages\\openai\\_base_client.py:936\u001b[0m, in \u001b[0;36mSyncAPIClient.request\u001b[1;34m(self, cast_to, options, remaining_retries, stream, stream_cls)\u001b[0m\n\u001b[0;32m    927\u001b[0m \u001b[39mdef\u001b[39;00m \u001b[39mrequest\u001b[39m(\n\u001b[0;32m    928\u001b[0m     \u001b[39mself\u001b[39m,\n\u001b[0;32m    929\u001b[0m     cast_to: Type[ResponseT],\n\u001b[1;32m   (...)\u001b[0m\n\u001b[0;32m    934\u001b[0m     stream_cls: \u001b[39mtype\u001b[39m[_StreamT] \u001b[39m|\u001b[39m \u001b[39mNone\u001b[39;00m \u001b[39m=\u001b[39m \u001b[39mNone\u001b[39;00m,\n\u001b[0;32m    935\u001b[0m ) \u001b[39m-\u001b[39m\u001b[39m>\u001b[39m ResponseT \u001b[39m|\u001b[39m _StreamT:\n\u001b[1;32m--> 936\u001b[0m     \u001b[39mreturn\u001b[39;00m \u001b[39mself\u001b[39;49m\u001b[39m.\u001b[39;49m_request(\n\u001b[0;32m    937\u001b[0m         cast_to\u001b[39m=\u001b[39;49mcast_to,\n\u001b[0;32m    938\u001b[0m         options\u001b[39m=\u001b[39;49moptions,\n\u001b[0;32m    939\u001b[0m         stream\u001b[39m=\u001b[39;49mstream,\n\u001b[0;32m    940\u001b[0m         stream_cls\u001b[39m=\u001b[39;49mstream_cls,\n\u001b[0;32m    941\u001b[0m         remaining_retries\u001b[39m=\u001b[39;49mremaining_retries,\n\u001b[0;32m    942\u001b[0m     )\n",
      "File \u001b[1;32mc:\\Users\\tomgr\\AppData\\Local\\Programs\\Python\\Python310\\lib\\site-packages\\openai\\_base_client.py:1040\u001b[0m, in \u001b[0;36mSyncAPIClient._request\u001b[1;34m(self, cast_to, options, remaining_retries, stream, stream_cls)\u001b[0m\n\u001b[0;32m   1037\u001b[0m         err\u001b[39m.\u001b[39mresponse\u001b[39m.\u001b[39mread()\n\u001b[0;32m   1039\u001b[0m     log\u001b[39m.\u001b[39mdebug(\u001b[39m\"\u001b[39m\u001b[39mRe-raising status error\u001b[39m\u001b[39m\"\u001b[39m)\n\u001b[1;32m-> 1040\u001b[0m     \u001b[39mraise\u001b[39;00m \u001b[39mself\u001b[39m\u001b[39m.\u001b[39m_make_status_error_from_response(err\u001b[39m.\u001b[39mresponse) \u001b[39mfrom\u001b[39;00m \u001b[39mNone\u001b[39;00m\n\u001b[0;32m   1042\u001b[0m \u001b[39mreturn\u001b[39;00m \u001b[39mself\u001b[39m\u001b[39m.\u001b[39m_process_response(\n\u001b[0;32m   1043\u001b[0m     cast_to\u001b[39m=\u001b[39mcast_to,\n\u001b[0;32m   1044\u001b[0m     options\u001b[39m=\u001b[39moptions,\n\u001b[1;32m   (...)\u001b[0m\n\u001b[0;32m   1048\u001b[0m     retries_taken\u001b[39m=\u001b[39moptions\u001b[39m.\u001b[39mget_max_retries(\u001b[39mself\u001b[39m\u001b[39m.\u001b[39mmax_retries) \u001b[39m-\u001b[39m retries,\n\u001b[0;32m   1049\u001b[0m )\n",
      "\u001b[1;31mAPIStatusError\u001b[0m: Error code: 413 - {'error': {'message': '413: Maximum content size limit (26214400) exceeded (26317008 bytes read)', 'type': 'server_error', 'param': None, 'code': None}}"
     ]
    }
   ],
   "source": [
    "from aiflow import Model\n",
    "from pytube import YouTube\n",
    "\n",
    "import yt_dlp\n",
    "\n",
    "URLS = [\"https://www.youtube.com/watch?v=iMo5-4h_XwE\"]\n",
    "\n",
    "# URLS = [\"https://www.youtube.com/watch?v=7Kh_fpxP1yY\"]\n",
    "\n",
    "ydl_opts = {\n",
    "    \"format\": \"m4a/bestaudio/best\",\n",
    "    \"outtmpl\": \"generated_output/coldemail.m4a\",\n",
    "    # \"outtmpl\": \"%(id)s.%(ext)s\",\n",
    "    # ℹ️ See help(yt_dlp.postprocessor) for a list of available Postprocessors and their arguments\n",
    "    \"postprocessors\": [\n",
    "        {  # Extract audio using ffmpeg\n",
    "            \"key\": \"FFmpegExtractAudio\",\n",
    "            \"preferredcodec\": \"m4a\",\n",
    "        }\n",
    "    ],\n",
    "}\n",
    "def download_yt():\n",
    "    with yt_dlp.YoutubeDL(ydl_opts) as ydl:\n",
    "        error_code = ydl.download(URLS)\n",
    "    print(\"Error_code\",error_code)\n",
    "\n",
    "ytbot = AIFlow(\n",
    "    api_key=API_KEY, model=Model.GPT_4O_MINI, max_tokens=3000, temperature=1\n",
    ")\n",
    "\n",
    "(\n",
    "    ytbot.execute_function(download_yt())\n",
    "    .execute_function(print(\"Download completed - generating transcript\"))\n",
    "    .transcribe_audio(filename=\"generated_output/coldemail.m4a\", label=\"transcript\")\n",
    "    .set_model(Model.GPT_4O_MINI)\n",
    "    .generate_completion(\n",
    "        \"Summarise the following text for me:\\n[transcript]\", label=\"summary_transcript\"\n",
    "    )\n",
    "    .save_context_to_file(\n",
    "        label=\"summary_transcript\", filename=\"generated_output/coldemail.txt\"\n",
    "    )\n",
    ")"
   ]
  },
  {
   "cell_type": "markdown",
   "metadata": {},
   "source": [
    "# The end"
   ]
  },
  {
   "cell_type": "code",
   "execution_count": 12,
   "metadata": {},
   "outputs": [
    {
     "data": {
      "text/plain": [
       "<aiflow.AIFlow at 0x21596ec5f30>"
      ]
     },
     "execution_count": 12,
     "metadata": {},
     "output_type": "execute_result"
    }
   ],
   "source": [
    "flow1.save_internal_state(filename=\"flow1_state.json\")\n",
    "chatbot.save_internal_state(filename=\"chatbot_state.json\")\n",
    "sillybot.save_internal_state(filename=\"sillybot_state.json\")"
   ]
  }
 ],
 "metadata": {
  "kernelspec": {
   "display_name": "Python 3 (ipykernel)",
   "language": "python",
   "name": "python3"
  },
  "language_info": {
   "codemirror_mode": {
    "name": "ipython",
    "version": 3
   },
   "file_extension": ".py",
   "mimetype": "text/x-python",
   "name": "python",
   "nbconvert_exporter": "python",
   "pygments_lexer": "ipython3",
   "version": "3.10.6"
  }
 },
 "nbformat": 4,
 "nbformat_minor": 4
}
