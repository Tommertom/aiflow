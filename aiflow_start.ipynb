{
 "cells": [
  {
   "cell_type": "markdown",
   "metadata": {},
   "source": [
    "# Start book"
   ]
  },
  {
   "cell_type": "markdown",
   "metadata": {},
   "source": [
    "Here something to bootstrap your project..."
   ]
  },
  {
   "cell_type": "code",
   "execution_count": 2,
   "metadata": {},
   "outputs": [],
   "source": [
    "from dotenv import load_dotenv\n",
    "import os\n",
    "load_dotenv()\n",
    "API_KEY=os.getenv(\"API_KEY\")\n",
    "from aiflow import AIFlow\n",
    "\n",
    "# optional\n",
    "import chromadb\n",
    "\n",
    "chroma_client = chromadb.PersistentClient(\n",
    "    path=\"/path/to/save/to\"\n",
    ")  # .Client()  # chromadb"
   ]
  },
  {
   "cell_type": "code",
   "execution_count": 3,
   "metadata": {},
   "outputs": [],
   "source": [
    "flow1 = AIFlow(api_key=API_KEY,model=\"gpt-3.5-turbo\",max_tokens=3000, temperature=0)\n",
    "\n",
    "# optional\n",
    "collection = chroma_client.create_collection(name=\"my_collection\")"
   ]
  },
  {
   "cell_type": "code",
   "execution_count": null,
   "metadata": {},
   "outputs": [],
   "source": []
  }
 ],
 "metadata": {
  "kernelspec": {
   "display_name": "Python 3 (ipykernel)",
   "language": "python",
   "name": "python3"
  },
  "language_info": {
   "codemirror_mode": {
    "name": "ipython",
    "version": 3
   },
   "file_extension": ".py",
   "mimetype": "text/x-python",
   "name": "python",
   "nbconvert_exporter": "python",
   "pygments_lexer": "ipython3",
   "version": "3.10.6"
  }
 },
 "nbformat": 4,
 "nbformat_minor": 4
}
