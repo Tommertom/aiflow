{
 "cells": [
  {
   "cell_type": "markdown",
   "metadata": {},
   "source": [
    "# Start book"
   ]
  },
  {
   "cell_type": "markdown",
   "metadata": {},
   "source": [
    "Here something to bootstrap your project..."
   ]
  },
  {
   "cell_type": "code",
   "execution_count": 2,
   "metadata": {},
   "outputs": [],
   "source": [
    "from dotenv import load_dotenv\n",
    "import os\n",
    "load_dotenv()\n",
    "API_KEY=os.getenv(\"API_KEY\")\n",
    "from aiflow import AIFlow, Model\n",
    "\n",
    "# optional\n",
    "import chromadb\n",
    "from aiflow import chroma_query_result_to_text\n",
    "\n",
    "chroma_client = chromadb.PersistentClient(\n",
    "    path=\"/path/to/save/to\"\n",
    ")  # .Client()  # chromadb"
   ]
  },
  {
   "cell_type": "code",
   "execution_count": 3,
   "metadata": {},
   "outputs": [
    {
     "name": "stdout",
     "output_type": "stream",
     "text": [
      "Collection already exists. Using the existing collection.\n"
     ]
    }
   ],
   "source": [
    "flow1 = AIFlow(api_key=API_KEY,model=Model.GPT_4O_MINI,max_tokens=3000, temperature=0)\n",
    "\n",
    "# optional\n",
    "try:\n",
    "    # Attempt to get the existing collection\n",
    "    collection = chroma_client.get_collection(name=\"my_collection\")\n",
    "    print(\"Collection already exists. Using the existing collection.\")\n",
    "except Exception as e:\n",
    "    # If the collection doesn't exist, create a new one\n",
    "    if \"Collection not found\" in str(e):\n",
    "        collection = chroma_client.create_collection(name=\"my_collection\")\n",
    "        print(\"Collection created successfully.\")"
   ]
  },
  {
   "cell_type": "code",
   "execution_count": null,
   "metadata": {},
   "outputs": [],
   "source": []
  }
 ],
 "metadata": {
  "kernelspec": {
   "display_name": "Python 3 (ipykernel)",
   "language": "python",
   "name": "python3"
  },
  "language_info": {
   "codemirror_mode": {
    "name": "ipython",
    "version": 3
   },
   "file_extension": ".py",
   "mimetype": "text/x-python",
   "name": "python",
   "nbconvert_exporter": "python",
   "pygments_lexer": "ipython3",
   "version": "3.10.6"
  }
 },
 "nbformat": 4,
 "nbformat_minor": 4
}
